{
 "cells": [
  {
   "cell_type": "markdown",
   "metadata": {},
   "source": [
    "# Adults Income Prediction\n",
    "The source of this dataset is UCI Machine Learning Repository. The dataset contains data of individuals regarding their age, Employement status, Marital Status, Gender, Race, Country of Origin and their annual Income. We are given two datasets the actual training set which we will be using for some Exploratory Analysis and to train our ML algorithm in the later stage of this notebook, and the test set which would be used to make Income predictions on. \n",
    "\n",
    "We would begin by cleaning and Exploring our data in order to build some insights regarding what features are more important and what role do they play in contributing to the Annual Income of a person"
   ]
  },
  {
   "cell_type": "markdown",
   "metadata": {},
   "source": [
    "Importing Dependencies"
   ]
  },
  {
   "cell_type": "code",
   "execution_count": 1,
   "metadata": {},
   "outputs": [],
   "source": [
    "import pandas as pd\n",
    "import numpy as np\n",
    "import matplotlib.pyplot as plt\n",
    "import seaborn as sns\n",
    "sns.set()\n",
    "%matplotlib inline"
   ]
  },
  {
   "cell_type": "markdown",
   "metadata": {},
   "source": [
    "Loading the data from the system into a pandas dataframe"
   ]
  },
  {
   "cell_type": "code",
   "execution_count": 2,
   "metadata": {},
   "outputs": [],
   "source": [
    "data = pd.read_csv('D:/adults/adult.data', sep = \"\\s+\")\n",
    "test = pd.read_csv('D:/adults/adult.test', sep = \"\\s+\")"
   ]
  },
  {
   "cell_type": "markdown",
   "metadata": {},
   "source": [
    "# Cleaning the train set"
   ]
  },
  {
   "cell_type": "markdown",
   "metadata": {},
   "source": [
    "Observing the first five rows of the dataframe"
   ]
  },
  {
   "cell_type": "code",
   "execution_count": 3,
   "metadata": {},
   "outputs": [
    {
     "data": {
      "text/html": [
       "<div>\n",
       "<style scoped>\n",
       "    .dataframe tbody tr th:only-of-type {\n",
       "        vertical-align: middle;\n",
       "    }\n",
       "\n",
       "    .dataframe tbody tr th {\n",
       "        vertical-align: top;\n",
       "    }\n",
       "\n",
       "    .dataframe thead th {\n",
       "        text-align: right;\n",
       "    }\n",
       "</style>\n",
       "<table border=\"1\" class=\"dataframe\">\n",
       "  <thead>\n",
       "    <tr style=\"text-align: right;\">\n",
       "      <th></th>\n",
       "      <th>39,</th>\n",
       "      <th>State-gov,</th>\n",
       "      <th>77516,</th>\n",
       "      <th>Bachelors,</th>\n",
       "      <th>13,</th>\n",
       "      <th>Never-married,</th>\n",
       "      <th>Adm-clerical,</th>\n",
       "      <th>Not-in-family,</th>\n",
       "      <th>White,</th>\n",
       "      <th>Male,</th>\n",
       "      <th>2174,</th>\n",
       "      <th>0,</th>\n",
       "      <th>40,</th>\n",
       "      <th>United-States,</th>\n",
       "      <th>&lt;=50K</th>\n",
       "    </tr>\n",
       "  </thead>\n",
       "  <tbody>\n",
       "    <tr>\n",
       "      <th>0</th>\n",
       "      <td>50,</td>\n",
       "      <td>Self-emp-not-inc,</td>\n",
       "      <td>83311,</td>\n",
       "      <td>Bachelors,</td>\n",
       "      <td>13,</td>\n",
       "      <td>Married-civ-spouse,</td>\n",
       "      <td>Exec-managerial,</td>\n",
       "      <td>Husband,</td>\n",
       "      <td>White,</td>\n",
       "      <td>Male,</td>\n",
       "      <td>0,</td>\n",
       "      <td>0,</td>\n",
       "      <td>13,</td>\n",
       "      <td>United-States,</td>\n",
       "      <td>&lt;=50K</td>\n",
       "    </tr>\n",
       "    <tr>\n",
       "      <th>1</th>\n",
       "      <td>38,</td>\n",
       "      <td>Private,</td>\n",
       "      <td>215646,</td>\n",
       "      <td>HS-grad,</td>\n",
       "      <td>9,</td>\n",
       "      <td>Divorced,</td>\n",
       "      <td>Handlers-cleaners,</td>\n",
       "      <td>Not-in-family,</td>\n",
       "      <td>White,</td>\n",
       "      <td>Male,</td>\n",
       "      <td>0,</td>\n",
       "      <td>0,</td>\n",
       "      <td>40,</td>\n",
       "      <td>United-States,</td>\n",
       "      <td>&lt;=50K</td>\n",
       "    </tr>\n",
       "    <tr>\n",
       "      <th>2</th>\n",
       "      <td>53,</td>\n",
       "      <td>Private,</td>\n",
       "      <td>234721,</td>\n",
       "      <td>11th,</td>\n",
       "      <td>7,</td>\n",
       "      <td>Married-civ-spouse,</td>\n",
       "      <td>Handlers-cleaners,</td>\n",
       "      <td>Husband,</td>\n",
       "      <td>Black,</td>\n",
       "      <td>Male,</td>\n",
       "      <td>0,</td>\n",
       "      <td>0,</td>\n",
       "      <td>40,</td>\n",
       "      <td>United-States,</td>\n",
       "      <td>&lt;=50K</td>\n",
       "    </tr>\n",
       "    <tr>\n",
       "      <th>3</th>\n",
       "      <td>28,</td>\n",
       "      <td>Private,</td>\n",
       "      <td>338409,</td>\n",
       "      <td>Bachelors,</td>\n",
       "      <td>13,</td>\n",
       "      <td>Married-civ-spouse,</td>\n",
       "      <td>Prof-specialty,</td>\n",
       "      <td>Wife,</td>\n",
       "      <td>Black,</td>\n",
       "      <td>Female,</td>\n",
       "      <td>0,</td>\n",
       "      <td>0,</td>\n",
       "      <td>40,</td>\n",
       "      <td>Cuba,</td>\n",
       "      <td>&lt;=50K</td>\n",
       "    </tr>\n",
       "    <tr>\n",
       "      <th>4</th>\n",
       "      <td>37,</td>\n",
       "      <td>Private,</td>\n",
       "      <td>284582,</td>\n",
       "      <td>Masters,</td>\n",
       "      <td>14,</td>\n",
       "      <td>Married-civ-spouse,</td>\n",
       "      <td>Exec-managerial,</td>\n",
       "      <td>Wife,</td>\n",
       "      <td>White,</td>\n",
       "      <td>Female,</td>\n",
       "      <td>0,</td>\n",
       "      <td>0,</td>\n",
       "      <td>40,</td>\n",
       "      <td>United-States,</td>\n",
       "      <td>&lt;=50K</td>\n",
       "    </tr>\n",
       "  </tbody>\n",
       "</table>\n",
       "</div>"
      ],
      "text/plain": [
       "   39,         State-gov,   77516,  Bachelors,  13,       Never-married,  \\\n",
       "0  50,  Self-emp-not-inc,   83311,  Bachelors,  13,  Married-civ-spouse,   \n",
       "1  38,           Private,  215646,    HS-grad,   9,            Divorced,   \n",
       "2  53,           Private,  234721,       11th,   7,  Married-civ-spouse,   \n",
       "3  28,           Private,  338409,  Bachelors,  13,  Married-civ-spouse,   \n",
       "4  37,           Private,  284582,    Masters,  14,  Married-civ-spouse,   \n",
       "\n",
       "        Adm-clerical,  Not-in-family,  White,    Male, 2174,  0,  40,  \\\n",
       "0    Exec-managerial,        Husband,  White,    Male,    0,  0,  13,   \n",
       "1  Handlers-cleaners,  Not-in-family,  White,    Male,    0,  0,  40,   \n",
       "2  Handlers-cleaners,        Husband,  Black,    Male,    0,  0,  40,   \n",
       "3     Prof-specialty,           Wife,  Black,  Female,    0,  0,  40,   \n",
       "4    Exec-managerial,           Wife,  White,  Female,    0,  0,  40,   \n",
       "\n",
       "   United-States,  <=50K  \n",
       "0  United-States,  <=50K  \n",
       "1  United-States,  <=50K  \n",
       "2  United-States,  <=50K  \n",
       "3           Cuba,  <=50K  \n",
       "4  United-States,  <=50K  "
      ]
     },
     "execution_count": 3,
     "metadata": {},
     "output_type": "execute_result"
    }
   ],
   "source": [
    "data.head()"
   ]
  },
  {
   "cell_type": "markdown",
   "metadata": {},
   "source": [
    "Dropping the columns that resemble no information. The data source too as no mention of what information do these columns provide."
   ]
  },
  {
   "cell_type": "code",
   "execution_count": 4,
   "metadata": {},
   "outputs": [],
   "source": [
    "data.drop(columns = ['77516,','13,','2174,','0,'], inplace = True)"
   ]
  },
  {
   "cell_type": "markdown",
   "metadata": {},
   "source": [
    "Renaming all the remaining columns with meaningful names after checking with the source"
   ]
  },
  {
   "cell_type": "code",
   "execution_count": 5,
   "metadata": {},
   "outputs": [],
   "source": [
    "data.columns = ['Age','Employment_type','Education','Marital_status','Occupation','Relationship','Race','Gender',\n",
    "                'Work_hours_per_week','Native_country','Income']"
   ]
  },
  {
   "cell_type": "markdown",
   "metadata": {},
   "source": [
    "Removing unnecessary commas from the data"
   ]
  },
  {
   "cell_type": "code",
   "execution_count": 6,
   "metadata": {},
   "outputs": [],
   "source": [
    "cols = data.columns\n",
    "data[cols] = data[cols].replace({',':''}, regex = True)"
   ]
  },
  {
   "cell_type": "code",
   "execution_count": 7,
   "metadata": {},
   "outputs": [
    {
     "data": {
      "text/html": [
       "<div>\n",
       "<style scoped>\n",
       "    .dataframe tbody tr th:only-of-type {\n",
       "        vertical-align: middle;\n",
       "    }\n",
       "\n",
       "    .dataframe tbody tr th {\n",
       "        vertical-align: top;\n",
       "    }\n",
       "\n",
       "    .dataframe thead th {\n",
       "        text-align: right;\n",
       "    }\n",
       "</style>\n",
       "<table border=\"1\" class=\"dataframe\">\n",
       "  <thead>\n",
       "    <tr style=\"text-align: right;\">\n",
       "      <th></th>\n",
       "      <th>Age</th>\n",
       "      <th>Employment_type</th>\n",
       "      <th>Education</th>\n",
       "      <th>Marital_status</th>\n",
       "      <th>Occupation</th>\n",
       "      <th>Relationship</th>\n",
       "      <th>Race</th>\n",
       "      <th>Gender</th>\n",
       "      <th>Work_hours_per_week</th>\n",
       "      <th>Native_country</th>\n",
       "      <th>Income</th>\n",
       "    </tr>\n",
       "  </thead>\n",
       "  <tbody>\n",
       "    <tr>\n",
       "      <th>0</th>\n",
       "      <td>50</td>\n",
       "      <td>Self-emp-not-inc</td>\n",
       "      <td>Bachelors</td>\n",
       "      <td>Married-civ-spouse</td>\n",
       "      <td>Exec-managerial</td>\n",
       "      <td>Husband</td>\n",
       "      <td>White</td>\n",
       "      <td>Male</td>\n",
       "      <td>13</td>\n",
       "      <td>United-States</td>\n",
       "      <td>&lt;=50K</td>\n",
       "    </tr>\n",
       "    <tr>\n",
       "      <th>1</th>\n",
       "      <td>38</td>\n",
       "      <td>Private</td>\n",
       "      <td>HS-grad</td>\n",
       "      <td>Divorced</td>\n",
       "      <td>Handlers-cleaners</td>\n",
       "      <td>Not-in-family</td>\n",
       "      <td>White</td>\n",
       "      <td>Male</td>\n",
       "      <td>40</td>\n",
       "      <td>United-States</td>\n",
       "      <td>&lt;=50K</td>\n",
       "    </tr>\n",
       "    <tr>\n",
       "      <th>2</th>\n",
       "      <td>53</td>\n",
       "      <td>Private</td>\n",
       "      <td>11th</td>\n",
       "      <td>Married-civ-spouse</td>\n",
       "      <td>Handlers-cleaners</td>\n",
       "      <td>Husband</td>\n",
       "      <td>Black</td>\n",
       "      <td>Male</td>\n",
       "      <td>40</td>\n",
       "      <td>United-States</td>\n",
       "      <td>&lt;=50K</td>\n",
       "    </tr>\n",
       "    <tr>\n",
       "      <th>3</th>\n",
       "      <td>28</td>\n",
       "      <td>Private</td>\n",
       "      <td>Bachelors</td>\n",
       "      <td>Married-civ-spouse</td>\n",
       "      <td>Prof-specialty</td>\n",
       "      <td>Wife</td>\n",
       "      <td>Black</td>\n",
       "      <td>Female</td>\n",
       "      <td>40</td>\n",
       "      <td>Cuba</td>\n",
       "      <td>&lt;=50K</td>\n",
       "    </tr>\n",
       "    <tr>\n",
       "      <th>4</th>\n",
       "      <td>37</td>\n",
       "      <td>Private</td>\n",
       "      <td>Masters</td>\n",
       "      <td>Married-civ-spouse</td>\n",
       "      <td>Exec-managerial</td>\n",
       "      <td>Wife</td>\n",
       "      <td>White</td>\n",
       "      <td>Female</td>\n",
       "      <td>40</td>\n",
       "      <td>United-States</td>\n",
       "      <td>&lt;=50K</td>\n",
       "    </tr>\n",
       "  </tbody>\n",
       "</table>\n",
       "</div>"
      ],
      "text/plain": [
       "  Age   Employment_type  Education      Marital_status         Occupation  \\\n",
       "0  50  Self-emp-not-inc  Bachelors  Married-civ-spouse    Exec-managerial   \n",
       "1  38           Private    HS-grad            Divorced  Handlers-cleaners   \n",
       "2  53           Private       11th  Married-civ-spouse  Handlers-cleaners   \n",
       "3  28           Private  Bachelors  Married-civ-spouse     Prof-specialty   \n",
       "4  37           Private    Masters  Married-civ-spouse    Exec-managerial   \n",
       "\n",
       "    Relationship   Race  Gender Work_hours_per_week Native_country Income  \n",
       "0        Husband  White    Male                  13  United-States  <=50K  \n",
       "1  Not-in-family  White    Male                  40  United-States  <=50K  \n",
       "2        Husband  Black    Male                  40  United-States  <=50K  \n",
       "3           Wife  Black  Female                  40           Cuba  <=50K  \n",
       "4           Wife  White  Female                  40  United-States  <=50K  "
      ]
     },
     "execution_count": 7,
     "metadata": {},
     "output_type": "execute_result"
    }
   ],
   "source": [
    "data.head()"
   ]
  },
  {
   "cell_type": "markdown",
   "metadata": {},
   "source": [
    "# Cleaning the test set"
   ]
  },
  {
   "cell_type": "markdown",
   "metadata": {},
   "source": [
    "Observing the first five rows of the test data"
   ]
  },
  {
   "cell_type": "code",
   "execution_count": 8,
   "metadata": {},
   "outputs": [
    {
     "data": {
      "text/html": [
       "<div>\n",
       "<style scoped>\n",
       "    .dataframe tbody tr th:only-of-type {\n",
       "        vertical-align: middle;\n",
       "    }\n",
       "\n",
       "    .dataframe tbody tr th {\n",
       "        vertical-align: top;\n",
       "    }\n",
       "\n",
       "    .dataframe thead th {\n",
       "        text-align: right;\n",
       "    }\n",
       "</style>\n",
       "<table border=\"1\" class=\"dataframe\">\n",
       "  <thead>\n",
       "    <tr style=\"text-align: right;\">\n",
       "      <th></th>\n",
       "      <th></th>\n",
       "      <th></th>\n",
       "      <th></th>\n",
       "      <th></th>\n",
       "      <th></th>\n",
       "      <th></th>\n",
       "      <th></th>\n",
       "      <th></th>\n",
       "      <th></th>\n",
       "      <th></th>\n",
       "      <th></th>\n",
       "      <th>|1x3</th>\n",
       "      <th>Cross</th>\n",
       "      <th>validator</th>\n",
       "    </tr>\n",
       "  </thead>\n",
       "  <tbody>\n",
       "    <tr>\n",
       "      <th>25,</th>\n",
       "      <th>Private,</th>\n",
       "      <th>226802,</th>\n",
       "      <th>11th,</th>\n",
       "      <th>7,</th>\n",
       "      <th>Never-married,</th>\n",
       "      <th>Machine-op-inspct,</th>\n",
       "      <th>Own-child,</th>\n",
       "      <th>Black,</th>\n",
       "      <th>Male,</th>\n",
       "      <th>0,</th>\n",
       "      <th>0,</th>\n",
       "      <td>40,</td>\n",
       "      <td>United-States,</td>\n",
       "      <td>&lt;=50K.</td>\n",
       "    </tr>\n",
       "    <tr>\n",
       "      <th>38,</th>\n",
       "      <th>Private,</th>\n",
       "      <th>89814,</th>\n",
       "      <th>HS-grad,</th>\n",
       "      <th>9,</th>\n",
       "      <th>Married-civ-spouse,</th>\n",
       "      <th>Farming-fishing,</th>\n",
       "      <th>Husband,</th>\n",
       "      <th>White,</th>\n",
       "      <th>Male,</th>\n",
       "      <th>0,</th>\n",
       "      <th>0,</th>\n",
       "      <td>50,</td>\n",
       "      <td>United-States,</td>\n",
       "      <td>&lt;=50K.</td>\n",
       "    </tr>\n",
       "    <tr>\n",
       "      <th>28,</th>\n",
       "      <th>Local-gov,</th>\n",
       "      <th>336951,</th>\n",
       "      <th>Assoc-acdm,</th>\n",
       "      <th>12,</th>\n",
       "      <th>Married-civ-spouse,</th>\n",
       "      <th>Protective-serv,</th>\n",
       "      <th>Husband,</th>\n",
       "      <th>White,</th>\n",
       "      <th>Male,</th>\n",
       "      <th>0,</th>\n",
       "      <th>0,</th>\n",
       "      <td>40,</td>\n",
       "      <td>United-States,</td>\n",
       "      <td>&gt;50K.</td>\n",
       "    </tr>\n",
       "    <tr>\n",
       "      <th>44,</th>\n",
       "      <th>Private,</th>\n",
       "      <th>160323,</th>\n",
       "      <th>Some-college,</th>\n",
       "      <th>10,</th>\n",
       "      <th>Married-civ-spouse,</th>\n",
       "      <th>Machine-op-inspct,</th>\n",
       "      <th>Husband,</th>\n",
       "      <th>Black,</th>\n",
       "      <th>Male,</th>\n",
       "      <th>7688,</th>\n",
       "      <th>0,</th>\n",
       "      <td>40,</td>\n",
       "      <td>United-States,</td>\n",
       "      <td>&gt;50K.</td>\n",
       "    </tr>\n",
       "    <tr>\n",
       "      <th>18,</th>\n",
       "      <th>?,</th>\n",
       "      <th>103497,</th>\n",
       "      <th>Some-college,</th>\n",
       "      <th>10,</th>\n",
       "      <th>Never-married,</th>\n",
       "      <th>?,</th>\n",
       "      <th>Own-child,</th>\n",
       "      <th>White,</th>\n",
       "      <th>Female,</th>\n",
       "      <th>0,</th>\n",
       "      <th>0,</th>\n",
       "      <td>30,</td>\n",
       "      <td>United-States,</td>\n",
       "      <td>&lt;=50K.</td>\n",
       "    </tr>\n",
       "  </tbody>\n",
       "</table>\n",
       "</div>"
      ],
      "text/plain": [
       "                                                                                                                   |1x3  \\\n",
       "25, Private,   226802, 11th,         7,  Never-married,      Machine-op-inspct, Own-child, Black, Male,   0,    0,  40,   \n",
       "38, Private,   89814,  HS-grad,      9,  Married-civ-spouse, Farming-fishing,   Husband,   White, Male,   0,    0,  50,   \n",
       "28, Local-gov, 336951, Assoc-acdm,   12, Married-civ-spouse, Protective-serv,   Husband,   White, Male,   0,    0,  40,   \n",
       "44, Private,   160323, Some-college, 10, Married-civ-spouse, Machine-op-inspct, Husband,   Black, Male,   7688, 0,  40,   \n",
       "18, ?,         103497, Some-college, 10, Never-married,      ?,                 Own-child, White, Female, 0,    0,  30,   \n",
       "\n",
       "                                                                                                                             Cross  \\\n",
       "25, Private,   226802, 11th,         7,  Never-married,      Machine-op-inspct, Own-child, Black, Male,   0,    0,  United-States,   \n",
       "38, Private,   89814,  HS-grad,      9,  Married-civ-spouse, Farming-fishing,   Husband,   White, Male,   0,    0,  United-States,   \n",
       "28, Local-gov, 336951, Assoc-acdm,   12, Married-civ-spouse, Protective-serv,   Husband,   White, Male,   0,    0,  United-States,   \n",
       "44, Private,   160323, Some-college, 10, Married-civ-spouse, Machine-op-inspct, Husband,   Black, Male,   7688, 0,  United-States,   \n",
       "18, ?,         103497, Some-college, 10, Never-married,      ?,                 Own-child, White, Female, 0,    0,  United-States,   \n",
       "\n",
       "                                                                                                                   validator  \n",
       "25, Private,   226802, 11th,         7,  Never-married,      Machine-op-inspct, Own-child, Black, Male,   0,    0,    <=50K.  \n",
       "38, Private,   89814,  HS-grad,      9,  Married-civ-spouse, Farming-fishing,   Husband,   White, Male,   0,    0,    <=50K.  \n",
       "28, Local-gov, 336951, Assoc-acdm,   12, Married-civ-spouse, Protective-serv,   Husband,   White, Male,   0,    0,     >50K.  \n",
       "44, Private,   160323, Some-college, 10, Married-civ-spouse, Machine-op-inspct, Husband,   Black, Male,   7688, 0,     >50K.  \n",
       "18, ?,         103497, Some-college, 10, Never-married,      ?,                 Own-child, White, Female, 0,    0,    <=50K.  "
      ]
     },
     "execution_count": 8,
     "metadata": {},
     "output_type": "execute_result"
    }
   ],
   "source": [
    "test.head()"
   ]
  },
  {
   "cell_type": "markdown",
   "metadata": {},
   "source": [
    "Most of the columns in the test set seem to have been indexed. So, resetting the index and then renaming the columns with names according to the information they provide."
   ]
  },
  {
   "cell_type": "code",
   "execution_count": 9,
   "metadata": {},
   "outputs": [
    {
     "data": {
      "text/html": [
       "<div>\n",
       "<style scoped>\n",
       "    .dataframe tbody tr th:only-of-type {\n",
       "        vertical-align: middle;\n",
       "    }\n",
       "\n",
       "    .dataframe tbody tr th {\n",
       "        vertical-align: top;\n",
       "    }\n",
       "\n",
       "    .dataframe thead th {\n",
       "        text-align: right;\n",
       "    }\n",
       "</style>\n",
       "<table border=\"1\" class=\"dataframe\">\n",
       "  <thead>\n",
       "    <tr style=\"text-align: right;\">\n",
       "      <th></th>\n",
       "      <th>level_0</th>\n",
       "      <th>level_1</th>\n",
       "      <th>level_2</th>\n",
       "      <th>level_3</th>\n",
       "      <th>level_4</th>\n",
       "      <th>level_5</th>\n",
       "      <th>level_6</th>\n",
       "      <th>level_7</th>\n",
       "      <th>level_8</th>\n",
       "      <th>level_9</th>\n",
       "      <th>level_10</th>\n",
       "      <th>level_11</th>\n",
       "      <th>|1x3</th>\n",
       "      <th>Cross</th>\n",
       "      <th>validator</th>\n",
       "    </tr>\n",
       "  </thead>\n",
       "  <tbody>\n",
       "    <tr>\n",
       "      <th>0</th>\n",
       "      <td>25,</td>\n",
       "      <td>Private,</td>\n",
       "      <td>226802,</td>\n",
       "      <td>11th,</td>\n",
       "      <td>7,</td>\n",
       "      <td>Never-married,</td>\n",
       "      <td>Machine-op-inspct,</td>\n",
       "      <td>Own-child,</td>\n",
       "      <td>Black,</td>\n",
       "      <td>Male,</td>\n",
       "      <td>0,</td>\n",
       "      <td>0,</td>\n",
       "      <td>40,</td>\n",
       "      <td>United-States,</td>\n",
       "      <td>&lt;=50K.</td>\n",
       "    </tr>\n",
       "    <tr>\n",
       "      <th>1</th>\n",
       "      <td>38,</td>\n",
       "      <td>Private,</td>\n",
       "      <td>89814,</td>\n",
       "      <td>HS-grad,</td>\n",
       "      <td>9,</td>\n",
       "      <td>Married-civ-spouse,</td>\n",
       "      <td>Farming-fishing,</td>\n",
       "      <td>Husband,</td>\n",
       "      <td>White,</td>\n",
       "      <td>Male,</td>\n",
       "      <td>0,</td>\n",
       "      <td>0,</td>\n",
       "      <td>50,</td>\n",
       "      <td>United-States,</td>\n",
       "      <td>&lt;=50K.</td>\n",
       "    </tr>\n",
       "    <tr>\n",
       "      <th>2</th>\n",
       "      <td>28,</td>\n",
       "      <td>Local-gov,</td>\n",
       "      <td>336951,</td>\n",
       "      <td>Assoc-acdm,</td>\n",
       "      <td>12,</td>\n",
       "      <td>Married-civ-spouse,</td>\n",
       "      <td>Protective-serv,</td>\n",
       "      <td>Husband,</td>\n",
       "      <td>White,</td>\n",
       "      <td>Male,</td>\n",
       "      <td>0,</td>\n",
       "      <td>0,</td>\n",
       "      <td>40,</td>\n",
       "      <td>United-States,</td>\n",
       "      <td>&gt;50K.</td>\n",
       "    </tr>\n",
       "    <tr>\n",
       "      <th>3</th>\n",
       "      <td>44,</td>\n",
       "      <td>Private,</td>\n",
       "      <td>160323,</td>\n",
       "      <td>Some-college,</td>\n",
       "      <td>10,</td>\n",
       "      <td>Married-civ-spouse,</td>\n",
       "      <td>Machine-op-inspct,</td>\n",
       "      <td>Husband,</td>\n",
       "      <td>Black,</td>\n",
       "      <td>Male,</td>\n",
       "      <td>7688,</td>\n",
       "      <td>0,</td>\n",
       "      <td>40,</td>\n",
       "      <td>United-States,</td>\n",
       "      <td>&gt;50K.</td>\n",
       "    </tr>\n",
       "    <tr>\n",
       "      <th>4</th>\n",
       "      <td>18,</td>\n",
       "      <td>?,</td>\n",
       "      <td>103497,</td>\n",
       "      <td>Some-college,</td>\n",
       "      <td>10,</td>\n",
       "      <td>Never-married,</td>\n",
       "      <td>?,</td>\n",
       "      <td>Own-child,</td>\n",
       "      <td>White,</td>\n",
       "      <td>Female,</td>\n",
       "      <td>0,</td>\n",
       "      <td>0,</td>\n",
       "      <td>30,</td>\n",
       "      <td>United-States,</td>\n",
       "      <td>&lt;=50K.</td>\n",
       "    </tr>\n",
       "  </tbody>\n",
       "</table>\n",
       "</div>"
      ],
      "text/plain": [
       "  level_0     level_1  level_2        level_3 level_4              level_5  \\\n",
       "0     25,    Private,  226802,          11th,      7,       Never-married,   \n",
       "1     38,    Private,   89814,       HS-grad,      9,  Married-civ-spouse,   \n",
       "2     28,  Local-gov,  336951,    Assoc-acdm,     12,  Married-civ-spouse,   \n",
       "3     44,    Private,  160323,  Some-college,     10,  Married-civ-spouse,   \n",
       "4     18,          ?,  103497,  Some-college,     10,       Never-married,   \n",
       "\n",
       "              level_6     level_7 level_8  level_9 level_10 level_11 |1x3  \\\n",
       "0  Machine-op-inspct,  Own-child,  Black,    Male,       0,       0,  40,   \n",
       "1    Farming-fishing,    Husband,  White,    Male,       0,       0,  50,   \n",
       "2    Protective-serv,    Husband,  White,    Male,       0,       0,  40,   \n",
       "3  Machine-op-inspct,    Husband,  Black,    Male,    7688,       0,  40,   \n",
       "4                  ?,  Own-child,  White,  Female,       0,       0,  30,   \n",
       "\n",
       "            Cross validator  \n",
       "0  United-States,    <=50K.  \n",
       "1  United-States,    <=50K.  \n",
       "2  United-States,     >50K.  \n",
       "3  United-States,     >50K.  \n",
       "4  United-States,    <=50K.  "
      ]
     },
     "execution_count": 9,
     "metadata": {},
     "output_type": "execute_result"
    }
   ],
   "source": [
    "test.reset_index(inplace = True)\n",
    "test.head()"
   ]
  },
  {
   "cell_type": "markdown",
   "metadata": {},
   "source": [
    "Dropping unnecessary columns as was done with the training set"
   ]
  },
  {
   "cell_type": "code",
   "execution_count": 10,
   "metadata": {},
   "outputs": [],
   "source": [
    "test.drop(columns = ['level_2','level_4','level_10','level_11'], inplace = True)"
   ]
  },
  {
   "cell_type": "markdown",
   "metadata": {},
   "source": [
    "Renaming all the columns of the test set"
   ]
  },
  {
   "cell_type": "code",
   "execution_count": 11,
   "metadata": {},
   "outputs": [],
   "source": [
    "test.columns = ['Age','Employment_type','Education','Marital_status','Occupation','Relationship','Race','Gender',\n",
    "                'Work_hours_per_week','Native_country','Income']"
   ]
  },
  {
   "cell_type": "markdown",
   "metadata": {},
   "source": [
    "Removing unnecessary commas from the data"
   ]
  },
  {
   "cell_type": "code",
   "execution_count": 12,
   "metadata": {},
   "outputs": [],
   "source": [
    "cols_1 = test.columns\n",
    "test[cols_1] = test[cols_1].replace({',':''}, regex = True)"
   ]
  },
  {
   "cell_type": "code",
   "execution_count": 13,
   "metadata": {},
   "outputs": [
    {
     "data": {
      "text/html": [
       "<div>\n",
       "<style scoped>\n",
       "    .dataframe tbody tr th:only-of-type {\n",
       "        vertical-align: middle;\n",
       "    }\n",
       "\n",
       "    .dataframe tbody tr th {\n",
       "        vertical-align: top;\n",
       "    }\n",
       "\n",
       "    .dataframe thead th {\n",
       "        text-align: right;\n",
       "    }\n",
       "</style>\n",
       "<table border=\"1\" class=\"dataframe\">\n",
       "  <thead>\n",
       "    <tr style=\"text-align: right;\">\n",
       "      <th></th>\n",
       "      <th>Age</th>\n",
       "      <th>Employment_type</th>\n",
       "      <th>Education</th>\n",
       "      <th>Marital_status</th>\n",
       "      <th>Occupation</th>\n",
       "      <th>Relationship</th>\n",
       "      <th>Race</th>\n",
       "      <th>Gender</th>\n",
       "      <th>Work_hours_per_week</th>\n",
       "      <th>Native_country</th>\n",
       "      <th>Income</th>\n",
       "    </tr>\n",
       "  </thead>\n",
       "  <tbody>\n",
       "    <tr>\n",
       "      <th>0</th>\n",
       "      <td>25</td>\n",
       "      <td>Private</td>\n",
       "      <td>11th</td>\n",
       "      <td>Never-married</td>\n",
       "      <td>Machine-op-inspct</td>\n",
       "      <td>Own-child</td>\n",
       "      <td>Black</td>\n",
       "      <td>Male</td>\n",
       "      <td>40</td>\n",
       "      <td>United-States</td>\n",
       "      <td>&lt;=50K.</td>\n",
       "    </tr>\n",
       "    <tr>\n",
       "      <th>1</th>\n",
       "      <td>38</td>\n",
       "      <td>Private</td>\n",
       "      <td>HS-grad</td>\n",
       "      <td>Married-civ-spouse</td>\n",
       "      <td>Farming-fishing</td>\n",
       "      <td>Husband</td>\n",
       "      <td>White</td>\n",
       "      <td>Male</td>\n",
       "      <td>50</td>\n",
       "      <td>United-States</td>\n",
       "      <td>&lt;=50K.</td>\n",
       "    </tr>\n",
       "    <tr>\n",
       "      <th>2</th>\n",
       "      <td>28</td>\n",
       "      <td>Local-gov</td>\n",
       "      <td>Assoc-acdm</td>\n",
       "      <td>Married-civ-spouse</td>\n",
       "      <td>Protective-serv</td>\n",
       "      <td>Husband</td>\n",
       "      <td>White</td>\n",
       "      <td>Male</td>\n",
       "      <td>40</td>\n",
       "      <td>United-States</td>\n",
       "      <td>&gt;50K.</td>\n",
       "    </tr>\n",
       "    <tr>\n",
       "      <th>3</th>\n",
       "      <td>44</td>\n",
       "      <td>Private</td>\n",
       "      <td>Some-college</td>\n",
       "      <td>Married-civ-spouse</td>\n",
       "      <td>Machine-op-inspct</td>\n",
       "      <td>Husband</td>\n",
       "      <td>Black</td>\n",
       "      <td>Male</td>\n",
       "      <td>40</td>\n",
       "      <td>United-States</td>\n",
       "      <td>&gt;50K.</td>\n",
       "    </tr>\n",
       "    <tr>\n",
       "      <th>4</th>\n",
       "      <td>18</td>\n",
       "      <td>?</td>\n",
       "      <td>Some-college</td>\n",
       "      <td>Never-married</td>\n",
       "      <td>?</td>\n",
       "      <td>Own-child</td>\n",
       "      <td>White</td>\n",
       "      <td>Female</td>\n",
       "      <td>30</td>\n",
       "      <td>United-States</td>\n",
       "      <td>&lt;=50K.</td>\n",
       "    </tr>\n",
       "  </tbody>\n",
       "</table>\n",
       "</div>"
      ],
      "text/plain": [
       "  Age Employment_type     Education      Marital_status         Occupation  \\\n",
       "0  25         Private          11th       Never-married  Machine-op-inspct   \n",
       "1  38         Private       HS-grad  Married-civ-spouse    Farming-fishing   \n",
       "2  28       Local-gov    Assoc-acdm  Married-civ-spouse    Protective-serv   \n",
       "3  44         Private  Some-college  Married-civ-spouse  Machine-op-inspct   \n",
       "4  18               ?  Some-college       Never-married                  ?   \n",
       "\n",
       "  Relationship   Race  Gender Work_hours_per_week Native_country  Income  \n",
       "0    Own-child  Black    Male                  40  United-States  <=50K.  \n",
       "1      Husband  White    Male                  50  United-States  <=50K.  \n",
       "2      Husband  White    Male                  40  United-States   >50K.  \n",
       "3      Husband  Black    Male                  40  United-States   >50K.  \n",
       "4    Own-child  White  Female                  30  United-States  <=50K.  "
      ]
     },
     "execution_count": 13,
     "metadata": {},
     "output_type": "execute_result"
    }
   ],
   "source": [
    "test.head()"
   ]
  },
  {
   "cell_type": "markdown",
   "metadata": {},
   "source": [
    "# Exploratory Data Analysis"
   ]
  },
  {
   "cell_type": "code",
   "execution_count": 14,
   "metadata": {},
   "outputs": [
    {
     "data": {
      "text/html": [
       "<div>\n",
       "<style scoped>\n",
       "    .dataframe tbody tr th:only-of-type {\n",
       "        vertical-align: middle;\n",
       "    }\n",
       "\n",
       "    .dataframe tbody tr th {\n",
       "        vertical-align: top;\n",
       "    }\n",
       "\n",
       "    .dataframe thead th {\n",
       "        text-align: right;\n",
       "    }\n",
       "</style>\n",
       "<table border=\"1\" class=\"dataframe\">\n",
       "  <thead>\n",
       "    <tr style=\"text-align: right;\">\n",
       "      <th></th>\n",
       "      <th>Age</th>\n",
       "      <th>Employment_type</th>\n",
       "      <th>Education</th>\n",
       "      <th>Marital_status</th>\n",
       "      <th>Occupation</th>\n",
       "      <th>Relationship</th>\n",
       "      <th>Race</th>\n",
       "      <th>Gender</th>\n",
       "      <th>Work_hours_per_week</th>\n",
       "      <th>Native_country</th>\n",
       "      <th>Income</th>\n",
       "    </tr>\n",
       "  </thead>\n",
       "  <tbody>\n",
       "    <tr>\n",
       "      <th>0</th>\n",
       "      <td>50</td>\n",
       "      <td>Self-emp-not-inc</td>\n",
       "      <td>Bachelors</td>\n",
       "      <td>Married-civ-spouse</td>\n",
       "      <td>Exec-managerial</td>\n",
       "      <td>Husband</td>\n",
       "      <td>White</td>\n",
       "      <td>Male</td>\n",
       "      <td>13</td>\n",
       "      <td>United-States</td>\n",
       "      <td>&lt;=50K</td>\n",
       "    </tr>\n",
       "    <tr>\n",
       "      <th>1</th>\n",
       "      <td>38</td>\n",
       "      <td>Private</td>\n",
       "      <td>HS-grad</td>\n",
       "      <td>Divorced</td>\n",
       "      <td>Handlers-cleaners</td>\n",
       "      <td>Not-in-family</td>\n",
       "      <td>White</td>\n",
       "      <td>Male</td>\n",
       "      <td>40</td>\n",
       "      <td>United-States</td>\n",
       "      <td>&lt;=50K</td>\n",
       "    </tr>\n",
       "    <tr>\n",
       "      <th>2</th>\n",
       "      <td>53</td>\n",
       "      <td>Private</td>\n",
       "      <td>11th</td>\n",
       "      <td>Married-civ-spouse</td>\n",
       "      <td>Handlers-cleaners</td>\n",
       "      <td>Husband</td>\n",
       "      <td>Black</td>\n",
       "      <td>Male</td>\n",
       "      <td>40</td>\n",
       "      <td>United-States</td>\n",
       "      <td>&lt;=50K</td>\n",
       "    </tr>\n",
       "    <tr>\n",
       "      <th>3</th>\n",
       "      <td>28</td>\n",
       "      <td>Private</td>\n",
       "      <td>Bachelors</td>\n",
       "      <td>Married-civ-spouse</td>\n",
       "      <td>Prof-specialty</td>\n",
       "      <td>Wife</td>\n",
       "      <td>Black</td>\n",
       "      <td>Female</td>\n",
       "      <td>40</td>\n",
       "      <td>Cuba</td>\n",
       "      <td>&lt;=50K</td>\n",
       "    </tr>\n",
       "    <tr>\n",
       "      <th>4</th>\n",
       "      <td>37</td>\n",
       "      <td>Private</td>\n",
       "      <td>Masters</td>\n",
       "      <td>Married-civ-spouse</td>\n",
       "      <td>Exec-managerial</td>\n",
       "      <td>Wife</td>\n",
       "      <td>White</td>\n",
       "      <td>Female</td>\n",
       "      <td>40</td>\n",
       "      <td>United-States</td>\n",
       "      <td>&lt;=50K</td>\n",
       "    </tr>\n",
       "  </tbody>\n",
       "</table>\n",
       "</div>"
      ],
      "text/plain": [
       "  Age   Employment_type  Education      Marital_status         Occupation  \\\n",
       "0  50  Self-emp-not-inc  Bachelors  Married-civ-spouse    Exec-managerial   \n",
       "1  38           Private    HS-grad            Divorced  Handlers-cleaners   \n",
       "2  53           Private       11th  Married-civ-spouse  Handlers-cleaners   \n",
       "3  28           Private  Bachelors  Married-civ-spouse     Prof-specialty   \n",
       "4  37           Private    Masters  Married-civ-spouse    Exec-managerial   \n",
       "\n",
       "    Relationship   Race  Gender Work_hours_per_week Native_country Income  \n",
       "0        Husband  White    Male                  13  United-States  <=50K  \n",
       "1  Not-in-family  White    Male                  40  United-States  <=50K  \n",
       "2        Husband  Black    Male                  40  United-States  <=50K  \n",
       "3           Wife  Black  Female                  40           Cuba  <=50K  \n",
       "4           Wife  White  Female                  40  United-States  <=50K  "
      ]
     },
     "execution_count": 14,
     "metadata": {},
     "output_type": "execute_result"
    }
   ],
   "source": [
    "data.head()"
   ]
  },
  {
   "cell_type": "markdown",
   "metadata": {},
   "source": [
    "Looking for missing values"
   ]
  },
  {
   "cell_type": "code",
   "execution_count": 15,
   "metadata": {},
   "outputs": [
    {
     "data": {
      "text/plain": [
       "Age                    0\n",
       "Employment_type        0\n",
       "Education              0\n",
       "Marital_status         0\n",
       "Occupation             0\n",
       "Relationship           0\n",
       "Race                   0\n",
       "Gender                 0\n",
       "Work_hours_per_week    0\n",
       "Native_country         0\n",
       "Income                 0\n",
       "dtype: int64"
      ]
     },
     "execution_count": 15,
     "metadata": {},
     "output_type": "execute_result"
    }
   ],
   "source": [
    "data.isnull().sum()"
   ]
  },
  {
   "cell_type": "markdown",
   "metadata": {},
   "source": [
    "Checking data types of each column"
   ]
  },
  {
   "cell_type": "code",
   "execution_count": 16,
   "metadata": {},
   "outputs": [
    {
     "data": {
      "text/plain": [
       "Age                    object\n",
       "Employment_type        object\n",
       "Education              object\n",
       "Marital_status         object\n",
       "Occupation             object\n",
       "Relationship           object\n",
       "Race                   object\n",
       "Gender                 object\n",
       "Work_hours_per_week    object\n",
       "Native_country         object\n",
       "Income                 object\n",
       "dtype: object"
      ]
     },
     "execution_count": 16,
     "metadata": {},
     "output_type": "execute_result"
    }
   ],
   "source": [
    "data.dtypes"
   ]
  },
  {
   "cell_type": "markdown",
   "metadata": {},
   "source": [
    "Assigning the correct data type to integer columns"
   ]
  },
  {
   "cell_type": "code",
   "execution_count": 17,
   "metadata": {},
   "outputs": [],
   "source": [
    "cols = ['Age','Work_hours_per_week']\n",
    "for col in cols:\n",
    "    data[col] = data[col].astype('int')"
   ]
  },
  {
   "cell_type": "code",
   "execution_count": 18,
   "metadata": {},
   "outputs": [
    {
     "data": {
      "text/plain": [
       "Age                     int32\n",
       "Employment_type        object\n",
       "Education              object\n",
       "Marital_status         object\n",
       "Occupation             object\n",
       "Relationship           object\n",
       "Race                   object\n",
       "Gender                 object\n",
       "Work_hours_per_week     int32\n",
       "Native_country         object\n",
       "Income                 object\n",
       "dtype: object"
      ]
     },
     "execution_count": 18,
     "metadata": {},
     "output_type": "execute_result"
    }
   ],
   "source": [
    "data.dtypes"
   ]
  },
  {
   "cell_type": "markdown",
   "metadata": {},
   "source": [
    "Removing unnecesary symbols used in place of values in some of the entries"
   ]
  },
  {
   "cell_type": "code",
   "execution_count": 19,
   "metadata": {},
   "outputs": [],
   "source": [
    "cols = ['Employment_type', 'Occupation', 'Native_country']\n",
    "for col in cols:\n",
    "    data = data[data[col] != '?']"
   ]
  },
  {
   "cell_type": "code",
   "execution_count": 20,
   "metadata": {},
   "outputs": [
    {
     "name": "stdout",
     "output_type": "stream",
     "text": [
      "['Self-emp-not-inc' 'Private' 'State-gov' 'Federal-gov' 'Local-gov'\n",
      " 'Self-emp-inc' 'Without-pay']\n",
      "['Exec-managerial' 'Handlers-cleaners' 'Prof-specialty' 'Other-service'\n",
      " 'Adm-clerical' 'Sales' 'Transport-moving' 'Farming-fishing'\n",
      " 'Machine-op-inspct' 'Tech-support' 'Craft-repair' 'Protective-serv'\n",
      " 'Armed-Forces' 'Priv-house-serv']\n",
      "['United-States' 'Cuba' 'Jamaica' 'India' 'Mexico' 'Puerto-Rico'\n",
      " 'Honduras' 'England' 'Canada' 'Germany' 'Iran' 'Philippines' 'Poland'\n",
      " 'Columbia' 'Cambodia' 'Thailand' 'Ecuador' 'Laos' 'Taiwan' 'Haiti'\n",
      " 'Portugal' 'Dominican-Republic' 'El-Salvador' 'France' 'Guatemala'\n",
      " 'Italy' 'China' 'South' 'Japan' 'Yugoslavia' 'Peru'\n",
      " 'Outlying-US(Guam-USVI-etc)' 'Scotland' 'Trinadad&Tobago' 'Greece'\n",
      " 'Nicaragua' 'Vietnam' 'Hong' 'Ireland' 'Hungary' 'Holand-Netherlands']\n"
     ]
    }
   ],
   "source": [
    "for col in cols:\n",
    "    print(data[col].unique())"
   ]
  },
  {
   "cell_type": "markdown",
   "metadata": {},
   "source": [
    "Checking the value counts of the target"
   ]
  },
  {
   "cell_type": "code",
   "execution_count": 21,
   "metadata": {},
   "outputs": [
    {
     "name": "stdout",
     "output_type": "stream",
     "text": [
      "<=50K    22653\n",
      ">50K      7508\n",
      "Name: Income, dtype: int64\n"
     ]
    },
    {
     "data": {
      "text/plain": [
       "<matplotlib.axes._subplots.AxesSubplot at 0xe91d630>"
      ]
     },
     "execution_count": 21,
     "metadata": {},
     "output_type": "execute_result"
    },
    {
     "data": {
      "image/png": "[encoded data removed]",
      "text/plain": [
       "<Figure size 576x360 with 1 Axes>"
      ]
     },
     "metadata": {
      "needs_background": "light"
     },
     "output_type": "display_data"
    }
   ],
   "source": [
    "print(data['Income'].value_counts())\n",
    "data['Income'].value_counts().plot(kind = 'bar', color = ['r','g'], figsize = (8,5),\n",
    "                                  title = 'Population distribution w.r.t Income')"
   ]
  },
  {
   "cell_type": "markdown",
   "metadata": {},
   "source": [
    "The target seems to be unbalanced since the no. of people making less than 50K anually is about three times the no. of people making more than 50K anually."
   ]
  },
  {
   "cell_type": "markdown",
   "metadata": {},
   "source": [
    "Age ditribution of people in the dataset. Majority of people are less than 60 years old."
   ]
  },
  {
   "cell_type": "code",
   "execution_count": 22,
   "metadata": {},
   "outputs": [
    {
     "data": {
      "text/plain": [
       "<matplotlib.axes._subplots.AxesSubplot at 0xd782930>"
      ]
     },
     "execution_count": 22,
     "metadata": {},
     "output_type": "execute_result"
    },
    {
     "data": {
      "image/png": "[encoded data removed]",
      "text/plain": [
       "<Figure size 432x288 with 1 Axes>"
      ]
     },
     "metadata": {
      "needs_background": "light"
     },
     "output_type": "display_data"
    }
   ],
   "source": [
    "sns.distplot(data['Age'])"
   ]
  },
  {
   "cell_type": "markdown",
   "metadata": {},
   "source": [
    "Distribution of people by no. of working hours per week. \n",
    "Most of the people seem to work for around 40 hours per week."
   ]
  },
  {
   "cell_type": "code",
   "execution_count": 23,
   "metadata": {},
   "outputs": [
    {
     "data": {
      "text/plain": [
       "<matplotlib.axes._subplots.AxesSubplot at 0xd9474b0>"
      ]
     },
     "execution_count": 23,
     "metadata": {},
     "output_type": "execute_result"
    },
    {
     "data": {
      "image/png": "[encoded data removed]",
      "text/plain": [
       "<Figure size 432x288 with 1 Axes>"
      ]
     },
     "metadata": {
      "needs_background": "light"
     },
     "output_type": "display_data"
    }
   ],
   "source": [
    "sns.distplot(data['Work_hours_per_week'])"
   ]
  },
  {
   "cell_type": "markdown",
   "metadata": {},
   "source": [
    "Gender ratio in the dataset. About 2:1"
   ]
  },
  {
   "cell_type": "code",
   "execution_count": 25,
   "metadata": {},
   "outputs": [
    {
     "data": {
      "text/plain": [
       "<matplotlib.axes._subplots.AxesSubplot at 0xfcb8a10>"
      ]
     },
     "execution_count": 25,
     "metadata": {},
     "output_type": "execute_result"
    },
    {
     "data": {
      "image/png": "[encoded data removed]",
      "text/plain": [
       "<Figure size 576x360 with 1 Axes>"
      ]
     },
     "metadata": {
      "needs_background": "light"
     },
     "output_type": "display_data"
    }
   ],
   "source": [
    "data['Gender'].value_counts().plot(kind = 'bar', figsize = (8,5), color = ['r', 'g'], \n",
    "                                  title = 'Population gender ratio')"
   ]
  },
  {
   "cell_type": "markdown",
   "metadata": {},
   "source": [
    "Proportion of Males and Females earning greater than 50K annually "
   ]
  },
  {
   "cell_type": "code",
   "execution_count": 26,
   "metadata": {},
   "outputs": [
    {
     "data": {
      "text/html": [
       "<div>\n",
       "<style scoped>\n",
       "    .dataframe tbody tr th:only-of-type {\n",
       "        vertical-align: middle;\n",
       "    }\n",
       "\n",
       "    .dataframe tbody tr th {\n",
       "        vertical-align: top;\n",
       "    }\n",
       "\n",
       "    .dataframe thead th {\n",
       "        text-align: right;\n",
       "    }\n",
       "</style>\n",
       "<table border=\"1\" class=\"dataframe\">\n",
       "  <thead>\n",
       "    <tr style=\"text-align: right;\">\n",
       "      <th>Income</th>\n",
       "      <th>&lt;=50K</th>\n",
       "      <th>&gt;50K</th>\n",
       "      <th>proportion_&gt;50K(%)</th>\n",
       "    </tr>\n",
       "    <tr>\n",
       "      <th>Gender</th>\n",
       "      <th></th>\n",
       "      <th></th>\n",
       "      <th></th>\n",
       "    </tr>\n",
       "  </thead>\n",
       "  <tbody>\n",
       "    <tr>\n",
       "      <th>Female</th>\n",
       "      <td>8670</td>\n",
       "      <td>1112</td>\n",
       "      <td>11.367818</td>\n",
       "    </tr>\n",
       "    <tr>\n",
       "      <th>Male</th>\n",
       "      <td>13983</td>\n",
       "      <td>6396</td>\n",
       "      <td>31.385250</td>\n",
       "    </tr>\n",
       "  </tbody>\n",
       "</table>\n",
       "</div>"
      ],
      "text/plain": [
       "Income  <=50K  >50K  proportion_>50K(%)\n",
       "Gender                                 \n",
       "Female   8670  1112           11.367818\n",
       "Male    13983  6396           31.385250"
      ]
     },
     "execution_count": 26,
     "metadata": {},
     "output_type": "execute_result"
    }
   ],
   "source": [
    "Gender_Income = data.groupby(['Gender'])['Income'].value_counts().unstack()\n",
    "Gender_Income['proportion_>50K(%)'] = (Gender_Income['>50K']/(Gender_Income['>50K'] + Gender_Income['<=50K'])) * 100\n",
    "Gender_Income"
   ]
  },
  {
   "cell_type": "code",
   "execution_count": 27,
   "metadata": {},
   "outputs": [
    {
     "data": {
      "text/plain": [
       "Text(0, 0.5, '% of population')"
      ]
     },
     "execution_count": 27,
     "metadata": {},
     "output_type": "execute_result"
    },
    {
     "data": {
      "image/png": "[encoded data removed]",
      "text/plain": [
       "<Figure size 432x288 with 1 Axes>"
      ]
     },
     "metadata": {
      "needs_background": "light"
     },
     "output_type": "display_data"
    }
   ],
   "source": [
    "Gender_Income['proportion_>50K(%)'].plot(kind = 'bar', color = ['r','c'], \n",
    "                                         title = 'Proportion of Male and Female population making >50k')\n",
    "plt.ylabel('% of population')"
   ]
  },
  {
   "cell_type": "markdown",
   "metadata": {},
   "source": [
    "About 31% of males and 11% of females make more than 50K annually.\n",
    "\n",
    "Thus, a greater percentage of men seem to make >50K than women. Thus, Gender seem to be an important a factor in Income of a person."
   ]
  },
  {
   "cell_type": "markdown",
   "metadata": {},
   "source": [
    "Distribution of people by Race. A vast majority of people are white "
   ]
  },
  {
   "cell_type": "code",
   "execution_count": 28,
   "metadata": {},
   "outputs": [
    {
     "data": {
      "text/plain": [
       "<matplotlib.axes._subplots.AxesSubplot at 0xfd14590>"
      ]
     },
     "execution_count": 28,
     "metadata": {},
     "output_type": "execute_result"
    },
    {
     "data": {
      "image/png": "[encoded data removed]",
      "text/plain": [
       "<Figure size 720x360 with 1 Axes>"
      ]
     },
     "metadata": {
      "needs_background": "light"
     },
     "output_type": "display_data"
    }
   ],
   "source": [
    "data['Race'].value_counts().plot(kind = 'barh', color = ['r','b','g','y','k'], figsize = (10,5),\n",
    "                                title = 'Number of people by race in the population')"
   ]
  },
  {
   "cell_type": "markdown",
   "metadata": {},
   "source": [
    "Proportion of people from all distinct Races making more than 50K annually\n",
    "\n",
    "Around 27% people from the White and Asian-Pacific Islander Races make >50K whereas only 9% of the people from Black community make >50K. It seems Race is closely related to a person's Income "
   ]
  },
  {
   "cell_type": "code",
   "execution_count": 29,
   "metadata": {},
   "outputs": [
    {
     "data": {
      "text/html": [
       "<div>\n",
       "<style scoped>\n",
       "    .dataframe tbody tr th:only-of-type {\n",
       "        vertical-align: middle;\n",
       "    }\n",
       "\n",
       "    .dataframe tbody tr th {\n",
       "        vertical-align: top;\n",
       "    }\n",
       "\n",
       "    .dataframe thead th {\n",
       "        text-align: right;\n",
       "    }\n",
       "</style>\n",
       "<table border=\"1\" class=\"dataframe\">\n",
       "  <thead>\n",
       "    <tr style=\"text-align: right;\">\n",
       "      <th>Income</th>\n",
       "      <th>&lt;=50K</th>\n",
       "      <th>&gt;50K</th>\n",
       "      <th>&gt;50K_proportion(%)</th>\n",
       "    </tr>\n",
       "    <tr>\n",
       "      <th>Race</th>\n",
       "      <th></th>\n",
       "      <th></th>\n",
       "      <th></th>\n",
       "    </tr>\n",
       "  </thead>\n",
       "  <tbody>\n",
       "    <tr>\n",
       "      <th>Amer-Indian-Eskimo</th>\n",
       "      <td>252</td>\n",
       "      <td>34</td>\n",
       "      <td>11.888112</td>\n",
       "    </tr>\n",
       "    <tr>\n",
       "      <th>Asian-Pac-Islander</th>\n",
       "      <td>647</td>\n",
       "      <td>248</td>\n",
       "      <td>27.709497</td>\n",
       "    </tr>\n",
       "    <tr>\n",
       "      <th>Black</th>\n",
       "      <td>2451</td>\n",
       "      <td>366</td>\n",
       "      <td>12.992545</td>\n",
       "    </tr>\n",
       "    <tr>\n",
       "      <th>Other</th>\n",
       "      <td>210</td>\n",
       "      <td>21</td>\n",
       "      <td>9.090909</td>\n",
       "    </tr>\n",
       "    <tr>\n",
       "      <th>White</th>\n",
       "      <td>19093</td>\n",
       "      <td>6839</td>\n",
       "      <td>26.372821</td>\n",
       "    </tr>\n",
       "  </tbody>\n",
       "</table>\n",
       "</div>"
      ],
      "text/plain": [
       "Income              <=50K  >50K  >50K_proportion(%)\n",
       "Race                                               \n",
       "Amer-Indian-Eskimo    252    34           11.888112\n",
       "Asian-Pac-Islander    647   248           27.709497\n",
       "Black                2451   366           12.992545\n",
       "Other                 210    21            9.090909\n",
       "White               19093  6839           26.372821"
      ]
     },
     "execution_count": 29,
     "metadata": {},
     "output_type": "execute_result"
    }
   ],
   "source": [
    "Race_Income = data.groupby(['Race','Income'])['Income'].count().unstack()\n",
    "Race_Income['>50K_proportion(%)'] = (Race_Income['>50K']/(Race_Income['>50K'] + Race_Income['<=50K'])) * 100\n",
    "Race_Income"
   ]
  },
  {
   "cell_type": "code",
   "execution_count": 30,
   "metadata": {},
   "outputs": [
    {
     "data": {
      "text/plain": [
       "Text(0.5, 0, '% of population')"
      ]
     },
     "execution_count": 30,
     "metadata": {},
     "output_type": "execute_result"
    },
    {
     "data": {
      "image/png": "[encoded data removed]",
      "text/plain": [
       "<Figure size 720x360 with 1 Axes>"
      ]
     },
     "metadata": {
      "needs_background": "light"
     },
     "output_type": "display_data"
    }
   ],
   "source": [
    "Race_Income['>50K_proportion(%)'].plot(kind = 'barh', color = ['r','m','y','c','g'], figsize = (10,5),\n",
    "                                      title = 'Proportion of population of every race making >50k')\n",
    "plt.xlabel('% of population')"
   ]
  },
  {
   "cell_type": "markdown",
   "metadata": {},
   "source": [
    "Proportion of people making >50K w.r.t their Employment type. \n",
    "\n",
    "A majority proportion of self employed people make >50K (around 56% of them), whereas 21% of private employees make >50K. At the same time we can also see that a large no. of people of the total population belong to the private emplyment type group."
   ]
  },
  {
   "cell_type": "code",
   "execution_count": 32,
   "metadata": {},
   "outputs": [
    {
     "data": {
      "text/html": [
       "<div>\n",
       "<style scoped>\n",
       "    .dataframe tbody tr th:only-of-type {\n",
       "        vertical-align: middle;\n",
       "    }\n",
       "\n",
       "    .dataframe tbody tr th {\n",
       "        vertical-align: top;\n",
       "    }\n",
       "\n",
       "    .dataframe thead th {\n",
       "        text-align: right;\n",
       "    }\n",
       "</style>\n",
       "<table border=\"1\" class=\"dataframe\">\n",
       "  <thead>\n",
       "    <tr style=\"text-align: right;\">\n",
       "      <th>Income</th>\n",
       "      <th>&lt;=50K</th>\n",
       "      <th>&gt;50K</th>\n",
       "      <th>Proportion_&gt;50K_proportion(%)</th>\n",
       "    </tr>\n",
       "    <tr>\n",
       "      <th>Employment_type</th>\n",
       "      <th></th>\n",
       "      <th></th>\n",
       "      <th></th>\n",
       "    </tr>\n",
       "  </thead>\n",
       "  <tbody>\n",
       "    <tr>\n",
       "      <th>Federal-gov</th>\n",
       "      <td>578.0</td>\n",
       "      <td>365.0</td>\n",
       "      <td>38.706257</td>\n",
       "    </tr>\n",
       "    <tr>\n",
       "      <th>Local-gov</th>\n",
       "      <td>1458.0</td>\n",
       "      <td>609.0</td>\n",
       "      <td>29.462990</td>\n",
       "    </tr>\n",
       "    <tr>\n",
       "      <th>Private</th>\n",
       "      <td>17410.0</td>\n",
       "      <td>4876.0</td>\n",
       "      <td>21.879207</td>\n",
       "    </tr>\n",
       "    <tr>\n",
       "      <th>Self-emp-inc</th>\n",
       "      <td>474.0</td>\n",
       "      <td>600.0</td>\n",
       "      <td>55.865922</td>\n",
       "    </tr>\n",
       "    <tr>\n",
       "      <th>Self-emp-not-inc</th>\n",
       "      <td>1785.0</td>\n",
       "      <td>714.0</td>\n",
       "      <td>28.571429</td>\n",
       "    </tr>\n",
       "    <tr>\n",
       "      <th>State-gov</th>\n",
       "      <td>934.0</td>\n",
       "      <td>344.0</td>\n",
       "      <td>26.917058</td>\n",
       "    </tr>\n",
       "    <tr>\n",
       "      <th>Without-pay</th>\n",
       "      <td>14.0</td>\n",
       "      <td>0.0</td>\n",
       "      <td>0.000000</td>\n",
       "    </tr>\n",
       "  </tbody>\n",
       "</table>\n",
       "</div>"
      ],
      "text/plain": [
       "Income              <=50K    >50K  Proportion_>50K_proportion(%)\n",
       "Employment_type                                                 \n",
       "Federal-gov         578.0   365.0                      38.706257\n",
       "Local-gov          1458.0   609.0                      29.462990\n",
       "Private           17410.0  4876.0                      21.879207\n",
       "Self-emp-inc        474.0   600.0                      55.865922\n",
       "Self-emp-not-inc   1785.0   714.0                      28.571429\n",
       "State-gov           934.0   344.0                      26.917058\n",
       "Without-pay          14.0     0.0                       0.000000"
      ]
     },
     "execution_count": 32,
     "metadata": {},
     "output_type": "execute_result"
    }
   ],
   "source": [
    "Employment_type_Income = data.groupby(['Employment_type', 'Income'])['Income'].count().unstack()\n",
    "\n",
    "# Replacing the NaN in unpaid professionals >50k column\n",
    "Employment_type_Income['>50K'].replace(np.NaN,0, inplace = True)\n",
    "\n",
    "Employment_type_Income['Proportion_>50K_proportion(%)'] = (Employment_type_Income['>50K']/(Employment_type_Income['>50K'] + Employment_type_Income['<=50K'])) * 100\n",
    "Employment_type_Income"
   ]
  },
  {
   "cell_type": "code",
   "execution_count": 33,
   "metadata": {},
   "outputs": [
    {
     "data": {
      "text/plain": [
       "Text(0, 0.5, '% of population')"
      ]
     },
     "execution_count": 33,
     "metadata": {},
     "output_type": "execute_result"
    },
    {
     "data": {
      "image/png": "[encoded data removed]",
      "text/plain": [
       "<Figure size 720x360 with 1 Axes>"
      ]
     },
     "metadata": {
      "needs_background": "light"
     },
     "output_type": "display_data"
    }
   ],
   "source": [
    "Employment_type_Income['Proportion_>50K_proportion(%)'].plot(kind = 'bar', color = ['r', 'm', 'g','y','k','c'],\n",
    "                                                             figsize = (10,5),\n",
    "                                                         title = 'Proportion of population making >50k w.r.t Employment type')\n",
    "plt.ylabel('% of population')"
   ]
  },
  {
   "cell_type": "markdown",
   "metadata": {},
   "source": [
    "Number of people making <=50K and >50K w.r.t their Age"
   ]
  },
  {
   "cell_type": "code",
   "execution_count": 34,
   "metadata": {},
   "outputs": [
    {
     "data": {
      "text/html": [
       "<div>\n",
       "<style scoped>\n",
       "    .dataframe tbody tr th:only-of-type {\n",
       "        vertical-align: middle;\n",
       "    }\n",
       "\n",
       "    .dataframe tbody tr th {\n",
       "        vertical-align: top;\n",
       "    }\n",
       "\n",
       "    .dataframe thead th {\n",
       "        text-align: right;\n",
       "    }\n",
       "</style>\n",
       "<table border=\"1\" class=\"dataframe\">\n",
       "  <thead>\n",
       "    <tr style=\"text-align: right;\">\n",
       "      <th>Income</th>\n",
       "      <th>&lt;=50K</th>\n",
       "      <th>&gt;50K</th>\n",
       "    </tr>\n",
       "    <tr>\n",
       "      <th>Age</th>\n",
       "      <th></th>\n",
       "      <th></th>\n",
       "    </tr>\n",
       "  </thead>\n",
       "  <tbody>\n",
       "    <tr>\n",
       "      <th>17</th>\n",
       "      <td>328.0</td>\n",
       "      <td>0.0</td>\n",
       "    </tr>\n",
       "    <tr>\n",
       "      <th>18</th>\n",
       "      <td>447.0</td>\n",
       "      <td>0.0</td>\n",
       "    </tr>\n",
       "    <tr>\n",
       "      <th>19</th>\n",
       "      <td>593.0</td>\n",
       "      <td>1.0</td>\n",
       "    </tr>\n",
       "    <tr>\n",
       "      <th>20</th>\n",
       "      <td>629.0</td>\n",
       "      <td>0.0</td>\n",
       "    </tr>\n",
       "    <tr>\n",
       "      <th>21</th>\n",
       "      <td>618.0</td>\n",
       "      <td>3.0</td>\n",
       "    </tr>\n",
       "  </tbody>\n",
       "</table>\n",
       "</div>"
      ],
      "text/plain": [
       "Income  <=50K  >50K\n",
       "Age                \n",
       "17      328.0   0.0\n",
       "18      447.0   0.0\n",
       "19      593.0   1.0\n",
       "20      629.0   0.0\n",
       "21      618.0   3.0"
      ]
     },
     "execution_count": 34,
     "metadata": {},
     "output_type": "execute_result"
    }
   ],
   "source": [
    "Age_Income = data.groupby(['Age', 'Income'])['Income'].count().unstack()\n",
    "Age_Income.replace(np.NaN, 0, inplace = True)\n",
    "Age_Income.head()"
   ]
  },
  {
   "cell_type": "markdown",
   "metadata": {},
   "source": [
    "The below plot gives a visual insight on the proportion of people making <=50K and >50K with respect to Age of the individual."
   ]
  },
  {
   "cell_type": "code",
   "execution_count": 35,
   "metadata": {},
   "outputs": [
    {
     "data": {
      "image/png": "[encoded data removed]",
      "text/plain": [
       "<Figure size 1008x576 with 1 Axes>"
      ]
     },
     "metadata": {
      "needs_background": "light"
     },
     "output_type": "display_data"
    }
   ],
   "source": [
    "Age_Income['<=50K'].plot(kind = 'bar', color = 'c', figsize = (14,8))\n",
    "Age_Income['>50K'].plot(kind = 'bar',color = 'y', figsize = (14,8))\n",
    "plt.legend()\n",
    "sns.set(style = 'whitegrid')"
   ]
  },
  {
   "cell_type": "markdown",
   "metadata": {},
   "source": [
    "As the bar plot clearly shows, more people in their late 30s to late 50s tend to make >50K than the people of other Ages."
   ]
  },
  {
   "cell_type": "markdown",
   "metadata": {},
   "source": [
    "Income classification w.r.t the native country of the person"
   ]
  },
  {
   "cell_type": "markdown",
   "metadata": {},
   "source": [
    "More than 40% natives of Taiwan, France, India , Iran make >50K"
   ]
  },
  {
   "cell_type": "code",
   "execution_count": 36,
   "metadata": {},
   "outputs": [
    {
     "data": {
      "text/html": [
       "<div>\n",
       "<style scoped>\n",
       "    .dataframe tbody tr th:only-of-type {\n",
       "        vertical-align: middle;\n",
       "    }\n",
       "\n",
       "    .dataframe tbody tr th {\n",
       "        vertical-align: top;\n",
       "    }\n",
       "\n",
       "    .dataframe thead th {\n",
       "        text-align: right;\n",
       "    }\n",
       "</style>\n",
       "<table border=\"1\" class=\"dataframe\">\n",
       "  <thead>\n",
       "    <tr style=\"text-align: right;\">\n",
       "      <th>Income</th>\n",
       "      <th>&lt;=50K</th>\n",
       "      <th>&gt;50K</th>\n",
       "      <th>&gt;50K_proportion(%)</th>\n",
       "    </tr>\n",
       "    <tr>\n",
       "      <th>Native_country</th>\n",
       "      <th></th>\n",
       "      <th></th>\n",
       "      <th></th>\n",
       "    </tr>\n",
       "  </thead>\n",
       "  <tbody>\n",
       "    <tr>\n",
       "      <th>Taiwan</th>\n",
       "      <td>23.0</td>\n",
       "      <td>19.0</td>\n",
       "      <td>45.238095</td>\n",
       "    </tr>\n",
       "    <tr>\n",
       "      <th>France</th>\n",
       "      <td>15.0</td>\n",
       "      <td>12.0</td>\n",
       "      <td>44.444444</td>\n",
       "    </tr>\n",
       "    <tr>\n",
       "      <th>Iran</th>\n",
       "      <td>24.0</td>\n",
       "      <td>18.0</td>\n",
       "      <td>42.857143</td>\n",
       "    </tr>\n",
       "    <tr>\n",
       "      <th>India</th>\n",
       "      <td>60.0</td>\n",
       "      <td>40.0</td>\n",
       "      <td>40.000000</td>\n",
       "    </tr>\n",
       "    <tr>\n",
       "      <th>Japan</th>\n",
       "      <td>36.0</td>\n",
       "      <td>23.0</td>\n",
       "      <td>38.983051</td>\n",
       "    </tr>\n",
       "    <tr>\n",
       "      <th>Cambodia</th>\n",
       "      <td>11.0</td>\n",
       "      <td>7.0</td>\n",
       "      <td>38.888889</td>\n",
       "    </tr>\n",
       "    <tr>\n",
       "      <th>Yugoslavia</th>\n",
       "      <td>10.0</td>\n",
       "      <td>6.0</td>\n",
       "      <td>37.500000</td>\n",
       "    </tr>\n",
       "    <tr>\n",
       "      <th>Italy</th>\n",
       "      <td>44.0</td>\n",
       "      <td>24.0</td>\n",
       "      <td>35.294118</td>\n",
       "    </tr>\n",
       "    <tr>\n",
       "      <th>England</th>\n",
       "      <td>56.0</td>\n",
       "      <td>30.0</td>\n",
       "      <td>34.883721</td>\n",
       "    </tr>\n",
       "    <tr>\n",
       "      <th>Germany</th>\n",
       "      <td>84.0</td>\n",
       "      <td>44.0</td>\n",
       "      <td>34.375000</td>\n",
       "    </tr>\n",
       "  </tbody>\n",
       "</table>\n",
       "</div>"
      ],
      "text/plain": [
       "Income          <=50K  >50K  >50K_proportion(%)\n",
       "Native_country                                 \n",
       "Taiwan           23.0  19.0           45.238095\n",
       "France           15.0  12.0           44.444444\n",
       "Iran             24.0  18.0           42.857143\n",
       "India            60.0  40.0           40.000000\n",
       "Japan            36.0  23.0           38.983051\n",
       "Cambodia         11.0   7.0           38.888889\n",
       "Yugoslavia       10.0   6.0           37.500000\n",
       "Italy            44.0  24.0           35.294118\n",
       "England          56.0  30.0           34.883721\n",
       "Germany          84.0  44.0           34.375000"
      ]
     },
     "execution_count": 36,
     "metadata": {},
     "output_type": "execute_result"
    }
   ],
   "source": [
    "Native_country_Income = data.groupby(['Native_country', 'Income'])['Income'].count().unstack()\n",
    "Native_country_Income.replace(np.NaN, 0)\n",
    "Native_country_Income['>50K_proportion(%)'] = (Native_country_Income['>50K']/(Native_country_Income['>50K'] + Native_country_Income['<=50K'])) * 100\n",
    "Native_country_Income.sort_values('>50K_proportion(%)', ascending = False).head(10)"
   ]
  },
  {
   "cell_type": "code",
   "execution_count": 37,
   "metadata": {},
   "outputs": [
    {
     "data": {
      "image/png": "[encoded data removed]",
      "text/plain": [
       "<Figure size 720x360 with 1 Axes>"
      ]
     },
     "metadata": {},
     "output_type": "display_data"
    }
   ],
   "source": [
    "Native_country_Income['>50K_proportion(%)'].sort_values(ascending = False).head(10).plot(kind = 'barh',\n",
    "                                                                                         figsize = (10,5),\n",
    "                                                                                        color = 'r',\n",
    "                                                                                        title = 'Proportion of population with >50K income w.r.t Native Country(Top 10)')\n",
    "sns.set()"
   ]
  },
  {
   "cell_type": "markdown",
   "metadata": {},
   "source": [
    "Income classification by Educational background"
   ]
  },
  {
   "cell_type": "code",
   "execution_count": 38,
   "metadata": {},
   "outputs": [
    {
     "data": {
      "text/plain": [
       "(array([ 0,  1,  2,  3,  4,  5,  6,  7,  8,  9, 10, 11, 12, 13, 14, 15]),\n",
       " <a list of 16 Text xticklabel objects>)"
      ]
     },
     "execution_count": 38,
     "metadata": {},
     "output_type": "execute_result"
    },
    {
     "data": {
      "image/png": "[encoded data removed]",
      "text/plain": [
       "<Figure size 720x576 with 1 Axes>"
      ]
     },
     "metadata": {},
     "output_type": "display_data"
    }
   ],
   "source": [
    "Education_Income = data.groupby(['Education', 'Income'])['Income'].count().unstack().replace(np.NaN, 0)\n",
    "Education_Income['<=50K'].plot(kind = 'bar', color = 'm', figsize = (10,8))\n",
    "Education_Income['>50K'].plot(kind = 'bar', color = 'y', figsize = (10,8))\n",
    "plt.ylabel('Number of people')\n",
    "plt.title('Income level of people with various educational backgrounds')\n",
    "plt.legend()\n",
    "plt.xticks(rotation = 45)"
   ]
  },
  {
   "cell_type": "markdown",
   "metadata": {},
   "source": [
    "The infographic above indicates that most people in high school make <=50K\n",
    "\n",
    "A greater proportion of people with Bachelor's degree make >50K\n",
    "\n",
    "Almost all the people with Doctorates and Masters make >50K\n",
    "\n",
    "Thus, a person's educational background in genereal seems to play a pivotal role in deciding his Income"
   ]
  },
  {
   "cell_type": "markdown",
   "metadata": {},
   "source": [
    "Proportion of people making >50K w.r.t their Occupation"
   ]
  },
  {
   "cell_type": "code",
   "execution_count": 39,
   "metadata": {},
   "outputs": [
    {
     "data": {
      "text/html": [
       "<div>\n",
       "<style scoped>\n",
       "    .dataframe tbody tr th:only-of-type {\n",
       "        vertical-align: middle;\n",
       "    }\n",
       "\n",
       "    .dataframe tbody tr th {\n",
       "        vertical-align: top;\n",
       "    }\n",
       "\n",
       "    .dataframe thead th {\n",
       "        text-align: right;\n",
       "    }\n",
       "</style>\n",
       "<table border=\"1\" class=\"dataframe\">\n",
       "  <thead>\n",
       "    <tr style=\"text-align: right;\">\n",
       "      <th>Income</th>\n",
       "      <th>&lt;=50K</th>\n",
       "      <th>&gt;50K</th>\n",
       "      <th>&gt;50K_proportion</th>\n",
       "    </tr>\n",
       "    <tr>\n",
       "      <th>Occupation</th>\n",
       "      <th></th>\n",
       "      <th></th>\n",
       "      <th></th>\n",
       "    </tr>\n",
       "  </thead>\n",
       "  <tbody>\n",
       "    <tr>\n",
       "      <th>Adm-clerical</th>\n",
       "      <td>3222</td>\n",
       "      <td>498</td>\n",
       "      <td>13.387097</td>\n",
       "    </tr>\n",
       "    <tr>\n",
       "      <th>Armed-Forces</th>\n",
       "      <td>8</td>\n",
       "      <td>1</td>\n",
       "      <td>11.111111</td>\n",
       "    </tr>\n",
       "    <tr>\n",
       "      <th>Craft-repair</th>\n",
       "      <td>3122</td>\n",
       "      <td>908</td>\n",
       "      <td>22.531017</td>\n",
       "    </tr>\n",
       "    <tr>\n",
       "      <th>Exec-managerial</th>\n",
       "      <td>2055</td>\n",
       "      <td>1937</td>\n",
       "      <td>48.522044</td>\n",
       "    </tr>\n",
       "    <tr>\n",
       "      <th>Farming-fishing</th>\n",
       "      <td>874</td>\n",
       "      <td>115</td>\n",
       "      <td>11.627907</td>\n",
       "    </tr>\n",
       "    <tr>\n",
       "      <th>Handlers-cleaners</th>\n",
       "      <td>1267</td>\n",
       "      <td>83</td>\n",
       "      <td>6.148148</td>\n",
       "    </tr>\n",
       "    <tr>\n",
       "      <th>Machine-op-inspct</th>\n",
       "      <td>1721</td>\n",
       "      <td>245</td>\n",
       "      <td>12.461851</td>\n",
       "    </tr>\n",
       "    <tr>\n",
       "      <th>Other-service</th>\n",
       "      <td>3080</td>\n",
       "      <td>132</td>\n",
       "      <td>4.109589</td>\n",
       "    </tr>\n",
       "    <tr>\n",
       "      <th>Priv-house-serv</th>\n",
       "      <td>142</td>\n",
       "      <td>1</td>\n",
       "      <td>0.699301</td>\n",
       "    </tr>\n",
       "    <tr>\n",
       "      <th>Prof-specialty</th>\n",
       "      <td>2227</td>\n",
       "      <td>1811</td>\n",
       "      <td>44.848935</td>\n",
       "    </tr>\n",
       "    <tr>\n",
       "      <th>Protective-serv</th>\n",
       "      <td>434</td>\n",
       "      <td>210</td>\n",
       "      <td>32.608696</td>\n",
       "    </tr>\n",
       "    <tr>\n",
       "      <th>Sales</th>\n",
       "      <td>2614</td>\n",
       "      <td>970</td>\n",
       "      <td>27.064732</td>\n",
       "    </tr>\n",
       "    <tr>\n",
       "      <th>Tech-support</th>\n",
       "      <td>634</td>\n",
       "      <td>278</td>\n",
       "      <td>30.482456</td>\n",
       "    </tr>\n",
       "    <tr>\n",
       "      <th>Transport-moving</th>\n",
       "      <td>1253</td>\n",
       "      <td>319</td>\n",
       "      <td>20.292621</td>\n",
       "    </tr>\n",
       "  </tbody>\n",
       "</table>\n",
       "</div>"
      ],
      "text/plain": [
       "Income             <=50K  >50K  >50K_proportion\n",
       "Occupation                                     \n",
       "Adm-clerical        3222   498        13.387097\n",
       "Armed-Forces           8     1        11.111111\n",
       "Craft-repair        3122   908        22.531017\n",
       "Exec-managerial     2055  1937        48.522044\n",
       "Farming-fishing      874   115        11.627907\n",
       "Handlers-cleaners   1267    83         6.148148\n",
       "Machine-op-inspct   1721   245        12.461851\n",
       "Other-service       3080   132         4.109589\n",
       "Priv-house-serv      142     1         0.699301\n",
       "Prof-specialty      2227  1811        44.848935\n",
       "Protective-serv      434   210        32.608696\n",
       "Sales               2614   970        27.064732\n",
       "Tech-support         634   278        30.482456\n",
       "Transport-moving    1253   319        20.292621"
      ]
     },
     "execution_count": 39,
     "metadata": {},
     "output_type": "execute_result"
    }
   ],
   "source": [
    "Occupation_Income = data.groupby(['Occupation', 'Income'])['Income'].count().unstack()\n",
    "Occupation_Income['>50K_proportion'] = (Occupation_Income['>50K']/(Occupation_Income['>50K'] + Occupation_Income['<=50K'])) * 100\n",
    "Occupation_Income"
   ]
  },
  {
   "cell_type": "code",
   "execution_count": 40,
   "metadata": {},
   "outputs": [
    {
     "data": {
      "text/plain": [
       "(array([ 0,  1,  2,  3,  4,  5,  6,  7,  8,  9, 10, 11, 12, 13]),\n",
       " <a list of 14 Text xticklabel objects>)"
      ]
     },
     "execution_count": 40,
     "metadata": {},
     "output_type": "execute_result"
    },
    {
     "data": {
      "image/png": "[encoded data removed]",
      "text/plain": [
       "<Figure size 720x360 with 1 Axes>"
      ]
     },
     "metadata": {},
     "output_type": "display_data"
    }
   ],
   "source": [
    "Occupation_Income['>50K_proportion'].sort_values(ascending = False).plot(kind = 'bar', color = 'c', figsize = (10,5))\n",
    "plt.ylabel('% of population')\n",
    "plt.title('Proportion of population making >50K w.r.t their Occupation')\n",
    "plt.xticks(rotation = 45)"
   ]
  },
  {
   "cell_type": "markdown",
   "metadata": {},
   "source": [
    "As can be observed from the bar plot above, almost 50% of the people working as executive managers make >50K annually.\n",
    "\n",
    "Also, occupations like private house service and cleaners seem to hardly pay people >50K"
   ]
  },
  {
   "cell_type": "markdown",
   "metadata": {},
   "source": [
    "# Readying the test set"
   ]
  },
  {
   "cell_type": "code",
   "execution_count": 41,
   "metadata": {},
   "outputs": [
    {
     "data": {
      "text/html": [
       "<div>\n",
       "<style scoped>\n",
       "    .dataframe tbody tr th:only-of-type {\n",
       "        vertical-align: middle;\n",
       "    }\n",
       "\n",
       "    .dataframe tbody tr th {\n",
       "        vertical-align: top;\n",
       "    }\n",
       "\n",
       "    .dataframe thead th {\n",
       "        text-align: right;\n",
       "    }\n",
       "</style>\n",
       "<table border=\"1\" class=\"dataframe\">\n",
       "  <thead>\n",
       "    <tr style=\"text-align: right;\">\n",
       "      <th></th>\n",
       "      <th>Age</th>\n",
       "      <th>Employment_type</th>\n",
       "      <th>Education</th>\n",
       "      <th>Marital_status</th>\n",
       "      <th>Occupation</th>\n",
       "      <th>Relationship</th>\n",
       "      <th>Race</th>\n",
       "      <th>Gender</th>\n",
       "      <th>Work_hours_per_week</th>\n",
       "      <th>Native_country</th>\n",
       "      <th>Income</th>\n",
       "    </tr>\n",
       "  </thead>\n",
       "  <tbody>\n",
       "    <tr>\n",
       "      <th>0</th>\n",
       "      <td>25</td>\n",
       "      <td>Private</td>\n",
       "      <td>11th</td>\n",
       "      <td>Never-married</td>\n",
       "      <td>Machine-op-inspct</td>\n",
       "      <td>Own-child</td>\n",
       "      <td>Black</td>\n",
       "      <td>Male</td>\n",
       "      <td>40</td>\n",
       "      <td>United-States</td>\n",
       "      <td>&lt;=50K.</td>\n",
       "    </tr>\n",
       "    <tr>\n",
       "      <th>1</th>\n",
       "      <td>38</td>\n",
       "      <td>Private</td>\n",
       "      <td>HS-grad</td>\n",
       "      <td>Married-civ-spouse</td>\n",
       "      <td>Farming-fishing</td>\n",
       "      <td>Husband</td>\n",
       "      <td>White</td>\n",
       "      <td>Male</td>\n",
       "      <td>50</td>\n",
       "      <td>United-States</td>\n",
       "      <td>&lt;=50K.</td>\n",
       "    </tr>\n",
       "    <tr>\n",
       "      <th>2</th>\n",
       "      <td>28</td>\n",
       "      <td>Local-gov</td>\n",
       "      <td>Assoc-acdm</td>\n",
       "      <td>Married-civ-spouse</td>\n",
       "      <td>Protective-serv</td>\n",
       "      <td>Husband</td>\n",
       "      <td>White</td>\n",
       "      <td>Male</td>\n",
       "      <td>40</td>\n",
       "      <td>United-States</td>\n",
       "      <td>&gt;50K.</td>\n",
       "    </tr>\n",
       "    <tr>\n",
       "      <th>3</th>\n",
       "      <td>44</td>\n",
       "      <td>Private</td>\n",
       "      <td>Some-college</td>\n",
       "      <td>Married-civ-spouse</td>\n",
       "      <td>Machine-op-inspct</td>\n",
       "      <td>Husband</td>\n",
       "      <td>Black</td>\n",
       "      <td>Male</td>\n",
       "      <td>40</td>\n",
       "      <td>United-States</td>\n",
       "      <td>&gt;50K.</td>\n",
       "    </tr>\n",
       "    <tr>\n",
       "      <th>4</th>\n",
       "      <td>18</td>\n",
       "      <td>?</td>\n",
       "      <td>Some-college</td>\n",
       "      <td>Never-married</td>\n",
       "      <td>?</td>\n",
       "      <td>Own-child</td>\n",
       "      <td>White</td>\n",
       "      <td>Female</td>\n",
       "      <td>30</td>\n",
       "      <td>United-States</td>\n",
       "      <td>&lt;=50K.</td>\n",
       "    </tr>\n",
       "  </tbody>\n",
       "</table>\n",
       "</div>"
      ],
      "text/plain": [
       "  Age Employment_type     Education      Marital_status         Occupation  \\\n",
       "0  25         Private          11th       Never-married  Machine-op-inspct   \n",
       "1  38         Private       HS-grad  Married-civ-spouse    Farming-fishing   \n",
       "2  28       Local-gov    Assoc-acdm  Married-civ-spouse    Protective-serv   \n",
       "3  44         Private  Some-college  Married-civ-spouse  Machine-op-inspct   \n",
       "4  18               ?  Some-college       Never-married                  ?   \n",
       "\n",
       "  Relationship   Race  Gender Work_hours_per_week Native_country  Income  \n",
       "0    Own-child  Black    Male                  40  United-States  <=50K.  \n",
       "1      Husband  White    Male                  50  United-States  <=50K.  \n",
       "2      Husband  White    Male                  40  United-States   >50K.  \n",
       "3      Husband  Black    Male                  40  United-States   >50K.  \n",
       "4    Own-child  White  Female                  30  United-States  <=50K.  "
      ]
     },
     "execution_count": 41,
     "metadata": {},
     "output_type": "execute_result"
    }
   ],
   "source": [
    "test.head()"
   ]
  },
  {
   "cell_type": "code",
   "execution_count": 42,
   "metadata": {},
   "outputs": [],
   "source": [
    "for col in test.columns:\n",
    "    test = test[test[col] != '?']"
   ]
  },
  {
   "cell_type": "code",
   "execution_count": 43,
   "metadata": {},
   "outputs": [],
   "source": [
    "cols = ['Age','Work_hours_per_week']\n",
    "for col in cols:\n",
    "    test[col] = test[col].astype('int')"
   ]
  },
  {
   "cell_type": "markdown",
   "metadata": {},
   "source": [
    "# Data Preparation, Preprocessing and Model Building"
   ]
  },
  {
   "cell_type": "markdown",
   "metadata": {},
   "source": [
    "Assigning binary variables 0 and 1 to our two target classes <=50K and >50K respectively"
   ]
  },
  {
   "cell_type": "code",
   "execution_count": 44,
   "metadata": {},
   "outputs": [],
   "source": [
    "data = data.replace({'Income':{'<=50K':0, '>50K':1}})"
   ]
  },
  {
   "cell_type": "code",
   "execution_count": 45,
   "metadata": {},
   "outputs": [],
   "source": [
    "test = test.replace({'Income':{'<=50K.':0, '>50K.':1}})"
   ]
  },
  {
   "cell_type": "markdown",
   "metadata": {},
   "source": [
    "Getting dummies for categorical variables"
   ]
  },
  {
   "cell_type": "code",
   "execution_count": 46,
   "metadata": {},
   "outputs": [],
   "source": [
    "data = pd.get_dummies(data, columns = ['Employment_type', 'Education', 'Marital_status', 'Occupation',\n",
    "       'Relationship', 'Race', 'Gender','Native_country'])\n",
    "\n",
    "test = pd.get_dummies(test, columns = ['Employment_type', 'Education', 'Marital_status', 'Occupation',\n",
    "       'Relationship', 'Race', 'Gender','Native_country'])\n"
   ]
  },
  {
   "cell_type": "code",
   "execution_count": 47,
   "metadata": {},
   "outputs": [
    {
     "data": {
      "text/html": [
       "<div>\n",
       "<style scoped>\n",
       "    .dataframe tbody tr th:only-of-type {\n",
       "        vertical-align: middle;\n",
       "    }\n",
       "\n",
       "    .dataframe tbody tr th {\n",
       "        vertical-align: top;\n",
       "    }\n",
       "\n",
       "    .dataframe thead th {\n",
       "        text-align: right;\n",
       "    }\n",
       "</style>\n",
       "<table border=\"1\" class=\"dataframe\">\n",
       "  <thead>\n",
       "    <tr style=\"text-align: right;\">\n",
       "      <th></th>\n",
       "      <th>Age</th>\n",
       "      <th>Work_hours_per_week</th>\n",
       "      <th>Income</th>\n",
       "      <th>Employment_type_Federal-gov</th>\n",
       "      <th>Employment_type_Local-gov</th>\n",
       "      <th>Employment_type_Private</th>\n",
       "      <th>Employment_type_Self-emp-inc</th>\n",
       "      <th>Employment_type_Self-emp-not-inc</th>\n",
       "      <th>Employment_type_State-gov</th>\n",
       "      <th>Employment_type_Without-pay</th>\n",
       "      <th>...</th>\n",
       "      <th>Native_country_Portugal</th>\n",
       "      <th>Native_country_Puerto-Rico</th>\n",
       "      <th>Native_country_Scotland</th>\n",
       "      <th>Native_country_South</th>\n",
       "      <th>Native_country_Taiwan</th>\n",
       "      <th>Native_country_Thailand</th>\n",
       "      <th>Native_country_Trinadad&amp;Tobago</th>\n",
       "      <th>Native_country_United-States</th>\n",
       "      <th>Native_country_Vietnam</th>\n",
       "      <th>Native_country_Yugoslavia</th>\n",
       "    </tr>\n",
       "  </thead>\n",
       "  <tbody>\n",
       "    <tr>\n",
       "      <th>0</th>\n",
       "      <td>25</td>\n",
       "      <td>40</td>\n",
       "      <td>0</td>\n",
       "      <td>0</td>\n",
       "      <td>0</td>\n",
       "      <td>1</td>\n",
       "      <td>0</td>\n",
       "      <td>0</td>\n",
       "      <td>0</td>\n",
       "      <td>0</td>\n",
       "      <td>...</td>\n",
       "      <td>0</td>\n",
       "      <td>0</td>\n",
       "      <td>0</td>\n",
       "      <td>0</td>\n",
       "      <td>0</td>\n",
       "      <td>0</td>\n",
       "      <td>0</td>\n",
       "      <td>1</td>\n",
       "      <td>0</td>\n",
       "      <td>0</td>\n",
       "    </tr>\n",
       "    <tr>\n",
       "      <th>1</th>\n",
       "      <td>38</td>\n",
       "      <td>50</td>\n",
       "      <td>0</td>\n",
       "      <td>0</td>\n",
       "      <td>0</td>\n",
       "      <td>1</td>\n",
       "      <td>0</td>\n",
       "      <td>0</td>\n",
       "      <td>0</td>\n",
       "      <td>0</td>\n",
       "      <td>...</td>\n",
       "      <td>0</td>\n",
       "      <td>0</td>\n",
       "      <td>0</td>\n",
       "      <td>0</td>\n",
       "      <td>0</td>\n",
       "      <td>0</td>\n",
       "      <td>0</td>\n",
       "      <td>1</td>\n",
       "      <td>0</td>\n",
       "      <td>0</td>\n",
       "    </tr>\n",
       "    <tr>\n",
       "      <th>2</th>\n",
       "      <td>28</td>\n",
       "      <td>40</td>\n",
       "      <td>1</td>\n",
       "      <td>0</td>\n",
       "      <td>1</td>\n",
       "      <td>0</td>\n",
       "      <td>0</td>\n",
       "      <td>0</td>\n",
       "      <td>0</td>\n",
       "      <td>0</td>\n",
       "      <td>...</td>\n",
       "      <td>0</td>\n",
       "      <td>0</td>\n",
       "      <td>0</td>\n",
       "      <td>0</td>\n",
       "      <td>0</td>\n",
       "      <td>0</td>\n",
       "      <td>0</td>\n",
       "      <td>1</td>\n",
       "      <td>0</td>\n",
       "      <td>0</td>\n",
       "    </tr>\n",
       "    <tr>\n",
       "      <th>3</th>\n",
       "      <td>44</td>\n",
       "      <td>40</td>\n",
       "      <td>1</td>\n",
       "      <td>0</td>\n",
       "      <td>0</td>\n",
       "      <td>1</td>\n",
       "      <td>0</td>\n",
       "      <td>0</td>\n",
       "      <td>0</td>\n",
       "      <td>0</td>\n",
       "      <td>...</td>\n",
       "      <td>0</td>\n",
       "      <td>0</td>\n",
       "      <td>0</td>\n",
       "      <td>0</td>\n",
       "      <td>0</td>\n",
       "      <td>0</td>\n",
       "      <td>0</td>\n",
       "      <td>1</td>\n",
       "      <td>0</td>\n",
       "      <td>0</td>\n",
       "    </tr>\n",
       "    <tr>\n",
       "      <th>5</th>\n",
       "      <td>34</td>\n",
       "      <td>30</td>\n",
       "      <td>0</td>\n",
       "      <td>0</td>\n",
       "      <td>0</td>\n",
       "      <td>1</td>\n",
       "      <td>0</td>\n",
       "      <td>0</td>\n",
       "      <td>0</td>\n",
       "      <td>0</td>\n",
       "      <td>...</td>\n",
       "      <td>0</td>\n",
       "      <td>0</td>\n",
       "      <td>0</td>\n",
       "      <td>0</td>\n",
       "      <td>0</td>\n",
       "      <td>0</td>\n",
       "      <td>0</td>\n",
       "      <td>1</td>\n",
       "      <td>0</td>\n",
       "      <td>0</td>\n",
       "    </tr>\n",
       "  </tbody>\n",
       "</table>\n",
       "<p>5 rows × 100 columns</p>\n",
       "</div>"
      ],
      "text/plain": [
       "   Age  Work_hours_per_week  Income  Employment_type_Federal-gov  \\\n",
       "0   25                   40       0                            0   \n",
       "1   38                   50       0                            0   \n",
       "2   28                   40       1                            0   \n",
       "3   44                   40       1                            0   \n",
       "5   34                   30       0                            0   \n",
       "\n",
       "   Employment_type_Local-gov  Employment_type_Private  \\\n",
       "0                          0                        1   \n",
       "1                          0                        1   \n",
       "2                          1                        0   \n",
       "3                          0                        1   \n",
       "5                          0                        1   \n",
       "\n",
       "   Employment_type_Self-emp-inc  Employment_type_Self-emp-not-inc  \\\n",
       "0                             0                                 0   \n",
       "1                             0                                 0   \n",
       "2                             0                                 0   \n",
       "3                             0                                 0   \n",
       "5                             0                                 0   \n",
       "\n",
       "   Employment_type_State-gov  Employment_type_Without-pay  ...  \\\n",
       "0                          0                            0  ...   \n",
       "1                          0                            0  ...   \n",
       "2                          0                            0  ...   \n",
       "3                          0                            0  ...   \n",
       "5                          0                            0  ...   \n",
       "\n",
       "   Native_country_Portugal  Native_country_Puerto-Rico  \\\n",
       "0                        0                           0   \n",
       "1                        0                           0   \n",
       "2                        0                           0   \n",
       "3                        0                           0   \n",
       "5                        0                           0   \n",
       "\n",
       "   Native_country_Scotland  Native_country_South  Native_country_Taiwan  \\\n",
       "0                        0                     0                      0   \n",
       "1                        0                     0                      0   \n",
       "2                        0                     0                      0   \n",
       "3                        0                     0                      0   \n",
       "5                        0                     0                      0   \n",
       "\n",
       "   Native_country_Thailand  Native_country_Trinadad&Tobago  \\\n",
       "0                        0                               0   \n",
       "1                        0                               0   \n",
       "2                        0                               0   \n",
       "3                        0                               0   \n",
       "5                        0                               0   \n",
       "\n",
       "   Native_country_United-States  Native_country_Vietnam  \\\n",
       "0                             1                       0   \n",
       "1                             1                       0   \n",
       "2                             1                       0   \n",
       "3                             1                       0   \n",
       "5                             1                       0   \n",
       "\n",
       "   Native_country_Yugoslavia  \n",
       "0                          0  \n",
       "1                          0  \n",
       "2                          0  \n",
       "3                          0  \n",
       "5                          0  \n",
       "\n",
       "[5 rows x 100 columns]"
      ]
     },
     "execution_count": 47,
     "metadata": {},
     "output_type": "execute_result"
    }
   ],
   "source": [
    "test.head()"
   ]
  },
  {
   "cell_type": "code",
   "execution_count": 48,
   "metadata": {},
   "outputs": [
    {
     "name": "stdout",
     "output_type": "stream",
     "text": [
      "(30161, 101)\n",
      "(15060, 100)\n"
     ]
    }
   ],
   "source": [
    "print(data.shape)\n",
    "print(test.shape)"
   ]
  },
  {
   "cell_type": "markdown",
   "metadata": {},
   "source": [
    "It seems after assigning dummy variables to both the training and the test sets we have one variable/feature in the training set that is not present in the test set. We need to find it and drop it."
   ]
  },
  {
   "cell_type": "code",
   "execution_count": 49,
   "metadata": {},
   "outputs": [
    {
     "name": "stdout",
     "output_type": "stream",
     "text": [
      "Native_country_Holand-Netherlands\n"
     ]
    }
   ],
   "source": [
    "for column in data.columns:\n",
    "    if column not in test.columns:\n",
    "        print(column)"
   ]
  },
  {
   "cell_type": "code",
   "execution_count": 50,
   "metadata": {},
   "outputs": [],
   "source": [
    "data.drop(columns = ['Native_country_Holand-Netherlands'], inplace = True)"
   ]
  },
  {
   "cell_type": "markdown",
   "metadata": {},
   "source": [
    "Readying the train and test sets for modelling"
   ]
  },
  {
   "cell_type": "code",
   "execution_count": 51,
   "metadata": {},
   "outputs": [],
   "source": [
    "y = data['Income']\n",
    "data.drop(columns = 'Income', inplace = True)\n",
    "X = data"
   ]
  },
  {
   "cell_type": "code",
   "execution_count": 52,
   "metadata": {},
   "outputs": [],
   "source": [
    "test_y = test['Income']\n",
    "test.drop(columns = 'Income', inplace = True)\n",
    "X_test = test"
   ]
  },
  {
   "cell_type": "markdown",
   "metadata": {},
   "source": [
    "# Model Building"
   ]
  },
  {
   "cell_type": "markdown",
   "metadata": {},
   "source": [
    "Importing dependencies from the scikit learn library for machine learning"
   ]
  },
  {
   "cell_type": "code",
   "execution_count": 53,
   "metadata": {},
   "outputs": [],
   "source": [
    "from sklearn.tree import DecisionTreeClassifier\n",
    "from sklearn import svm\n",
    "from sklearn.ensemble import RandomForestClassifier, GradientBoostingClassifier\n",
    "from sklearn.linear_model import LogisticRegression\n",
    "from sklearn.neighbors import KNeighborsClassifier\n",
    "from sklearn.naive_bayes import GaussianNB\n",
    "from sklearn.metrics import accuracy_score, confusion_matrix, classification_report, precision_recall_curve"
   ]
  },
  {
   "cell_type": "markdown",
   "metadata": {},
   "source": [
    "We would begin with Logistic Regression, one of the most simple yet powerful classification algorithm."
   ]
  },
  {
   "cell_type": "markdown",
   "metadata": {},
   "source": [
    "# Logistic Regression"
   ]
  },
  {
   "cell_type": "markdown",
   "metadata": {},
   "source": [
    "The single most important parameter to tune when implementing Logistic Regression in scikit learn is the 'C' parameter. Therefore we would compute accuracy of the Logistic Regression model using a number of different values for the 'C' parameter and then build a model and evaluate it."
   ]
  },
  {
   "cell_type": "code",
   "execution_count": 54,
   "metadata": {},
   "outputs": [
    {
     "data": {
      "text/plain": [
       "<matplotlib.legend.Legend at 0x10f5bd50>"
      ]
     },
     "execution_count": 54,
     "metadata": {},
     "output_type": "execute_result"
    },
    {
     "data": {
      "image/png": "[encoded data removed]",
      "text/plain": [
       "<Figure size 720x360 with 1 Axes>"
      ]
     },
     "metadata": {},
     "output_type": "display_data"
    }
   ],
   "source": [
    "train_accuracy = []\n",
    "test_accuracy = []\n",
    "c = [0.01,0.05,0.1,1,10]\n",
    "\n",
    "for C in c:\n",
    "    LR = LogisticRegression(solver = 'liblinear', C = C)\n",
    "    LR.fit(X,y)\n",
    "    train_accuracy.append(LR.score(X,y))\n",
    "    test_accuracy.append(LR.score(X_test, test_y))\n",
    "    \n",
    "plt.figure(figsize = (10,5))    \n",
    "plt.plot(c, train_accuracy, label = 'training accuracy', )\n",
    "plt.plot(c, test_accuracy, label = 'test accuracy')\n",
    "plt.ylabel('Accuracy')\n",
    "plt.xlabel('value of parameter(C)')\n",
    "plt.legend()    "
   ]
  },
  {
   "cell_type": "code",
   "execution_count": 55,
   "metadata": {},
   "outputs": [
    {
     "name": "stdout",
     "output_type": "stream",
     "text": [
      "Training accuracy (Logistic Regression): 0.83\n"
     ]
    }
   ],
   "source": [
    "lr = LogisticRegression(solver = 'liblinear' ,C = 0.1, max_iter = 1000, random_state = 100)\n",
    "model = lr.fit(X,y)\n",
    "\n",
    "print(\"Training accuracy (Logistic Regression): {:.2f}\".format(lr.score(X,y)))"
   ]
  },
  {
   "cell_type": "markdown",
   "metadata": {},
   "source": [
    "Setting the value of the 'C' parameter to 0.1 has yielded a training accuracy of 0.83. Now, let's evaluate ho is the model generalizing on the test data"
   ]
  },
  {
   "cell_type": "code",
   "execution_count": 56,
   "metadata": {},
   "outputs": [],
   "source": [
    "y_pred_lr = model.predict(X_test)"
   ]
  },
  {
   "cell_type": "code",
   "execution_count": 57,
   "metadata": {},
   "outputs": [
    {
     "data": {
      "text/plain": [
       "array([[10461,   899],\n",
       "       [ 1645,  2055]], dtype=int64)"
      ]
     },
     "execution_count": 57,
     "metadata": {},
     "output_type": "execute_result"
    }
   ],
   "source": [
    "conf_lr = confusion_matrix(test_y, y_pred_lr)\n",
    "conf_lr"
   ]
  },
  {
   "cell_type": "markdown",
   "metadata": {},
   "source": [
    "The model generalizes quite well yielding 83% accuracy on the test set.\n",
    "The true negative rate i.e. for the <50K class is good at 92% although the true positive rate for the >50K is average at 56%\n",
    "Similarly, the negative class <50K class has been predicted with a high degree of precision at 86% whereas >50K class has been predicted with around 70%.\n",
    "\n",
    "Below is the detailed classification report of the perfomance of the Logistic Regression Classifier"
   ]
  },
  {
   "cell_type": "code",
   "execution_count": 59,
   "metadata": {},
   "outputs": [
    {
     "name": "stdout",
     "output_type": "stream",
     "text": [
      "              precision    recall  f1-score   support\n",
      "\n",
      "           0       0.86      0.92      0.89     11360\n",
      "           1       0.70      0.56      0.62      3700\n",
      "\n",
      "    accuracy                           0.83     15060\n",
      "   macro avg       0.78      0.74      0.75     15060\n",
      "weighted avg       0.82      0.83      0.82     15060\n",
      "\n"
     ]
    }
   ],
   "source": [
    "print(classification_report(test_y, y_pred_lr))"
   ]
  },
  {
   "cell_type": "markdown",
   "metadata": {},
   "source": [
    "Following is the precicion recall curve for the classification of the Logistic Regression model"
   ]
  },
  {
   "cell_type": "code",
   "execution_count": 60,
   "metadata": {},
   "outputs": [
    {
     "name": "stderr",
     "output_type": "stream",
     "text": [
      "c:\\users\\admin\\appdata\\local\\programs\\python\\python37-32\\lib\\site-packages\\matplotlib\\figure.py:98: MatplotlibDeprecationWarning: \n",
      "Adding an axes using the same arguments as a previous axes currently reuses the earlier instance.  In a future version, a new instance will always be created and returned.  Meanwhile, this warning can be suppressed, and the future behavior ensured, by passing a unique label to each axes instance.\n",
      "  \"Adding an axes using the same arguments as a previous axes \"\n"
     ]
    },
    {
     "data": {
      "image/png": "[encoded data removed]",
      "text/plain": [
       "<Figure size 576x576 with 1 Axes>"
      ]
     },
     "metadata": {},
     "output_type": "display_data"
    }
   ],
   "source": [
    "precision_lr, recall_lr, thresholds_lr = precision_recall_curve(test_y, y_pred_lr)\n",
    "closest_zero = np.argmin(np.abs(thresholds_lr))\n",
    "closest_zero_p = precision_lr[closest_zero]\n",
    "closest_zero_r = recall_lr[closest_zero]\n",
    "\n",
    "plt.figure(figsize = (8,8))\n",
    "plt.xlim([0.0, 1.01])\n",
    "plt.ylim([0.0, 1.1])\n",
    "plt.plot(precision_lr, recall_lr, label='Precision-Recall Curve')\n",
    "plt.plot(closest_zero_p, closest_zero_r, 'o', markersize = 12, fillstyle = 'none', c='r', mew=3)\n",
    "plt.xlabel('Precision', fontsize=16)\n",
    "plt.ylabel('Recall', fontsize=16)\n",
    "plt.axes().set_aspect('equal')\n",
    "plt.show()"
   ]
  },
  {
   "cell_type": "markdown",
   "metadata": {},
   "source": [
    "Overall the Logistic Regression model has done a good job in predicting the negative class which actually is the majorit class and not that a good job in predicting the positive class."
   ]
  },
  {
   "cell_type": "markdown",
   "metadata": {},
   "source": [
    "# K- Nearest Neighbors"
   ]
  },
  {
   "cell_type": "markdown",
   "metadata": {},
   "source": [
    "The most important parameter to tune that affects the perfomance the most is the no. of neighbors parameter. \n",
    "Let's create a plot showing training and test accuracy after training KNN model for a range of n_neighbors."
   ]
  },
  {
   "cell_type": "code",
   "execution_count": 61,
   "metadata": {},
   "outputs": [
    {
     "data": {
      "text/plain": [
       "<matplotlib.legend.Legend at 0x1309eb50>"
      ]
     },
     "execution_count": 61,
     "metadata": {},
     "output_type": "execute_result"
    },
    {
     "data": {
      "image/png": "[encoded data removed]",
      "text/plain": [
       "<Figure size 720x360 with 1 Axes>"
      ]
     },
     "metadata": {},
     "output_type": "display_data"
    }
   ],
   "source": [
    "train_accuracy = []\n",
    "test_accuracy = []\n",
    "neighbors = range(1,11)\n",
    "for n_neighbors in neighbors:\n",
    "    KNN = KNeighborsClassifier(n_neighbors = n_neighbors, weights = 'uniform', n_jobs = 5)\n",
    "    KNN.fit(X,y)\n",
    "    train_accuracy.append(KNN.score(X,y))\n",
    "    test_accuracy.append(KNN.score(X_test, test_y))\n",
    "\n",
    "plt.figure(figsize = (10,5))    \n",
    "plt.plot(neighbors, train_accuracy, label = 'training accuracy')\n",
    "plt.plot(neighbors, test_accuracy, label = 'test accuracy')\n",
    "plt.ylabel('Accuracy')\n",
    "plt.xlabel('no. of neighbors')\n",
    "plt.legend()"
   ]
  },
  {
   "cell_type": "code",
   "execution_count": 62,
   "metadata": {},
   "outputs": [
    {
     "name": "stdout",
     "output_type": "stream",
     "text": [
      "Training accuracy (K- Nearest Neighbors): 0.85\n"
     ]
    }
   ],
   "source": [
    "knn =KNeighborsClassifier(n_neighbors = 6, weights = 'uniform', n_jobs = 5)\n",
    "knn_model = knn.fit(X,y)\n",
    "print(\"Training accuracy (K- Nearest Neighbors): {:.2f}\".format(knn.score(X,y)))"
   ]
  },
  {
   "cell_type": "markdown",
   "metadata": {},
   "source": [
    "Applying the model on the test data"
   ]
  },
  {
   "cell_type": "code",
   "execution_count": 63,
   "metadata": {},
   "outputs": [],
   "source": [
    "y_pred_knn = knn_model.predict(X_test)"
   ]
  },
  {
   "cell_type": "markdown",
   "metadata": {},
   "source": [
    "Confusion matrix"
   ]
  },
  {
   "cell_type": "code",
   "execution_count": 64,
   "metadata": {},
   "outputs": [
    {
     "data": {
      "text/plain": [
       "array([[10368,   992],\n",
       "       [ 1924,  1776]], dtype=int64)"
      ]
     },
     "execution_count": 64,
     "metadata": {},
     "output_type": "execute_result"
    }
   ],
   "source": [
    "conf_knn = confusion_matrix(test_y, y_pred_knn)\n",
    "conf_knn"
   ]
  },
  {
   "cell_type": "markdown",
   "metadata": {},
   "source": [
    "Detailed classification report for the KNN classifier\n",
    "\n",
    "KNN does quite well at predicting the majority class i.e. the negative class and also overall accuracy of 81% but does no better rather worse than Logistic Regression at predicting the minority class (positive class)."
   ]
  },
  {
   "cell_type": "code",
   "execution_count": 66,
   "metadata": {},
   "outputs": [
    {
     "name": "stdout",
     "output_type": "stream",
     "text": [
      "              precision    recall  f1-score   support\n",
      "\n",
      "           0       0.84      0.91      0.88     11360\n",
      "           1       0.64      0.48      0.55      3700\n",
      "\n",
      "    accuracy                           0.81     15060\n",
      "   macro avg       0.74      0.70      0.71     15060\n",
      "weighted avg       0.79      0.81      0.80     15060\n",
      "\n"
     ]
    }
   ],
   "source": [
    "print(classification_report(test_y, y_pred_knn))"
   ]
  },
  {
   "cell_type": "markdown",
   "metadata": {},
   "source": [
    "Precision - recall curve for the KNN binary classifier"
   ]
  },
  {
   "cell_type": "code",
   "execution_count": 67,
   "metadata": {},
   "outputs": [
    {
     "name": "stderr",
     "output_type": "stream",
     "text": [
      "c:\\users\\admin\\appdata\\local\\programs\\python\\python37-32\\lib\\site-packages\\matplotlib\\figure.py:98: MatplotlibDeprecationWarning: \n",
      "Adding an axes using the same arguments as a previous axes currently reuses the earlier instance.  In a future version, a new instance will always be created and returned.  Meanwhile, this warning can be suppressed, and the future behavior ensured, by passing a unique label to each axes instance.\n",
      "  \"Adding an axes using the same arguments as a previous axes \"\n"
     ]
    },
    {
     "data": {
      "image/png": "[encoded data removed]",
      "text/plain": [
       "<Figure size 576x576 with 1 Axes>"
      ]
     },
     "metadata": {},
     "output_type": "display_data"
    }
   ],
   "source": [
    "precision, recall, thresholds = precision_recall_curve(test_y, y_pred_knn)\n",
    "closest_zero = np.argmin(np.abs(thresholds))\n",
    "closest_zero_p = precision[closest_zero]\n",
    "closest_zero_r = recall[closest_zero]\n",
    "\n",
    "plt.figure(figsize = (8,8))\n",
    "plt.xlim([0.0, 1.01])\n",
    "plt.ylim([0.0, 1.1])\n",
    "plt.plot(precision, recall, label='Precision-Recall Curve')\n",
    "plt.plot(closest_zero_p, closest_zero_r, 'o', markersize = 12, fillstyle = 'none', c='r', mew=3)\n",
    "plt.xlabel('Precision', fontsize=16)\n",
    "plt.ylabel('Recall', fontsize=16)\n",
    "plt.axes().set_aspect('equal')\n",
    "plt.show()"
   ]
  },
  {
   "cell_type": "markdown",
   "metadata": {},
   "source": [
    "# Support Vector Classifier"
   ]
  },
  {
   "cell_type": "markdown",
   "metadata": {},
   "source": [
    "Here in SVC we will be finding the appropriate value for the C parameter in order to optimize the model. \n",
    "Plotting the train and test accuracy for a number of values of C"
   ]
  },
  {
   "cell_type": "code",
   "execution_count": 68,
   "metadata": {},
   "outputs": [
    {
     "data": {
      "text/plain": [
       "<matplotlib.legend.Legend at 0x1023fd90>"
      ]
     },
     "execution_count": 68,
     "metadata": {},
     "output_type": "execute_result"
    },
    {
     "data": {
      "image/png": "[encoded data removed]",
      "text/plain": [
       "<Figure size 720x360 with 1 Axes>"
      ]
     },
     "metadata": {},
     "output_type": "display_data"
    }
   ],
   "source": [
    "train_accuracy = []\n",
    "test_accuracy = []\n",
    "c = [0.01,0.05,0.1,1]\n",
    "\n",
    "for C in c:\n",
    "    SVC = svm.SVC(gamma = 'scale', C = C)\n",
    "    SVC.fit(X,y)\n",
    "    train_accuracy.append(SVC.score(X,y))\n",
    "    test_accuracy.append(SVC.score(X_test, test_y))\n",
    "    \n",
    "plt.figure(figsize = (10,5))    \n",
    "plt.ylim(0.5,1)\n",
    "plt.plot(c, train_accuracy, label = 'training accuracy')\n",
    "plt.plot(c, test_accuracy, label = 'test accuracy')\n",
    "plt.ylabel('Accuracy')\n",
    "plt.xlabel('value of parameter(C)')\n",
    "plt.legend(loc = 4)    "
   ]
  },
  {
   "cell_type": "code",
   "execution_count": 69,
   "metadata": {},
   "outputs": [
    {
     "name": "stdout",
     "output_type": "stream",
     "text": [
      "Training accuracy (Support Vector Classifier): 0.81\n"
     ]
    }
   ],
   "source": [
    "svc = svm.SVC(kernel = 'poly',C = 1, gamma = 'scale')\n",
    "svc_model = svc.fit(X,y)\n",
    "print(\"Training accuracy (Support Vector Classifier): {:.2f}\".format(svc.score(X,y)))"
   ]
  },
  {
   "cell_type": "markdown",
   "metadata": {},
   "source": [
    "Making predictions on the test data"
   ]
  },
  {
   "cell_type": "code",
   "execution_count": 70,
   "metadata": {},
   "outputs": [],
   "source": [
    "y_pred_svc = svc_model.predict(X_test)"
   ]
  },
  {
   "cell_type": "markdown",
   "metadata": {},
   "source": [
    "Detailed classification report for the SVC classifier"
   ]
  },
  {
   "cell_type": "code",
   "execution_count": 73,
   "metadata": {},
   "outputs": [
    {
     "name": "stdout",
     "output_type": "stream",
     "text": [
      "              precision    recall  f1-score   support\n",
      "\n",
      "           0       0.82      0.96      0.89     11360\n",
      "           1       0.75      0.35      0.48      3700\n",
      "\n",
      "    accuracy                           0.81     15060\n",
      "   macro avg       0.79      0.66      0.68     15060\n",
      "weighted avg       0.80      0.81      0.79     15060\n",
      "\n"
     ]
    }
   ],
   "source": [
    "print(classification_report(test_y, y_pred_svc))"
   ]
  },
  {
   "cell_type": "markdown",
   "metadata": {},
   "source": [
    "With almost similar overall accuracy SVC does does a great job at predicting the majority class in the data but not that well in predicting the minority class."
   ]
  },
  {
   "cell_type": "markdown",
   "metadata": {},
   "source": [
    "Below is the precision recall curve for SVC Classifier"
   ]
  },
  {
   "cell_type": "code",
   "execution_count": 74,
   "metadata": {},
   "outputs": [
    {
     "name": "stderr",
     "output_type": "stream",
     "text": [
      "c:\\users\\admin\\appdata\\local\\programs\\python\\python37-32\\lib\\site-packages\\matplotlib\\figure.py:98: MatplotlibDeprecationWarning: \n",
      "Adding an axes using the same arguments as a previous axes currently reuses the earlier instance.  In a future version, a new instance will always be created and returned.  Meanwhile, this warning can be suppressed, and the future behavior ensured, by passing a unique label to each axes instance.\n",
      "  \"Adding an axes using the same arguments as a previous axes \"\n"
     ]
    },
    {
     "data": {
      "image/png": "[encoded data removed]",
      "text/plain": [
       "<Figure size 576x576 with 1 Axes>"
      ]
     },
     "metadata": {},
     "output_type": "display_data"
    }
   ],
   "source": [
    "precision, recall, thresholds = precision_recall_curve(test_y, y_pred_svc)\n",
    "closest_zero = np.argmin(np.abs(thresholds))\n",
    "closest_zero_p = precision[closest_zero]\n",
    "closest_zero_r = recall[closest_zero]\n",
    "\n",
    "plt.figure(figsize = (8,8))\n",
    "plt.xlim([0.0, 1.01])\n",
    "plt.ylim([0.0, 1.1])\n",
    "plt.plot(precision, recall, label='Precision-Recall Curve')\n",
    "plt.plot(closest_zero_p, closest_zero_r, 'o', markersize = 12, fillstyle = 'none', c='r', mew=3)\n",
    "plt.xlabel('Precision', fontsize=16)\n",
    "plt.ylabel('Recall', fontsize=16)\n",
    "plt.axes().set_aspect('equal')\n",
    "plt.show()"
   ]
  },
  {
   "cell_type": "markdown",
   "metadata": {},
   "source": [
    "# Decision Tree Classifier"
   ]
  },
  {
   "cell_type": "markdown",
   "metadata": {},
   "source": [
    "Testing out a tree classifier and observe how does it perform in predicting majority and minority classes. "
   ]
  },
  {
   "cell_type": "code",
   "execution_count": 75,
   "metadata": {},
   "outputs": [
    {
     "name": "stdout",
     "output_type": "stream",
     "text": [
      "Training accuracy (Decision Tree Classifier): 0.79\n"
     ]
    }
   ],
   "source": [
    "dt = DecisionTreeClassifier(max_features = 20, max_depth = 5)\n",
    "dt_model = dt.fit(X,y)\n",
    "\n",
    "print(\"Training accuracy (Decision Tree Classifier): {:.2f}\".format(dt.score(X,y)))"
   ]
  },
  {
   "cell_type": "code",
   "execution_count": 76,
   "metadata": {},
   "outputs": [],
   "source": [
    "y_pred_dt = dt_model.predict(X_test)"
   ]
  },
  {
   "cell_type": "code",
   "execution_count": 77,
   "metadata": {},
   "outputs": [
    {
     "data": {
      "text/plain": [
       "array([[10635,   725],\n",
       "       [ 2324,  1376]], dtype=int64)"
      ]
     },
     "execution_count": 77,
     "metadata": {},
     "output_type": "execute_result"
    }
   ],
   "source": [
    "conf_dt = confusion_matrix(test_y, y_pred_dt)\n",
    "conf_dt"
   ]
  },
  {
   "cell_type": "markdown",
   "metadata": {},
   "source": [
    "The below classification report suggests that the decision tree classifier performs no better than LR, KNN and SVM i.e. does a good job at predicting the negative class (i.e. the majority class) and not a good job at predicting the minority class."
   ]
  },
  {
   "cell_type": "code",
   "execution_count": 79,
   "metadata": {},
   "outputs": [
    {
     "name": "stdout",
     "output_type": "stream",
     "text": [
      "              precision    recall  f1-score   support\n",
      "\n",
      "           0       0.82      0.94      0.87     11360\n",
      "           1       0.65      0.37      0.47      3700\n",
      "\n",
      "    accuracy                           0.80     15060\n",
      "   macro avg       0.74      0.65      0.67     15060\n",
      "weighted avg       0.78      0.80      0.78     15060\n",
      "\n"
     ]
    }
   ],
   "source": [
    "print(classification_report(test_y, y_pred_dt))"
   ]
  },
  {
   "cell_type": "markdown",
   "metadata": {},
   "source": [
    "Below precision-recall curve tells almost the same story as well."
   ]
  },
  {
   "cell_type": "code",
   "execution_count": 80,
   "metadata": {},
   "outputs": [
    {
     "name": "stderr",
     "output_type": "stream",
     "text": [
      "c:\\users\\admin\\appdata\\local\\programs\\python\\python37-32\\lib\\site-packages\\matplotlib\\figure.py:98: MatplotlibDeprecationWarning: \n",
      "Adding an axes using the same arguments as a previous axes currently reuses the earlier instance.  In a future version, a new instance will always be created and returned.  Meanwhile, this warning can be suppressed, and the future behavior ensured, by passing a unique label to each axes instance.\n",
      "  \"Adding an axes using the same arguments as a previous axes \"\n"
     ]
    },
    {
     "data": {
      "image/png": "[encoded data removed]",
      "text/plain": [
       "<Figure size 576x576 with 1 Axes>"
      ]
     },
     "metadata": {},
     "output_type": "display_data"
    }
   ],
   "source": [
    "precision, recall, thresholds = precision_recall_curve(test_y, y_pred_dt)\n",
    "closest_zero = np.argmin(np.abs(thresholds))\n",
    "closest_zero_p = precision[closest_zero]\n",
    "closest_zero_r = recall[closest_zero]\n",
    "\n",
    "plt.figure(figsize = (8,8))\n",
    "plt.xlim([0.0, 1.01])\n",
    "plt.ylim([0.0, 1.1])\n",
    "plt.plot(precision, recall, label='Precision-Recall Curve')\n",
    "plt.plot(closest_zero_p, closest_zero_r, 'o', markersize = 12, fillstyle = 'none', c='r', mew=3)\n",
    "plt.xlabel('Precision', fontsize=16)\n",
    "plt.ylabel('Recall', fontsize=16)\n",
    "plt.axes().set_aspect('equal')\n",
    "plt.show()"
   ]
  },
  {
   "cell_type": "markdown",
   "metadata": {},
   "source": [
    "Since, the tree classifier performs no better than the other binary classifiers, let us apply some comparatively complex models and see how do they perform in predicting the minority class."
   ]
  },
  {
   "cell_type": "markdown",
   "metadata": {},
   "source": [
    "# Random Forest Classifier"
   ]
  },
  {
   "cell_type": "markdown",
   "metadata": {},
   "source": [
    "We wouldn't be striving for the best features now, but would build an optimal model just in order to make sure whether we could improve our perfomance in predicting the minority class."
   ]
  },
  {
   "cell_type": "code",
   "execution_count": 81,
   "metadata": {},
   "outputs": [
    {
     "name": "stdout",
     "output_type": "stream",
     "text": [
      "Training accuracy (Random Forest Classifier): 0.84\n"
     ]
    }
   ],
   "source": [
    "rfc = RandomForestClassifier(n_estimators = 200, max_depth = 10, n_jobs = 2, random_state = 100)\n",
    "rfc_model = rfc.fit(X,y)\n",
    "\n",
    "print(\"Training accuracy (Random Forest Classifier): {:.2f}\".format(rfc.score(X,y)))"
   ]
  },
  {
   "cell_type": "code",
   "execution_count": 82,
   "metadata": {},
   "outputs": [],
   "source": [
    "y_pred_rfc = rfc_model.predict(X_test)"
   ]
  },
  {
   "cell_type": "code",
   "execution_count": 83,
   "metadata": {},
   "outputs": [
    {
     "data": {
      "text/plain": [
       "array([[10716,   644],\n",
       "       [ 1892,  1808]], dtype=int64)"
      ]
     },
     "execution_count": 83,
     "metadata": {},
     "output_type": "execute_result"
    }
   ],
   "source": [
    "conf_rfc = confusion_matrix(test_y, y_pred_rfc)\n",
    "conf_rfc"
   ]
  },
  {
   "cell_type": "markdown",
   "metadata": {},
   "source": [
    "Good Overall Accuracy as the previous models\n",
    "\n",
    "Does quite well in predicting the majority class\n",
    "\n",
    "Does better than previous models in predicting the minority class"
   ]
  },
  {
   "cell_type": "code",
   "execution_count": 85,
   "metadata": {},
   "outputs": [
    {
     "name": "stdout",
     "output_type": "stream",
     "text": [
      "              precision    recall  f1-score   support\n",
      "\n",
      "           0       0.85      0.94      0.89     11360\n",
      "           1       0.74      0.49      0.59      3700\n",
      "\n",
      "    accuracy                           0.83     15060\n",
      "   macro avg       0.79      0.72      0.74     15060\n",
      "weighted avg       0.82      0.83      0.82     15060\n",
      "\n"
     ]
    }
   ],
   "source": [
    "print(classification_report(test_y, y_pred_rfc))"
   ]
  },
  {
   "cell_type": "code",
   "execution_count": 86,
   "metadata": {},
   "outputs": [
    {
     "name": "stderr",
     "output_type": "stream",
     "text": [
      "c:\\users\\admin\\appdata\\local\\programs\\python\\python37-32\\lib\\site-packages\\matplotlib\\figure.py:98: MatplotlibDeprecationWarning: \n",
      "Adding an axes using the same arguments as a previous axes currently reuses the earlier instance.  In a future version, a new instance will always be created and returned.  Meanwhile, this warning can be suppressed, and the future behavior ensured, by passing a unique label to each axes instance.\n",
      "  \"Adding an axes using the same arguments as a previous axes \"\n"
     ]
    },
    {
     "data": {
      "image/png": "[encoded data removed]",
      "text/plain": [
       "<Figure size 576x576 with 1 Axes>"
      ]
     },
     "metadata": {},
     "output_type": "display_data"
    }
   ],
   "source": [
    "precision, recall, thresholds = precision_recall_curve(test_y, y_pred_rfc)\n",
    "closest_zero = np.argmin(np.abs(thresholds))\n",
    "closest_zero_p = precision[closest_zero]\n",
    "closest_zero_r = recall[closest_zero]\n",
    "\n",
    "plt.figure(figsize = (8,8))\n",
    "plt.xlim([0.0, 1.01])\n",
    "plt.ylim([0.0, 1.1])\n",
    "plt.plot(precision, recall, label='Precision-Recall Curve')\n",
    "plt.plot(closest_zero_p, closest_zero_r, 'o', markersize = 12, fillstyle = 'none', c='r', mew=3)\n",
    "plt.xlabel('Precision', fontsize=16)\n",
    "plt.ylabel('Recall', fontsize=16)\n",
    "plt.axes().set_aspect('equal')\n",
    "plt.show()"
   ]
  },
  {
   "cell_type": "markdown",
   "metadata": {},
   "source": [
    "# Gradient Boosted Decision Trees"
   ]
  },
  {
   "cell_type": "markdown",
   "metadata": {},
   "source": [
    "Let us see if boosting the weak learners of a Decision tree by means of a simple GBDT model help in improving prediction perfomance on the minority class"
   ]
  },
  {
   "cell_type": "code",
   "execution_count": 87,
   "metadata": {},
   "outputs": [
    {
     "name": "stdout",
     "output_type": "stream",
     "text": [
      "Training accuracy (Gradient Boosted Decision Trees): 0.82\n"
     ]
    }
   ],
   "source": [
    "gbdt = GradientBoostingClassifier(max_depth = 5, n_estimators = 20, max_features = 10, random_state = 10)\n",
    "gbdt_model = gbdt.fit(X,y)\n",
    "\n",
    "print(\"Training accuracy (Gradient Boosted Decision Trees): {:.2f}\".format(gbdt.score(X,y)))"
   ]
  },
  {
   "cell_type": "code",
   "execution_count": 88,
   "metadata": {},
   "outputs": [],
   "source": [
    "y_pred_gbdt = gbdt_model.predict(X_test)"
   ]
  },
  {
   "cell_type": "code",
   "execution_count": 89,
   "metadata": {},
   "outputs": [
    {
     "data": {
      "text/plain": [
       "array([[10824,   536],\n",
       "       [ 2144,  1556]], dtype=int64)"
      ]
     },
     "execution_count": 89,
     "metadata": {},
     "output_type": "execute_result"
    }
   ],
   "source": [
    "conf_gbdt = confusion_matrix(test_y, y_pred_gbdt)\n",
    "conf_gbdt"
   ]
  },
  {
   "cell_type": "code",
   "execution_count": 91,
   "metadata": {},
   "outputs": [
    {
     "name": "stdout",
     "output_type": "stream",
     "text": [
      "              precision    recall  f1-score   support\n",
      "\n",
      "           0       0.83      0.95      0.89     11360\n",
      "           1       0.74      0.42      0.54      3700\n",
      "\n",
      "    accuracy                           0.82     15060\n",
      "   macro avg       0.79      0.69      0.71     15060\n",
      "weighted avg       0.81      0.82      0.80     15060\n",
      "\n"
     ]
    }
   ],
   "source": [
    "print(classification_report(test_y, y_pred_gbdt))"
   ]
  },
  {
   "cell_type": "markdown",
   "metadata": {},
   "source": [
    "It does better than traditional Decision trees model but not better than Random Forest Classifier in predicting the minority class."
   ]
  },
  {
   "cell_type": "code",
   "execution_count": 99,
   "metadata": {},
   "outputs": [
    {
     "data": {
      "image/png": "[encoded data removed]",
      "text/plain": [
       "<Figure size 576x576 with 1 Axes>"
      ]
     },
     "metadata": {},
     "output_type": "display_data"
    }
   ],
   "source": [
    "precision, recall, thresholds = precision_recall_curve(test_y, y_pred_gbdt)\n",
    "closest_zero = np.argmin(np.abs(thresholds))\n",
    "closest_zero_p = precision[closest_zero]\n",
    "closest_zero_r = recall[closest_zero]\n",
    "\n",
    "plt.figure(figsize = (8,8))\n",
    "plt.xlim([0.0, 1.01])\n",
    "plt.ylim([0.0, 1.1])\n",
    "plt.plot(precision, recall, label='Precision-Recall Curve')\n",
    "plt.plot(closest_zero_p, closest_zero_r, 'o', markersize = 12, fillstyle = 'none', c='r', mew=3)\n",
    "plt.xlabel('Precision', fontsize=16)\n",
    "plt.ylabel('Recall', fontsize=16)\n",
    "plt.axes().set_aspect('equal')\n",
    "plt.show()"
   ]
  },
  {
   "cell_type": "markdown",
   "metadata": {},
   "source": [
    "With some more tuning of parameters in both the ensemble methods we could still marginally improve the perfomance of predicting the minority class correctly but not as good as the majority class for sure."
   ]
  }
 ],
 "metadata": {
  "kernelspec": {
   "display_name": "Python 3",
   "language": "python",
   "name": "python3"
  },
  "language_info": {
   "codemirror_mode": {
    "name": "ipython",
    "version": 3
   },
   "file_extension": ".py",
   "mimetype": "text/x-python",
   "name": "python",
   "nbconvert_exporter": "python",
   "pygments_lexer": "ipython3",
   "version": "3.7.3"
  }
 },
 "nbformat": 4,
 "nbformat_minor": 2
}
