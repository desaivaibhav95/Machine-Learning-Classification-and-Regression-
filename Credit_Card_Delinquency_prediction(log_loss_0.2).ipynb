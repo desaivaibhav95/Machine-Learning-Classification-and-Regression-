{
  "nbformat": 4,
  "nbformat_minor": 0,
  "metadata": {
    "colab": {
      "name": "Credit Card Delinquency prediction(log loss : 0.2).ipynb",
      "provenance": [],
      "collapsed_sections": [],
      "mount_file_id": "1iDLTWuO4oDjrfMv4H0EuFzmD9lCPXsDW",
      "authorship_tag": "ABX9TyOirZqNb7qoQpRnAV4YxkGw",
      "include_colab_link": true
    },
    "kernelspec": {
      "name": "python3",
      "display_name": "Python 3"
    }
  },
  "cells": [
    {
      "cell_type": "markdown",
      "metadata": {
        "id": "view-in-github",
        "colab_type": "text"
      },
      "source": [
        "<a href=\"https://colab.research.google.com/github/desaivaibhav95/Machine-Learning-Classification-and-Regression-/blob/master/Credit_Card_Delinquency_prediction(log_loss_0.2).ipynb\" target=\"_parent\"><img src=\"https://colab.research.google.com/assets/colab-badge.svg\" alt=\"Open In Colab\"/></a>"
      ]
    },
    {
      "cell_type": "code",
      "metadata": {
        "id": "5ibo-19blKZx",
        "colab_type": "code",
        "colab": {
          "base_uri": "https://localhost:8080/",
          "height": 71
        },
        "outputId": "b7c0de62-b1d9-4d0a-9c53-463cd5568db6"
      },
      "source": [
        "import pandas as pd\n",
        "import numpy as np\n",
        "import matplotlib.pyplot as plt\n",
        "%matplotlib inline\n",
        "import seaborn as sns\n",
        "sns.set()\n",
        "import warnings\n",
        "from pandas.core.common import SettingWithCopyWarning\n",
        "warnings.simplefilter(action=\"ignore\", category=SettingWithCopyWarning)"
      ],
      "execution_count": 1,
      "outputs": [
        {
          "output_type": "stream",
          "text": [
            "/usr/local/lib/python3.6/dist-packages/statsmodels/tools/_testing.py:19: FutureWarning: pandas.util.testing is deprecated. Use the functions in the public API at pandas.testing instead.\n",
            "  import pandas.util.testing as tm\n"
          ],
          "name": "stderr"
        }
      ]
    },
    {
      "cell_type": "markdown",
      "metadata": {
        "id": "ljAP3KXrre-3",
        "colab_type": "text"
      },
      "source": [
        "## Loading Data into the terminal"
      ]
    },
    {
      "cell_type": "code",
      "metadata": {
        "id": "Sj17QsmBZxu4",
        "colab_type": "code",
        "colab": {}
      },
      "source": [
        "data = pd.read_csv(\"/content/drive/My Drive/Kaggle Datasets /Give me some credit/cs-training.csv\")"
      ],
      "execution_count": 2,
      "outputs": []
    },
    {
      "cell_type": "code",
      "metadata": {
        "id": "DeFRA4qFaSDv",
        "colab_type": "code",
        "colab": {}
      },
      "source": [
        "data.drop(columns = ['Unnamed: 0'], inplace = True)"
      ],
      "execution_count": 3,
      "outputs": []
    },
    {
      "cell_type": "code",
      "metadata": {
        "id": "QZ_ohwOtaU8o",
        "colab_type": "code",
        "colab": {
          "base_uri": "https://localhost:8080/",
          "height": 241
        },
        "outputId": "3bd5c0b6-2274-4f6a-b45e-4a4d5909968e"
      },
      "source": [
        "data.head()"
      ],
      "execution_count": 4,
      "outputs": [
        {
          "output_type": "execute_result",
          "data": {
            "text/html": [
              "<div>\n",
              "<style scoped>\n",
              "    .dataframe tbody tr th:only-of-type {\n",
              "        vertical-align: middle;\n",
              "    }\n",
              "\n",
              "    .dataframe tbody tr th {\n",
              "        vertical-align: top;\n",
              "    }\n",
              "\n",
              "    .dataframe thead th {\n",
              "        text-align: right;\n",
              "    }\n",
              "</style>\n",
              "<table border=\"1\" class=\"dataframe\">\n",
              "  <thead>\n",
              "    <tr style=\"text-align: right;\">\n",
              "      <th></th>\n",
              "      <th>SeriousDlqin2yrs</th>\n",
              "      <th>RevolvingUtilizationOfUnsecuredLines</th>\n",
              "      <th>age</th>\n",
              "      <th>NumberOfTime30-59DaysPastDueNotWorse</th>\n",
              "      <th>DebtRatio</th>\n",
              "      <th>MonthlyIncome</th>\n",
              "      <th>NumberOfOpenCreditLinesAndLoans</th>\n",
              "      <th>NumberOfTimes90DaysLate</th>\n",
              "      <th>NumberRealEstateLoansOrLines</th>\n",
              "      <th>NumberOfTime60-89DaysPastDueNotWorse</th>\n",
              "      <th>NumberOfDependents</th>\n",
              "    </tr>\n",
              "  </thead>\n",
              "  <tbody>\n",
              "    <tr>\n",
              "      <th>0</th>\n",
              "      <td>1</td>\n",
              "      <td>0.766127</td>\n",
              "      <td>45</td>\n",
              "      <td>2</td>\n",
              "      <td>0.802982</td>\n",
              "      <td>9120.0</td>\n",
              "      <td>13</td>\n",
              "      <td>0</td>\n",
              "      <td>6</td>\n",
              "      <td>0</td>\n",
              "      <td>2.0</td>\n",
              "    </tr>\n",
              "    <tr>\n",
              "      <th>1</th>\n",
              "      <td>0</td>\n",
              "      <td>0.957151</td>\n",
              "      <td>40</td>\n",
              "      <td>0</td>\n",
              "      <td>0.121876</td>\n",
              "      <td>2600.0</td>\n",
              "      <td>4</td>\n",
              "      <td>0</td>\n",
              "      <td>0</td>\n",
              "      <td>0</td>\n",
              "      <td>1.0</td>\n",
              "    </tr>\n",
              "    <tr>\n",
              "      <th>2</th>\n",
              "      <td>0</td>\n",
              "      <td>0.658180</td>\n",
              "      <td>38</td>\n",
              "      <td>1</td>\n",
              "      <td>0.085113</td>\n",
              "      <td>3042.0</td>\n",
              "      <td>2</td>\n",
              "      <td>1</td>\n",
              "      <td>0</td>\n",
              "      <td>0</td>\n",
              "      <td>0.0</td>\n",
              "    </tr>\n",
              "    <tr>\n",
              "      <th>3</th>\n",
              "      <td>0</td>\n",
              "      <td>0.233810</td>\n",
              "      <td>30</td>\n",
              "      <td>0</td>\n",
              "      <td>0.036050</td>\n",
              "      <td>3300.0</td>\n",
              "      <td>5</td>\n",
              "      <td>0</td>\n",
              "      <td>0</td>\n",
              "      <td>0</td>\n",
              "      <td>0.0</td>\n",
              "    </tr>\n",
              "    <tr>\n",
              "      <th>4</th>\n",
              "      <td>0</td>\n",
              "      <td>0.907239</td>\n",
              "      <td>49</td>\n",
              "      <td>1</td>\n",
              "      <td>0.024926</td>\n",
              "      <td>63588.0</td>\n",
              "      <td>7</td>\n",
              "      <td>0</td>\n",
              "      <td>1</td>\n",
              "      <td>0</td>\n",
              "      <td>0.0</td>\n",
              "    </tr>\n",
              "  </tbody>\n",
              "</table>\n",
              "</div>"
            ],
            "text/plain": [
              "   SeriousDlqin2yrs  ...  NumberOfDependents\n",
              "0                 1  ...                 2.0\n",
              "1                 0  ...                 1.0\n",
              "2                 0  ...                 0.0\n",
              "3                 0  ...                 0.0\n",
              "4                 0  ...                 0.0\n",
              "\n",
              "[5 rows x 11 columns]"
            ]
          },
          "metadata": {
            "tags": []
          },
          "execution_count": 4
        }
      ]
    },
    {
      "cell_type": "code",
      "metadata": {
        "id": "tcKF8QCCIoQK",
        "colab_type": "code",
        "colab": {
          "base_uri": "https://localhost:8080/",
          "height": 119
        },
        "outputId": "51607400-bf13-4cdd-bcf4-a884243f9b10"
      },
      "source": [
        "data.columns"
      ],
      "execution_count": 5,
      "outputs": [
        {
          "output_type": "execute_result",
          "data": {
            "text/plain": [
              "Index(['SeriousDlqin2yrs', 'RevolvingUtilizationOfUnsecuredLines', 'age',\n",
              "       'NumberOfTime30-59DaysPastDueNotWorse', 'DebtRatio', 'MonthlyIncome',\n",
              "       'NumberOfOpenCreditLinesAndLoans', 'NumberOfTimes90DaysLate',\n",
              "       'NumberRealEstateLoansOrLines', 'NumberOfTime60-89DaysPastDueNotWorse',\n",
              "       'NumberOfDependents'],\n",
              "      dtype='object')"
            ]
          },
          "metadata": {
            "tags": []
          },
          "execution_count": 5
        }
      ]
    },
    {
      "cell_type": "markdown",
      "metadata": {
        "id": "s-450uNbgknT",
        "colab_type": "text"
      },
      "source": [
        "## Data Cleaning"
      ]
    },
    {
      "cell_type": "code",
      "metadata": {
        "id": "d7udU9y9sfzl",
        "colab_type": "code",
        "colab": {
          "base_uri": "https://localhost:8080/",
          "height": 34
        },
        "outputId": "bccd4058-2efe-4222-e441-4b712f3d5b29"
      },
      "source": [
        "data.shape"
      ],
      "execution_count": 6,
      "outputs": [
        {
          "output_type": "execute_result",
          "data": {
            "text/plain": [
              "(150000, 11)"
            ]
          },
          "metadata": {
            "tags": []
          },
          "execution_count": 6
        }
      ]
    },
    {
      "cell_type": "code",
      "metadata": {
        "id": "kf9mC4S_dZKp",
        "colab_type": "code",
        "colab": {
          "base_uri": "https://localhost:8080/",
          "height": 68
        },
        "outputId": "8e68f7e5-d577-419e-e79b-9f0fce40ea17"
      },
      "source": [
        "data['SeriousDlqin2yrs'].value_counts()"
      ],
      "execution_count": 7,
      "outputs": [
        {
          "output_type": "execute_result",
          "data": {
            "text/plain": [
              "0    139974\n",
              "1     10026\n",
              "Name: SeriousDlqin2yrs, dtype: int64"
            ]
          },
          "metadata": {
            "tags": []
          },
          "execution_count": 7
        }
      ]
    },
    {
      "cell_type": "code",
      "metadata": {
        "id": "ifsFgpDyPWxy",
        "colab_type": "code",
        "colab": {
          "base_uri": "https://localhost:8080/",
          "height": 221
        },
        "outputId": "95ea551d-ee84-43a9-9e1f-f0136b94462a"
      },
      "source": [
        "data.isnull().sum()"
      ],
      "execution_count": 8,
      "outputs": [
        {
          "output_type": "execute_result",
          "data": {
            "text/plain": [
              "SeriousDlqin2yrs                            0\n",
              "RevolvingUtilizationOfUnsecuredLines        0\n",
              "age                                         0\n",
              "NumberOfTime30-59DaysPastDueNotWorse        0\n",
              "DebtRatio                                   0\n",
              "MonthlyIncome                           29731\n",
              "NumberOfOpenCreditLinesAndLoans             0\n",
              "NumberOfTimes90DaysLate                     0\n",
              "NumberRealEstateLoansOrLines                0\n",
              "NumberOfTime60-89DaysPastDueNotWorse        0\n",
              "NumberOfDependents                       3924\n",
              "dtype: int64"
            ]
          },
          "metadata": {
            "tags": []
          },
          "execution_count": 8
        }
      ]
    },
    {
      "cell_type": "code",
      "metadata": {
        "id": "yaYXEb2fbzEM",
        "colab_type": "code",
        "colab": {
          "base_uri": "https://localhost:8080/",
          "height": 461
        },
        "outputId": "ff2b29f4-c5fc-416e-d28d-d215044ae34e"
      },
      "source": [
        "data.corr()"
      ],
      "execution_count": 9,
      "outputs": [
        {
          "output_type": "execute_result",
          "data": {
            "text/html": [
              "<div>\n",
              "<style scoped>\n",
              "    .dataframe tbody tr th:only-of-type {\n",
              "        vertical-align: middle;\n",
              "    }\n",
              "\n",
              "    .dataframe tbody tr th {\n",
              "        vertical-align: top;\n",
              "    }\n",
              "\n",
              "    .dataframe thead th {\n",
              "        text-align: right;\n",
              "    }\n",
              "</style>\n",
              "<table border=\"1\" class=\"dataframe\">\n",
              "  <thead>\n",
              "    <tr style=\"text-align: right;\">\n",
              "      <th></th>\n",
              "      <th>SeriousDlqin2yrs</th>\n",
              "      <th>RevolvingUtilizationOfUnsecuredLines</th>\n",
              "      <th>age</th>\n",
              "      <th>NumberOfTime30-59DaysPastDueNotWorse</th>\n",
              "      <th>DebtRatio</th>\n",
              "      <th>MonthlyIncome</th>\n",
              "      <th>NumberOfOpenCreditLinesAndLoans</th>\n",
              "      <th>NumberOfTimes90DaysLate</th>\n",
              "      <th>NumberRealEstateLoansOrLines</th>\n",
              "      <th>NumberOfTime60-89DaysPastDueNotWorse</th>\n",
              "      <th>NumberOfDependents</th>\n",
              "    </tr>\n",
              "  </thead>\n",
              "  <tbody>\n",
              "    <tr>\n",
              "      <th>SeriousDlqin2yrs</th>\n",
              "      <td>1.000000</td>\n",
              "      <td>-0.001802</td>\n",
              "      <td>-0.115386</td>\n",
              "      <td>0.125587</td>\n",
              "      <td>-0.007602</td>\n",
              "      <td>-0.019746</td>\n",
              "      <td>-0.029669</td>\n",
              "      <td>0.117175</td>\n",
              "      <td>-0.007038</td>\n",
              "      <td>0.102261</td>\n",
              "      <td>0.046048</td>\n",
              "    </tr>\n",
              "    <tr>\n",
              "      <th>RevolvingUtilizationOfUnsecuredLines</th>\n",
              "      <td>-0.001802</td>\n",
              "      <td>1.000000</td>\n",
              "      <td>-0.005898</td>\n",
              "      <td>-0.001314</td>\n",
              "      <td>0.003961</td>\n",
              "      <td>0.007124</td>\n",
              "      <td>-0.011281</td>\n",
              "      <td>-0.001061</td>\n",
              "      <td>0.006235</td>\n",
              "      <td>-0.001048</td>\n",
              "      <td>0.001557</td>\n",
              "    </tr>\n",
              "    <tr>\n",
              "      <th>age</th>\n",
              "      <td>-0.115386</td>\n",
              "      <td>-0.005898</td>\n",
              "      <td>1.000000</td>\n",
              "      <td>-0.062995</td>\n",
              "      <td>0.024188</td>\n",
              "      <td>0.037717</td>\n",
              "      <td>0.147705</td>\n",
              "      <td>-0.061005</td>\n",
              "      <td>0.033150</td>\n",
              "      <td>-0.057159</td>\n",
              "      <td>-0.213303</td>\n",
              "    </tr>\n",
              "    <tr>\n",
              "      <th>NumberOfTime30-59DaysPastDueNotWorse</th>\n",
              "      <td>0.125587</td>\n",
              "      <td>-0.001314</td>\n",
              "      <td>-0.062995</td>\n",
              "      <td>1.000000</td>\n",
              "      <td>-0.006542</td>\n",
              "      <td>-0.010217</td>\n",
              "      <td>-0.055312</td>\n",
              "      <td>0.983603</td>\n",
              "      <td>-0.030565</td>\n",
              "      <td>0.987005</td>\n",
              "      <td>-0.002680</td>\n",
              "    </tr>\n",
              "    <tr>\n",
              "      <th>DebtRatio</th>\n",
              "      <td>-0.007602</td>\n",
              "      <td>0.003961</td>\n",
              "      <td>0.024188</td>\n",
              "      <td>-0.006542</td>\n",
              "      <td>1.000000</td>\n",
              "      <td>-0.028712</td>\n",
              "      <td>0.049565</td>\n",
              "      <td>-0.008320</td>\n",
              "      <td>0.120046</td>\n",
              "      <td>-0.007533</td>\n",
              "      <td>-0.040673</td>\n",
              "    </tr>\n",
              "    <tr>\n",
              "      <th>MonthlyIncome</th>\n",
              "      <td>-0.019746</td>\n",
              "      <td>0.007124</td>\n",
              "      <td>0.037717</td>\n",
              "      <td>-0.010217</td>\n",
              "      <td>-0.028712</td>\n",
              "      <td>1.000000</td>\n",
              "      <td>0.091455</td>\n",
              "      <td>-0.012743</td>\n",
              "      <td>0.124959</td>\n",
              "      <td>-0.011116</td>\n",
              "      <td>0.062647</td>\n",
              "    </tr>\n",
              "    <tr>\n",
              "      <th>NumberOfOpenCreditLinesAndLoans</th>\n",
              "      <td>-0.029669</td>\n",
              "      <td>-0.011281</td>\n",
              "      <td>0.147705</td>\n",
              "      <td>-0.055312</td>\n",
              "      <td>0.049565</td>\n",
              "      <td>0.091455</td>\n",
              "      <td>1.000000</td>\n",
              "      <td>-0.079984</td>\n",
              "      <td>0.433959</td>\n",
              "      <td>-0.071077</td>\n",
              "      <td>0.065322</td>\n",
              "    </tr>\n",
              "    <tr>\n",
              "      <th>NumberOfTimes90DaysLate</th>\n",
              "      <td>0.117175</td>\n",
              "      <td>-0.001061</td>\n",
              "      <td>-0.061005</td>\n",
              "      <td>0.983603</td>\n",
              "      <td>-0.008320</td>\n",
              "      <td>-0.012743</td>\n",
              "      <td>-0.079984</td>\n",
              "      <td>1.000000</td>\n",
              "      <td>-0.045205</td>\n",
              "      <td>0.992796</td>\n",
              "      <td>-0.010176</td>\n",
              "    </tr>\n",
              "    <tr>\n",
              "      <th>NumberRealEstateLoansOrLines</th>\n",
              "      <td>-0.007038</td>\n",
              "      <td>0.006235</td>\n",
              "      <td>0.033150</td>\n",
              "      <td>-0.030565</td>\n",
              "      <td>0.120046</td>\n",
              "      <td>0.124959</td>\n",
              "      <td>0.433959</td>\n",
              "      <td>-0.045205</td>\n",
              "      <td>1.000000</td>\n",
              "      <td>-0.039722</td>\n",
              "      <td>0.124684</td>\n",
              "    </tr>\n",
              "    <tr>\n",
              "      <th>NumberOfTime60-89DaysPastDueNotWorse</th>\n",
              "      <td>0.102261</td>\n",
              "      <td>-0.001048</td>\n",
              "      <td>-0.057159</td>\n",
              "      <td>0.987005</td>\n",
              "      <td>-0.007533</td>\n",
              "      <td>-0.011116</td>\n",
              "      <td>-0.071077</td>\n",
              "      <td>0.992796</td>\n",
              "      <td>-0.039722</td>\n",
              "      <td>1.000000</td>\n",
              "      <td>-0.010922</td>\n",
              "    </tr>\n",
              "    <tr>\n",
              "      <th>NumberOfDependents</th>\n",
              "      <td>0.046048</td>\n",
              "      <td>0.001557</td>\n",
              "      <td>-0.213303</td>\n",
              "      <td>-0.002680</td>\n",
              "      <td>-0.040673</td>\n",
              "      <td>0.062647</td>\n",
              "      <td>0.065322</td>\n",
              "      <td>-0.010176</td>\n",
              "      <td>0.124684</td>\n",
              "      <td>-0.010922</td>\n",
              "      <td>1.000000</td>\n",
              "    </tr>\n",
              "  </tbody>\n",
              "</table>\n",
              "</div>"
            ],
            "text/plain": [
              "                                      SeriousDlqin2yrs  ...  NumberOfDependents\n",
              "SeriousDlqin2yrs                              1.000000  ...            0.046048\n",
              "RevolvingUtilizationOfUnsecuredLines         -0.001802  ...            0.001557\n",
              "age                                          -0.115386  ...           -0.213303\n",
              "NumberOfTime30-59DaysPastDueNotWorse          0.125587  ...           -0.002680\n",
              "DebtRatio                                    -0.007602  ...           -0.040673\n",
              "MonthlyIncome                                -0.019746  ...            0.062647\n",
              "NumberOfOpenCreditLinesAndLoans              -0.029669  ...            0.065322\n",
              "NumberOfTimes90DaysLate                       0.117175  ...           -0.010176\n",
              "NumberRealEstateLoansOrLines                 -0.007038  ...            0.124684\n",
              "NumberOfTime60-89DaysPastDueNotWorse          0.102261  ...           -0.010922\n",
              "NumberOfDependents                            0.046048  ...            1.000000\n",
              "\n",
              "[11 rows x 11 columns]"
            ]
          },
          "metadata": {
            "tags": []
          },
          "execution_count": 9
        }
      ]
    },
    {
      "cell_type": "code",
      "metadata": {
        "id": "T3kKqYjdGnpX",
        "colab_type": "code",
        "colab": {
          "base_uri": "https://localhost:8080/",
          "height": 848
        },
        "outputId": "491f0edc-d188-428a-846b-b50e715a26ff"
      },
      "source": [
        "plt.figure(figsize = (10,10))\n",
        "sns.heatmap(data.corr(method = 'pearson'))"
      ],
      "execution_count": 10,
      "outputs": [
        {
          "output_type": "execute_result",
          "data": {
            "text/plain": [
              "<matplotlib.axes._subplots.AxesSubplot at 0x7f31b344f978>"
            ]
          },
          "metadata": {
            "tags": []
          },
          "execution_count": 10
        },
        {
          "output_type": "display_data",
          "data": {
            "image/png": "[encoded data removed]",
            "text/plain": [
              "<Figure size 720x720 with 2 Axes>"
            ]
          },
          "metadata": {
            "tags": [],
            "needs_background": "light"
          }
        }
      ]
    },
    {
      "cell_type": "code",
      "metadata": {
        "id": "-rTqiKaTby1N",
        "colab_type": "code",
        "colab": {}
      },
      "source": [
        "data.dropna(inplace = True)"
      ],
      "execution_count": 11,
      "outputs": []
    },
    {
      "cell_type": "code",
      "metadata": {
        "id": "ExuJ32Rfed1V",
        "colab_type": "code",
        "colab": {}
      },
      "source": [
        "split = np.random.rand(len(data)) < 0.8\n",
        "train = data[split]\n",
        "test = data[~split]"
      ],
      "execution_count": 12,
      "outputs": []
    },
    {
      "cell_type": "code",
      "metadata": {
        "id": "sRLEfYBaLJmD",
        "colab_type": "code",
        "colab": {
          "base_uri": "https://localhost:8080/",
          "height": 68
        },
        "outputId": "6383098a-4ce8-43e5-fcf1-3306626d540b"
      },
      "source": [
        "train['SeriousDlqin2yrs'].value_counts()"
      ],
      "execution_count": 13,
      "outputs": [
        {
          "output_type": "execute_result",
          "data": {
            "text/plain": [
              "0    89571\n",
              "1     6706\n",
              "Name: SeriousDlqin2yrs, dtype: int64"
            ]
          },
          "metadata": {
            "tags": []
          },
          "execution_count": 13
        }
      ]
    },
    {
      "cell_type": "code",
      "metadata": {
        "id": "ZFKQpETOQAtu",
        "colab_type": "code",
        "colab": {
          "base_uri": "https://localhost:8080/",
          "height": 68
        },
        "outputId": "f777423e-73fc-41f8-c6c5-59365fb4837b"
      },
      "source": [
        "test['SeriousDlqin2yrs'].value_counts()"
      ],
      "execution_count": 14,
      "outputs": [
        {
          "output_type": "execute_result",
          "data": {
            "text/plain": [
              "0    22341\n",
              "1     1651\n",
              "Name: SeriousDlqin2yrs, dtype: int64"
            ]
          },
          "metadata": {
            "tags": []
          },
          "execution_count": 14
        }
      ]
    },
    {
      "cell_type": "markdown",
      "metadata": {
        "id": "1UmV973CPk92",
        "colab_type": "text"
      },
      "source": [
        "## Data Wrangling and Exploratory Data Analysis(EDA)"
      ]
    },
    {
      "cell_type": "markdown",
      "metadata": {
        "id": "YU5i8Ph1OVfw",
        "colab_type": "text"
      },
      "source": [
        "### Target"
      ]
    },
    {
      "cell_type": "code",
      "metadata": {
        "id": "HJR9ecJk34O6",
        "colab_type": "code",
        "colab": {}
      },
      "source": [
        "target_0 = train.loc[train['SeriousDlqin2yrs'] == 0]\n",
        "target_1 = train.loc[train['SeriousDlqin2yrs'] == 1]"
      ],
      "execution_count": 15,
      "outputs": []
    },
    {
      "cell_type": "code",
      "metadata": {
        "id": "PET6mjkmFZQn",
        "colab_type": "code",
        "colab": {
          "base_uri": "https://localhost:8080/",
          "height": 483
        },
        "outputId": "9c6fb6c8-e281-44e5-9c12-93d62409097b"
      },
      "source": [
        "pd.DataFrame({'frequency': [target_0['SeriousDlqin2yrs'].count(), target_1['SeriousDlqin2yrs'].count()],\n",
        "              'index' : ['0','1']}).plot.pie(y = 'frequency', figsize = (8,8), autopct='%1.1f%%')"
      ],
      "execution_count": 16,
      "outputs": [
        {
          "output_type": "execute_result",
          "data": {
            "text/plain": [
              "<matplotlib.axes._subplots.AxesSubplot at 0x7f31af40dda0>"
            ]
          },
          "metadata": {
            "tags": []
          },
          "execution_count": 16
        },
        {
          "output_type": "display_data",
          "data": {
            "image/png": "[encoded data removed]",
            "text/plain": [
              "<Figure size 576x576 with 1 Axes>"
            ]
          },
          "metadata": {
            "tags": []
          }
        }
      ]
    },
    {
      "cell_type": "markdown",
      "metadata": {
        "id": "ODuLvaHrOYlV",
        "colab_type": "text"
      },
      "source": [
        "### Debt Ratio"
      ]
    },
    {
      "cell_type": "code",
      "metadata": {
        "id": "WpE0Y7xCQKFy",
        "colab_type": "code",
        "colab": {
          "base_uri": "https://localhost:8080/",
          "height": 170
        },
        "outputId": "c2b14879-25ca-4582-d814-1f7ef2604d5f"
      },
      "source": [
        "train['DebtRatio'].describe()"
      ],
      "execution_count": 17,
      "outputs": [
        {
          "output_type": "execute_result",
          "data": {
            "text/plain": [
              "count    96277.000000\n",
              "mean        27.903067\n",
              "std        459.427689\n",
              "min          0.000000\n",
              "25%          0.143942\n",
              "50%          0.295951\n",
              "75%          0.481669\n",
              "max      61106.500000\n",
              "Name: DebtRatio, dtype: float64"
            ]
          },
          "metadata": {
            "tags": []
          },
          "execution_count": 17
        }
      ]
    },
    {
      "cell_type": "code",
      "metadata": {
        "id": "sd5znbfORgLp",
        "colab_type": "code",
        "colab": {
          "base_uri": "https://localhost:8080/",
          "height": 34
        },
        "outputId": "dc12eecd-19f1-47f0-9783-abc480e22e6e"
      },
      "source": [
        "for a in [0.99]:\n",
        "  print(\"{:.2f}\".format(train['DebtRatio'].quantile(a)))"
      ],
      "execution_count": 18,
      "outputs": [
        {
          "output_type": "stream",
          "text": [
            "688.96\n"
          ],
          "name": "stdout"
        }
      ]
    },
    {
      "cell_type": "code",
      "metadata": {
        "id": "p_si8SFFkMif",
        "colab_type": "code",
        "colab": {}
      },
      "source": [
        "train.drop(train[train['DebtRatio'] > 2].index, inplace = True)\n",
        "test.drop(test[test['DebtRatio'] > 2].index, inplace = True)"
      ],
      "execution_count": 19,
      "outputs": []
    },
    {
      "cell_type": "code",
      "metadata": {
        "id": "AWswaaJ2iF7z",
        "colab_type": "code",
        "colab": {}
      },
      "source": [
        "train['DebtRatio'].replace({0.0 : train['DebtRatio'].mean()}, inplace = True)\n",
        "test['DebtRatio'].replace({0.0 : test['DebtRatio'].mean()}, inplace = True)"
      ],
      "execution_count": 20,
      "outputs": []
    },
    {
      "cell_type": "code",
      "metadata": {
        "id": "zhl8IEK6iF_s",
        "colab_type": "code",
        "colab": {
          "base_uri": "https://localhost:8080/",
          "height": 286
        },
        "outputId": "1470fa50-9c7e-420e-cce3-ab1b69b4e533"
      },
      "source": [
        "from scipy.stats import norm\n",
        "sns.distplot(train['DebtRatio'], fit = norm, bins = 100)\n",
        "sns.set(rc = {'figure.figsize':(10,8)})"
      ],
      "execution_count": 21,
      "outputs": [
        {
          "output_type": "display_data",
          "data": {
            "image/png": "[encoded data removed]",
            "text/plain": [
              "<Figure size 432x288 with 1 Axes>"
            ]
          },
          "metadata": {
            "tags": [],
            "needs_background": "light"
          }
        }
      ]
    },
    {
      "cell_type": "code",
      "metadata": {
        "id": "UIrbNbKS6tjq",
        "colab_type": "code",
        "colab": {
          "base_uri": "https://localhost:8080/",
          "height": 170
        },
        "outputId": "383c821a-048b-4a75-d08c-5114c7588ce4"
      },
      "source": [
        "train['DebtRatio'].describe()"
      ],
      "execution_count": 22,
      "outputs": [
        {
          "output_type": "execute_result",
          "data": {
            "text/plain": [
              "count    93604.000000\n",
              "mean         0.346939\n",
              "std          0.283689\n",
              "min          0.000026\n",
              "25%          0.152936\n",
              "50%          0.300099\n",
              "75%          0.461262\n",
              "max          2.000000\n",
              "Name: DebtRatio, dtype: float64"
            ]
          },
          "metadata": {
            "tags": []
          },
          "execution_count": 22
        }
      ]
    },
    {
      "cell_type": "markdown",
      "metadata": {
        "id": "RQGIxZbNRBbU",
        "colab_type": "text"
      },
      "source": [
        "### Monthly Income"
      ]
    },
    {
      "cell_type": "code",
      "metadata": {
        "id": "8POmr7f1Rt0v",
        "colab_type": "code",
        "colab": {
          "base_uri": "https://localhost:8080/",
          "height": 170
        },
        "outputId": "a489bc3c-bb9f-40c7-e197-a35c5018534e"
      },
      "source": [
        "train['MonthlyIncome'].describe()"
      ],
      "execution_count": 23,
      "outputs": [
        {
          "output_type": "execute_result",
          "data": {
            "text/plain": [
              "count    9.360400e+04\n",
              "mean     6.849520e+03\n",
              "std      1.471363e+04\n",
              "min      0.000000e+00\n",
              "25%      3.500000e+03\n",
              "50%      5.500000e+03\n",
              "75%      8.333000e+03\n",
              "max      3.008750e+06\n",
              "Name: MonthlyIncome, dtype: float64"
            ]
          },
          "metadata": {
            "tags": []
          },
          "execution_count": 23
        }
      ]
    },
    {
      "cell_type": "code",
      "metadata": {
        "id": "-ObolQBLoQJv",
        "colab_type": "code",
        "colab": {}
      },
      "source": [
        "train.drop(train[train['MonthlyIncome'] < 500].index, inplace = True)\n",
        "test.drop(test[test['MonthlyIncome'] < 500].index, inplace = True)"
      ],
      "execution_count": 24,
      "outputs": []
    },
    {
      "cell_type": "code",
      "metadata": {
        "id": "d6DRm-ocO1sE",
        "colab_type": "code",
        "colab": {
          "base_uri": "https://localhost:8080/",
          "height": 513
        },
        "outputId": "48bc12e3-4b8b-4c39-d7c2-1a7d9ffdb5f2"
      },
      "source": [
        "from scipy.stats import norm\n",
        "sns.distplot(train['MonthlyIncome'], fit = norm, bins = 100)\n",
        "sns.set(rc = {'figure.figsize':(10,8)})"
      ],
      "execution_count": 25,
      "outputs": [
        {
          "output_type": "display_data",
          "data": {
            "image/png": "[encoded data removed]",
            "text/plain": [
              "<Figure size 720x576 with 1 Axes>"
            ]
          },
          "metadata": {
            "tags": []
          }
        }
      ]
    },
    {
      "cell_type": "markdown",
      "metadata": {
        "id": "Kev59TRJtlD3",
        "colab_type": "text"
      },
      "source": [
        "### Revolving utilization of unsecured lines"
      ]
    },
    {
      "cell_type": "code",
      "metadata": {
        "id": "3n3kcE4jtr1L",
        "colab_type": "code",
        "colab": {
          "base_uri": "https://localhost:8080/",
          "height": 170
        },
        "outputId": "f768e122-019f-4af3-aa49-011c8972cd04"
      },
      "source": [
        "train['RevolvingUtilizationOfUnsecuredLines'].describe()"
      ],
      "execution_count": 26,
      "outputs": [
        {
          "output_type": "execute_result",
          "data": {
            "text/plain": [
              "count    93259.000000\n",
              "mean         6.336003\n",
              "std        274.644096\n",
              "min          0.000000\n",
              "25%          0.035488\n",
              "50%          0.178962\n",
              "75%          0.579647\n",
              "max      50708.000000\n",
              "Name: RevolvingUtilizationOfUnsecuredLines, dtype: float64"
            ]
          },
          "metadata": {
            "tags": []
          },
          "execution_count": 26
        }
      ]
    },
    {
      "cell_type": "markdown",
      "metadata": {
        "id": "xzIBUZlm0fnk",
        "colab_type": "text"
      },
      "source": [
        "#### There are some entries in the 'Revolving utiizationofunsecuredlines' column that are large values. However, it seems that these aren't random values and might just be from a different source and so were assembled with the data without normalizing.\n",
        "\n",
        "#### Hence, rather than replacing these values with a mean or some other metric. Let's just simply normalize them by scaling them down within the limits of the metric, i.e. 0-1."
      ]
    },
    {
      "cell_type": "code",
      "metadata": {
        "id": "Tm4bOuoItrzK",
        "colab_type": "code",
        "colab": {}
      },
      "source": [
        "for a in train['RevolvingUtilizationOfUnsecuredLines']:\n",
        "  if a > 1:\n",
        "    train['RevolvingUtilizationOfUnsecuredLines'].replace({a:a/100000}, inplace = True)"
      ],
      "execution_count": 27,
      "outputs": []
    },
    {
      "cell_type": "code",
      "metadata": {
        "id": "lhijYZdU2ILQ",
        "colab_type": "code",
        "colab": {}
      },
      "source": [
        "for a in test['RevolvingUtilizationOfUnsecuredLines']:\n",
        "  if a > 1:\n",
        "    test['RevolvingUtilizationOfUnsecuredLines'].replace({a:a/100000}, inplace = True)"
      ],
      "execution_count": 28,
      "outputs": []
    },
    {
      "cell_type": "code",
      "metadata": {
        "id": "wE3-W9Dn-FpG",
        "colab_type": "code",
        "colab": {
          "base_uri": "https://localhost:8080/",
          "height": 170
        },
        "outputId": "540f17ea-c6de-4f7b-b343-adac1e1cf093"
      },
      "source": [
        "train['RevolvingUtilizationOfUnsecuredLines'].describe()"
      ],
      "execution_count": 29,
      "outputs": [
        {
          "output_type": "execute_result",
          "data": {
            "text/plain": [
              "count    93259.000000\n",
              "mean         0.307337\n",
              "std          0.334459\n",
              "min          0.000000\n",
              "25%          0.029481\n",
              "50%          0.157373\n",
              "75%          0.526547\n",
              "max          1.000000\n",
              "Name: RevolvingUtilizationOfUnsecuredLines, dtype: float64"
            ]
          },
          "metadata": {
            "tags": []
          },
          "execution_count": 29
        }
      ]
    },
    {
      "cell_type": "code",
      "metadata": {
        "id": "-LR231AN-uJc",
        "colab_type": "code",
        "colab": {
          "base_uri": "https://localhost:8080/",
          "height": 456
        },
        "outputId": "4eb90e06-dc95-4ed0-dda1-aae6015a987a"
      },
      "source": [
        "train.loc[train['RevolvingUtilizationOfUnsecuredLines'] == 0]"
      ],
      "execution_count": 30,
      "outputs": [
        {
          "output_type": "execute_result",
          "data": {
            "text/html": [
              "<div>\n",
              "<style scoped>\n",
              "    .dataframe tbody tr th:only-of-type {\n",
              "        vertical-align: middle;\n",
              "    }\n",
              "\n",
              "    .dataframe tbody tr th {\n",
              "        vertical-align: top;\n",
              "    }\n",
              "\n",
              "    .dataframe thead th {\n",
              "        text-align: right;\n",
              "    }\n",
              "</style>\n",
              "<table border=\"1\" class=\"dataframe\">\n",
              "  <thead>\n",
              "    <tr style=\"text-align: right;\">\n",
              "      <th></th>\n",
              "      <th>SeriousDlqin2yrs</th>\n",
              "      <th>RevolvingUtilizationOfUnsecuredLines</th>\n",
              "      <th>age</th>\n",
              "      <th>NumberOfTime30-59DaysPastDueNotWorse</th>\n",
              "      <th>DebtRatio</th>\n",
              "      <th>MonthlyIncome</th>\n",
              "      <th>NumberOfOpenCreditLinesAndLoans</th>\n",
              "      <th>NumberOfTimes90DaysLate</th>\n",
              "      <th>NumberRealEstateLoansOrLines</th>\n",
              "      <th>NumberOfTime60-89DaysPastDueNotWorse</th>\n",
              "      <th>NumberOfDependents</th>\n",
              "    </tr>\n",
              "  </thead>\n",
              "  <tbody>\n",
              "    <tr>\n",
              "      <th>85</th>\n",
              "      <td>0</td>\n",
              "      <td>0.0</td>\n",
              "      <td>58</td>\n",
              "      <td>0</td>\n",
              "      <td>0.316145</td>\n",
              "      <td>4886.0</td>\n",
              "      <td>9</td>\n",
              "      <td>0</td>\n",
              "      <td>1</td>\n",
              "      <td>0</td>\n",
              "      <td>1.0</td>\n",
              "    </tr>\n",
              "    <tr>\n",
              "      <th>126</th>\n",
              "      <td>0</td>\n",
              "      <td>0.0</td>\n",
              "      <td>61</td>\n",
              "      <td>0</td>\n",
              "      <td>0.222660</td>\n",
              "      <td>3300.0</td>\n",
              "      <td>14</td>\n",
              "      <td>0</td>\n",
              "      <td>1</td>\n",
              "      <td>0</td>\n",
              "      <td>0.0</td>\n",
              "    </tr>\n",
              "    <tr>\n",
              "      <th>127</th>\n",
              "      <td>0</td>\n",
              "      <td>0.0</td>\n",
              "      <td>59</td>\n",
              "      <td>0</td>\n",
              "      <td>0.218854</td>\n",
              "      <td>19167.0</td>\n",
              "      <td>13</td>\n",
              "      <td>0</td>\n",
              "      <td>2</td>\n",
              "      <td>0</td>\n",
              "      <td>0.0</td>\n",
              "    </tr>\n",
              "    <tr>\n",
              "      <th>129</th>\n",
              "      <td>0</td>\n",
              "      <td>0.0</td>\n",
              "      <td>59</td>\n",
              "      <td>0</td>\n",
              "      <td>0.351700</td>\n",
              "      <td>4500.0</td>\n",
              "      <td>12</td>\n",
              "      <td>0</td>\n",
              "      <td>1</td>\n",
              "      <td>0</td>\n",
              "      <td>0.0</td>\n",
              "    </tr>\n",
              "    <tr>\n",
              "      <th>132</th>\n",
              "      <td>0</td>\n",
              "      <td>0.0</td>\n",
              "      <td>48</td>\n",
              "      <td>0</td>\n",
              "      <td>0.517469</td>\n",
              "      <td>4550.0</td>\n",
              "      <td>7</td>\n",
              "      <td>0</td>\n",
              "      <td>2</td>\n",
              "      <td>0</td>\n",
              "      <td>0.0</td>\n",
              "    </tr>\n",
              "    <tr>\n",
              "      <th>...</th>\n",
              "      <td>...</td>\n",
              "      <td>...</td>\n",
              "      <td>...</td>\n",
              "      <td>...</td>\n",
              "      <td>...</td>\n",
              "      <td>...</td>\n",
              "      <td>...</td>\n",
              "      <td>...</td>\n",
              "      <td>...</td>\n",
              "      <td>...</td>\n",
              "      <td>...</td>\n",
              "    </tr>\n",
              "    <tr>\n",
              "      <th>149893</th>\n",
              "      <td>0</td>\n",
              "      <td>0.0</td>\n",
              "      <td>41</td>\n",
              "      <td>0</td>\n",
              "      <td>0.131958</td>\n",
              "      <td>25833.0</td>\n",
              "      <td>12</td>\n",
              "      <td>0</td>\n",
              "      <td>1</td>\n",
              "      <td>0</td>\n",
              "      <td>5.0</td>\n",
              "    </tr>\n",
              "    <tr>\n",
              "      <th>149901</th>\n",
              "      <td>0</td>\n",
              "      <td>0.0</td>\n",
              "      <td>94</td>\n",
              "      <td>0</td>\n",
              "      <td>0.339667</td>\n",
              "      <td>3600.0</td>\n",
              "      <td>4</td>\n",
              "      <td>0</td>\n",
              "      <td>0</td>\n",
              "      <td>0</td>\n",
              "      <td>0.0</td>\n",
              "    </tr>\n",
              "    <tr>\n",
              "      <th>149902</th>\n",
              "      <td>0</td>\n",
              "      <td>0.0</td>\n",
              "      <td>80</td>\n",
              "      <td>0</td>\n",
              "      <td>0.339667</td>\n",
              "      <td>1600.0</td>\n",
              "      <td>1</td>\n",
              "      <td>0</td>\n",
              "      <td>0</td>\n",
              "      <td>0</td>\n",
              "      <td>0.0</td>\n",
              "    </tr>\n",
              "    <tr>\n",
              "      <th>149933</th>\n",
              "      <td>0</td>\n",
              "      <td>0.0</td>\n",
              "      <td>56</td>\n",
              "      <td>0</td>\n",
              "      <td>0.494101</td>\n",
              "      <td>5000.0</td>\n",
              "      <td>8</td>\n",
              "      <td>0</td>\n",
              "      <td>1</td>\n",
              "      <td>0</td>\n",
              "      <td>0.0</td>\n",
              "    </tr>\n",
              "    <tr>\n",
              "      <th>149998</th>\n",
              "      <td>0</td>\n",
              "      <td>0.0</td>\n",
              "      <td>30</td>\n",
              "      <td>0</td>\n",
              "      <td>0.339667</td>\n",
              "      <td>5716.0</td>\n",
              "      <td>4</td>\n",
              "      <td>0</td>\n",
              "      <td>0</td>\n",
              "      <td>0</td>\n",
              "      <td>0.0</td>\n",
              "    </tr>\n",
              "  </tbody>\n",
              "</table>\n",
              "<p>6020 rows × 11 columns</p>\n",
              "</div>"
            ],
            "text/plain": [
              "        SeriousDlqin2yrs  ...  NumberOfDependents\n",
              "85                     0  ...                 1.0\n",
              "126                    0  ...                 0.0\n",
              "127                    0  ...                 0.0\n",
              "129                    0  ...                 0.0\n",
              "132                    0  ...                 0.0\n",
              "...                  ...  ...                 ...\n",
              "149893                 0  ...                 5.0\n",
              "149901                 0  ...                 0.0\n",
              "149902                 0  ...                 0.0\n",
              "149933                 0  ...                 0.0\n",
              "149998                 0  ...                 0.0\n",
              "\n",
              "[6020 rows x 11 columns]"
            ]
          },
          "metadata": {
            "tags": []
          },
          "execution_count": 30
        }
      ]
    },
    {
      "cell_type": "code",
      "metadata": {
        "id": "t_xeNAyitrqq",
        "colab_type": "code",
        "colab": {
          "base_uri": "https://localhost:8080/",
          "height": 502
        },
        "outputId": "8cee1e4a-67a0-4f2e-9e5c-19c6059c75bb"
      },
      "source": [
        "sns.distplot(train['RevolvingUtilizationOfUnsecuredLines'])\n",
        "sns.set(rc = {'figure.figsize':(8,5)})"
      ],
      "execution_count": 31,
      "outputs": [
        {
          "output_type": "display_data",
          "data": {
            "image/png": "[encoded data removed]",
            "text/plain": [
              "<Figure size 720x576 with 1 Axes>"
            ]
          },
          "metadata": {
            "tags": []
          }
        }
      ]
    },
    {
      "cell_type": "code",
      "metadata": {
        "id": "S3vzPjTb8Rk5",
        "colab_type": "code",
        "colab": {
          "base_uri": "https://localhost:8080/",
          "height": 34
        },
        "outputId": "b9b4b8df-bdca-436d-d49d-23bb9d21a91e"
      },
      "source": [
        "train.shape"
      ],
      "execution_count": 32,
      "outputs": [
        {
          "output_type": "execute_result",
          "data": {
            "text/plain": [
              "(93259, 11)"
            ]
          },
          "metadata": {
            "tags": []
          },
          "execution_count": 32
        }
      ]
    },
    {
      "cell_type": "markdown",
      "metadata": {
        "id": "6H-uMVyL178k",
        "colab_type": "text"
      },
      "source": [
        "### EDA (Summarization of some important features w.r.t the target)"
      ]
    },
    {
      "cell_type": "code",
      "metadata": {
        "id": "sbaHA3D-2D4Z",
        "colab_type": "code",
        "colab": {
          "base_uri": "https://localhost:8080/",
          "height": 353
        },
        "outputId": "8de5499a-61f7-478e-8025-f98f0d82458c"
      },
      "source": [
        "train.groupby(['SeriousDlqin2yrs'])['MonthlyIncome'].mean().plot(kind = 'bar', figsize = (8,5))\n",
        "plt.ylabel('Avg. Monthly Income')"
      ],
      "execution_count": 33,
      "outputs": [
        {
          "output_type": "execute_result",
          "data": {
            "text/plain": [
              "Text(0, 0.5, 'Avg. Monthly Income')"
            ]
          },
          "metadata": {
            "tags": []
          },
          "execution_count": 33
        },
        {
          "output_type": "display_data",
          "data": {
            "image/png": "[encoded data removed]",
            "text/plain": [
              "<Figure size 576x360 with 1 Axes>"
            ]
          },
          "metadata": {
            "tags": []
          }
        }
      ]
    },
    {
      "cell_type": "code",
      "metadata": {
        "id": "RxX2RcxMBSUA",
        "colab_type": "code",
        "colab": {
          "base_uri": "https://localhost:8080/",
          "height": 353
        },
        "outputId": "d87c0199-61fd-4d61-b24d-8131b055f3f4"
      },
      "source": [
        "train.groupby(['SeriousDlqin2yrs'])['DebtRatio'].mean().plot(kind = 'bar', color = 'g', figsize = (8,5))\n",
        "plt.ylabel('Avg.(Monthly liabilities/ Monthly Income)')"
      ],
      "execution_count": 34,
      "outputs": [
        {
          "output_type": "execute_result",
          "data": {
            "text/plain": [
              "Text(0, 0.5, 'Avg.(Monthly liabilities/ Monthly Income)')"
            ]
          },
          "metadata": {
            "tags": []
          },
          "execution_count": 34
        },
        {
          "output_type": "display_data",
          "data": {
            "image/png": "[encoded data removed]",
            "text/plain": [
              "<Figure size 576x360 with 1 Axes>"
            ]
          },
          "metadata": {
            "tags": []
          }
        }
      ]
    },
    {
      "cell_type": "code",
      "metadata": {
        "id": "w5EX1tKPCQoC",
        "colab_type": "code",
        "colab": {
          "base_uri": "https://localhost:8080/",
          "height": 142
        },
        "outputId": "ec98a7ae-cf44-4d7d-8728-afbe8539caaa"
      },
      "source": [
        "train.groupby(['SeriousDlqin2yrs'])['NumberOfOpenCreditLinesAndLoans'].agg(['mean', 'median'])"
      ],
      "execution_count": 35,
      "outputs": [
        {
          "output_type": "execute_result",
          "data": {
            "text/html": [
              "<div>\n",
              "<style scoped>\n",
              "    .dataframe tbody tr th:only-of-type {\n",
              "        vertical-align: middle;\n",
              "    }\n",
              "\n",
              "    .dataframe tbody tr th {\n",
              "        vertical-align: top;\n",
              "    }\n",
              "\n",
              "    .dataframe thead th {\n",
              "        text-align: right;\n",
              "    }\n",
              "</style>\n",
              "<table border=\"1\" class=\"dataframe\">\n",
              "  <thead>\n",
              "    <tr style=\"text-align: right;\">\n",
              "      <th></th>\n",
              "      <th>mean</th>\n",
              "      <th>median</th>\n",
              "    </tr>\n",
              "    <tr>\n",
              "      <th>SeriousDlqin2yrs</th>\n",
              "      <th></th>\n",
              "      <th></th>\n",
              "    </tr>\n",
              "  </thead>\n",
              "  <tbody>\n",
              "    <tr>\n",
              "      <th>0</th>\n",
              "      <td>8.824320</td>\n",
              "      <td>8</td>\n",
              "    </tr>\n",
              "    <tr>\n",
              "      <th>1</th>\n",
              "      <td>8.143646</td>\n",
              "      <td>7</td>\n",
              "    </tr>\n",
              "  </tbody>\n",
              "</table>\n",
              "</div>"
            ],
            "text/plain": [
              "                      mean  median\n",
              "SeriousDlqin2yrs                  \n",
              "0                 8.824320       8\n",
              "1                 8.143646       7"
            ]
          },
          "metadata": {
            "tags": []
          },
          "execution_count": 35
        }
      ]
    },
    {
      "cell_type": "code",
      "metadata": {
        "id": "PKd42XYQDiNj",
        "colab_type": "code",
        "colab": {}
      },
      "source": [
        "delinq_2_month_target_0 = train.loc[(train['SeriousDlqin2yrs'] == 0) & (train['NumberOfTime30-59DaysPastDueNotWorse'] != 0)]\n",
        "delinq_2_month_target_1 = train.loc[(train['SeriousDlqin2yrs'] == 1) & (train['NumberOfTime30-59DaysPastDueNotWorse'] != 0)]"
      ],
      "execution_count": 36,
      "outputs": []
    },
    {
      "cell_type": "code",
      "metadata": {
        "id": "ksCabQkKFliN",
        "colab_type": "code",
        "colab": {
          "base_uri": "https://localhost:8080/",
          "height": 238
        },
        "outputId": "ab7bf2ad-4d22-4b5a-d87a-6a356368b1e2"
      },
      "source": [
        "delinq_2_month_target_0['NumberOfTime30-59DaysPastDueNotWorse'].value_counts()"
      ],
      "execution_count": 37,
      "outputs": [
        {
          "output_type": "execute_result",
          "data": {
            "text/plain": [
              "1     8907\n",
              "2     2252\n",
              "3      765\n",
              "4      275\n",
              "5      133\n",
              "6       49\n",
              "98      38\n",
              "7       19\n",
              "8       10\n",
              "9        5\n",
              "12       1\n",
              "96       1\n",
              "Name: NumberOfTime30-59DaysPastDueNotWorse, dtype: int64"
            ]
          },
          "metadata": {
            "tags": []
          },
          "execution_count": 37
        }
      ]
    },
    {
      "cell_type": "code",
      "metadata": {
        "id": "QCepEAac-LSl",
        "colab_type": "code",
        "colab": {
          "base_uri": "https://localhost:8080/",
          "height": 272
        },
        "outputId": "78c487e7-42a0-495f-bc91-199b56f4cb20"
      },
      "source": [
        "delinq_2_month_target_1['NumberOfTime30-59DaysPastDueNotWorse'].value_counts()"
      ],
      "execution_count": 38,
      "outputs": [
        {
          "output_type": "execute_result",
          "data": {
            "text/plain": [
              "1     1571\n",
              "2      796\n",
              "3      423\n",
              "4      212\n",
              "5      104\n",
              "98      64\n",
              "6       48\n",
              "7       19\n",
              "8        7\n",
              "9        3\n",
              "96       3\n",
              "10       2\n",
              "13       1\n",
              "11       1\n",
              "Name: NumberOfTime30-59DaysPastDueNotWorse, dtype: int64"
            ]
          },
          "metadata": {
            "tags": []
          },
          "execution_count": 38
        }
      ]
    },
    {
      "cell_type": "code",
      "metadata": {
        "id": "7jFQp19R_yp-",
        "colab_type": "code",
        "colab": {}
      },
      "source": [
        "delinq_3_month_target_0 = train.loc[(train['SeriousDlqin2yrs'] == 0) & (train['NumberOfTime60-89DaysPastDueNotWorse'] != 0)]\n",
        "delinq_3_month_target_1 = train.loc[(train['SeriousDlqin2yrs'] == 1) & (train['NumberOfTime60-89DaysPastDueNotWorse'] != 0)]"
      ],
      "execution_count": 39,
      "outputs": []
    },
    {
      "cell_type": "code",
      "metadata": {
        "id": "Sy-B4eHJBHbv",
        "colab_type": "code",
        "colab": {
          "base_uri": "https://localhost:8080/",
          "height": 187
        },
        "outputId": "c3a38c93-d5ec-462e-f38a-372d402797a9"
      },
      "source": [
        "delinq_3_month_target_0['NumberOfTime60-89DaysPastDueNotWorse'].value_counts()"
      ],
      "execution_count": 40,
      "outputs": [
        {
          "output_type": "execute_result",
          "data": {
            "text/plain": [
              "1     2607\n",
              "2      348\n",
              "3       75\n",
              "98      38\n",
              "4       25\n",
              "5        9\n",
              "7        3\n",
              "6        3\n",
              "96       1\n",
              "Name: NumberOfTime60-89DaysPastDueNotWorse, dtype: int64"
            ]
          },
          "metadata": {
            "tags": []
          },
          "execution_count": 40
        }
      ]
    },
    {
      "cell_type": "code",
      "metadata": {
        "id": "_DcihRIUBMuG",
        "colab_type": "code",
        "colab": {
          "base_uri": "https://localhost:8080/",
          "height": 221
        },
        "outputId": "ef184e88-a6c9-4d65-dc96-aeceaf65035f"
      },
      "source": [
        "delinq_3_month_target_1['NumberOfTime60-89DaysPastDueNotWorse'].value_counts()"
      ],
      "execution_count": 41,
      "outputs": [
        {
          "output_type": "execute_result",
          "data": {
            "text/plain": [
              "1     1151\n",
              "2      357\n",
              "3      122\n",
              "98      64\n",
              "4       39\n",
              "5       13\n",
              "6        9\n",
              "96       3\n",
              "7        3\n",
              "11       1\n",
              "8        1\n",
              "Name: NumberOfTime60-89DaysPastDueNotWorse, dtype: int64"
            ]
          },
          "metadata": {
            "tags": []
          },
          "execution_count": 41
        }
      ]
    },
    {
      "cell_type": "code",
      "metadata": {
        "id": "gG2IwZlUB8vD",
        "colab_type": "code",
        "colab": {
          "base_uri": "https://localhost:8080/",
          "height": 238
        },
        "outputId": "fd0851b3-aa30-43b1-a8df-06988aa9bd7c"
      },
      "source": [
        "target_0['NumberOfDependents'].value_counts()"
      ],
      "execution_count": 42,
      "outputs": [
        {
          "output_type": "execute_result",
          "data": {
            "text/plain": [
              "0.0     49242\n",
              "1.0     18075\n",
              "2.0     13234\n",
              "3.0      6423\n",
              "4.0      1909\n",
              "5.0       522\n",
              "6.0       104\n",
              "7.0        35\n",
              "8.0        18\n",
              "10.0        5\n",
              "9.0         3\n",
              "13.0        1\n",
              "Name: NumberOfDependents, dtype: int64"
            ]
          },
          "metadata": {
            "tags": []
          },
          "execution_count": 42
        }
      ]
    },
    {
      "cell_type": "code",
      "metadata": {
        "id": "sXC0xn3QDjUb",
        "colab_type": "code",
        "colab": {
          "base_uri": "https://localhost:8080/",
          "height": 187
        },
        "outputId": "6cef02d6-550b-4370-ab12-374b2a76a2f2"
      },
      "source": [
        "target_1['NumberOfDependents'].value_counts()"
      ],
      "execution_count": 43,
      "outputs": [
        {
          "output_type": "execute_result",
          "data": {
            "text/plain": [
              "0.0    3152\n",
              "1.0    1456\n",
              "2.0    1192\n",
              "3.0     615\n",
              "4.0     225\n",
              "5.0      48\n",
              "6.0      13\n",
              "7.0       3\n",
              "8.0       2\n",
              "Name: NumberOfDependents, dtype: int64"
            ]
          },
          "metadata": {
            "tags": []
          },
          "execution_count": 43
        }
      ]
    },
    {
      "cell_type": "code",
      "metadata": {
        "id": "orAHujuUJisP",
        "colab_type": "code",
        "colab": {}
      },
      "source": [
        "target_0_loans = target_0.loc[:,['SeriousDlqin2yrs','NumberOfOpenCreditLinesAndLoans']]\n",
        "target_1_loans = target_1.loc[:,['SeriousDlqin2yrs','NumberOfOpenCreditLinesAndLoans']]"
      ],
      "execution_count": 44,
      "outputs": []
    },
    {
      "cell_type": "code",
      "metadata": {
        "id": "RniU6KeAJinU",
        "colab_type": "code",
        "colab": {
          "base_uri": "https://localhost:8080/",
          "height": 360
        },
        "outputId": "0d8f8cad-fa45-425e-fc73-245c197b1026"
      },
      "source": [
        "target_0_loans['NumberOfOpenCreditLinesAndLoans'].value_counts().head(10).plot(kind = 'bar', figsize = (10,5))\n",
        "plt.xlabel('No. of credit lines and loans')\n",
        "plt.ylabel('No. of people(target 0)')"
      ],
      "execution_count": 45,
      "outputs": [
        {
          "output_type": "execute_result",
          "data": {
            "text/plain": [
              "Text(0, 0.5, 'No. of people(target 0)')"
            ]
          },
          "metadata": {
            "tags": []
          },
          "execution_count": 45
        },
        {
          "output_type": "display_data",
          "data": {
            "image/png": "[encoded data removed]",
            "text/plain": [
              "<Figure size 720x360 with 1 Axes>"
            ]
          },
          "metadata": {
            "tags": []
          }
        }
      ]
    },
    {
      "cell_type": "code",
      "metadata": {
        "id": "MGJdaDv1JijD",
        "colab_type": "code",
        "colab": {
          "base_uri": "https://localhost:8080/",
          "height": 360
        },
        "outputId": "1b1cff52-881e-4e98-a100-e0fa0bc0f13a"
      },
      "source": [
        "target_1_loans['NumberOfOpenCreditLinesAndLoans'].value_counts().head(10).plot(kind = 'bar', figsize = (10,5), color = 'r')\n",
        "plt.xlabel('No. of credit lines and loans')\n",
        "plt.ylabel('No. of people(target 1)')"
      ],
      "execution_count": 46,
      "outputs": [
        {
          "output_type": "execute_result",
          "data": {
            "text/plain": [
              "Text(0, 0.5, 'No. of people(target 1)')"
            ]
          },
          "metadata": {
            "tags": []
          },
          "execution_count": 46
        },
        {
          "output_type": "display_data",
          "data": {
            "image/png": "[encoded data removed]",
            "text/plain": [
              "<Figure size 720x360 with 1 Axes>"
            ]
          },
          "metadata": {
            "tags": []
          }
        }
      ]
    },
    {
      "cell_type": "code",
      "metadata": {
        "id": "4srmamWvDkxD",
        "colab_type": "code",
        "colab": {}
      },
      "source": [
        "target_0_real_estate_loans = target_0.loc[:,['SeriousDlqin2yrs','NumberRealEstateLoansOrLines']]"
      ],
      "execution_count": 47,
      "outputs": []
    },
    {
      "cell_type": "code",
      "metadata": {
        "id": "qIGDrkqlD66T",
        "colab_type": "code",
        "colab": {}
      },
      "source": [
        "target_1_real_estate_loans = target_1.loc[:,['SeriousDlqin2yrs','NumberRealEstateLoansOrLines']]"
      ],
      "execution_count": 48,
      "outputs": []
    },
    {
      "cell_type": "code",
      "metadata": {
        "id": "3Dup1Ji4FPAh",
        "colab_type": "code",
        "colab": {
          "base_uri": "https://localhost:8080/",
          "height": 353
        },
        "outputId": "3722f2c1-8b52-4406-8674-6f4a5ab84285"
      },
      "source": [
        "target_0_real_estate_loans['NumberRealEstateLoansOrLines'].value_counts().head().plot(kind = 'bar', figsize = (8,5))\n",
        "plt.xlabel('No. of real estate loans')\n",
        "plt.ylabel('No. of people(target 0)')"
      ],
      "execution_count": 49,
      "outputs": [
        {
          "output_type": "execute_result",
          "data": {
            "text/plain": [
              "Text(0, 0.5, 'No. of people(target 0)')"
            ]
          },
          "metadata": {
            "tags": []
          },
          "execution_count": 49
        },
        {
          "output_type": "display_data",
          "data": {
            "image/png": "[encoded data removed]",
            "text/plain": [
              "<Figure size 576x360 with 1 Axes>"
            ]
          },
          "metadata": {
            "tags": []
          }
        }
      ]
    },
    {
      "cell_type": "code",
      "metadata": {
        "id": "nCRgOe2LF6Nq",
        "colab_type": "code",
        "colab": {
          "base_uri": "https://localhost:8080/",
          "height": 353
        },
        "outputId": "7a4e6380-8288-4132-a3ec-ba6aa6f55f28"
      },
      "source": [
        "target_1_real_estate_loans['NumberRealEstateLoansOrLines'].value_counts().head().plot(kind = 'bar', color = 'r', figsize = (8,5))\n",
        "plt.xlabel('No. of real estate loans')\n",
        "plt.ylabel('No. of people (target 1)')"
      ],
      "execution_count": 50,
      "outputs": [
        {
          "output_type": "execute_result",
          "data": {
            "text/plain": [
              "Text(0, 0.5, 'No. of people (target 1)')"
            ]
          },
          "metadata": {
            "tags": []
          },
          "execution_count": 50
        },
        {
          "output_type": "display_data",
          "data": {
            "image/png": "[encoded data removed]",
            "text/plain": [
              "<Figure size 576x360 with 1 Axes>"
            ]
          },
          "metadata": {
            "tags": []
          }
        }
      ]
    },
    {
      "cell_type": "code",
      "metadata": {
        "id": "jOgVBNwEL4fr",
        "colab_type": "code",
        "colab": {
          "base_uri": "https://localhost:8080/",
          "height": 456
        },
        "outputId": "7c6e6d0a-d623-43e2-a8cb-73f5ef4a1790"
      },
      "source": [
        "target_1.loc[target_1['RevolvingUtilizationOfUnsecuredLines'] > 1]"
      ],
      "execution_count": 51,
      "outputs": [
        {
          "output_type": "execute_result",
          "data": {
            "text/html": [
              "<div>\n",
              "<style scoped>\n",
              "    .dataframe tbody tr th:only-of-type {\n",
              "        vertical-align: middle;\n",
              "    }\n",
              "\n",
              "    .dataframe tbody tr th {\n",
              "        vertical-align: top;\n",
              "    }\n",
              "\n",
              "    .dataframe thead th {\n",
              "        text-align: right;\n",
              "    }\n",
              "</style>\n",
              "<table border=\"1\" class=\"dataframe\">\n",
              "  <thead>\n",
              "    <tr style=\"text-align: right;\">\n",
              "      <th></th>\n",
              "      <th>SeriousDlqin2yrs</th>\n",
              "      <th>RevolvingUtilizationOfUnsecuredLines</th>\n",
              "      <th>age</th>\n",
              "      <th>NumberOfTime30-59DaysPastDueNotWorse</th>\n",
              "      <th>DebtRatio</th>\n",
              "      <th>MonthlyIncome</th>\n",
              "      <th>NumberOfOpenCreditLinesAndLoans</th>\n",
              "      <th>NumberOfTimes90DaysLate</th>\n",
              "      <th>NumberRealEstateLoansOrLines</th>\n",
              "      <th>NumberOfTime60-89DaysPastDueNotWorse</th>\n",
              "      <th>NumberOfDependents</th>\n",
              "    </tr>\n",
              "  </thead>\n",
              "  <tbody>\n",
              "    <tr>\n",
              "      <th>162</th>\n",
              "      <td>1</td>\n",
              "      <td>1.046279</td>\n",
              "      <td>47</td>\n",
              "      <td>1</td>\n",
              "      <td>1.104301</td>\n",
              "      <td>5416.0</td>\n",
              "      <td>6</td>\n",
              "      <td>0</td>\n",
              "      <td>2</td>\n",
              "      <td>0</td>\n",
              "      <td>1.0</td>\n",
              "    </tr>\n",
              "    <tr>\n",
              "      <th>251</th>\n",
              "      <td>1</td>\n",
              "      <td>1.048211</td>\n",
              "      <td>58</td>\n",
              "      <td>7</td>\n",
              "      <td>0.151957</td>\n",
              "      <td>3500.0</td>\n",
              "      <td>12</td>\n",
              "      <td>0</td>\n",
              "      <td>0</td>\n",
              "      <td>0</td>\n",
              "      <td>0.0</td>\n",
              "    </tr>\n",
              "    <tr>\n",
              "      <th>697</th>\n",
              "      <td>1</td>\n",
              "      <td>2066.000000</td>\n",
              "      <td>58</td>\n",
              "      <td>0</td>\n",
              "      <td>0.271121</td>\n",
              "      <td>6000.0</td>\n",
              "      <td>8</td>\n",
              "      <td>1</td>\n",
              "      <td>1</td>\n",
              "      <td>0</td>\n",
              "      <td>1.0</td>\n",
              "    </tr>\n",
              "    <tr>\n",
              "      <th>793</th>\n",
              "      <td>1</td>\n",
              "      <td>1.257485</td>\n",
              "      <td>26</td>\n",
              "      <td>0</td>\n",
              "      <td>0.129805</td>\n",
              "      <td>1794.0</td>\n",
              "      <td>1</td>\n",
              "      <td>2</td>\n",
              "      <td>0</td>\n",
              "      <td>1</td>\n",
              "      <td>0.0</td>\n",
              "    </tr>\n",
              "    <tr>\n",
              "      <th>1285</th>\n",
              "      <td>1</td>\n",
              "      <td>1.008516</td>\n",
              "      <td>59</td>\n",
              "      <td>1</td>\n",
              "      <td>2.219737</td>\n",
              "      <td>5633.0</td>\n",
              "      <td>23</td>\n",
              "      <td>0</td>\n",
              "      <td>4</td>\n",
              "      <td>0</td>\n",
              "      <td>0.0</td>\n",
              "    </tr>\n",
              "    <tr>\n",
              "      <th>...</th>\n",
              "      <td>...</td>\n",
              "      <td>...</td>\n",
              "      <td>...</td>\n",
              "      <td>...</td>\n",
              "      <td>...</td>\n",
              "      <td>...</td>\n",
              "      <td>...</td>\n",
              "      <td>...</td>\n",
              "      <td>...</td>\n",
              "      <td>...</td>\n",
              "      <td>...</td>\n",
              "    </tr>\n",
              "    <tr>\n",
              "      <th>148828</th>\n",
              "      <td>1</td>\n",
              "      <td>73.846154</td>\n",
              "      <td>53</td>\n",
              "      <td>2</td>\n",
              "      <td>0.513355</td>\n",
              "      <td>7000.0</td>\n",
              "      <td>5</td>\n",
              "      <td>8</td>\n",
              "      <td>2</td>\n",
              "      <td>0</td>\n",
              "      <td>4.0</td>\n",
              "    </tr>\n",
              "    <tr>\n",
              "      <th>149069</th>\n",
              "      <td>1</td>\n",
              "      <td>1.027421</td>\n",
              "      <td>42</td>\n",
              "      <td>0</td>\n",
              "      <td>0.213957</td>\n",
              "      <td>5000.0</td>\n",
              "      <td>3</td>\n",
              "      <td>4</td>\n",
              "      <td>0</td>\n",
              "      <td>0</td>\n",
              "      <td>1.0</td>\n",
              "    </tr>\n",
              "    <tr>\n",
              "      <th>149223</th>\n",
              "      <td>1</td>\n",
              "      <td>1.007421</td>\n",
              "      <td>38</td>\n",
              "      <td>1</td>\n",
              "      <td>1.781955</td>\n",
              "      <td>664.0</td>\n",
              "      <td>8</td>\n",
              "      <td>3</td>\n",
              "      <td>0</td>\n",
              "      <td>0</td>\n",
              "      <td>2.0</td>\n",
              "    </tr>\n",
              "    <tr>\n",
              "      <th>149308</th>\n",
              "      <td>1</td>\n",
              "      <td>1.030881</td>\n",
              "      <td>42</td>\n",
              "      <td>0</td>\n",
              "      <td>0.013072</td>\n",
              "      <td>2600.0</td>\n",
              "      <td>3</td>\n",
              "      <td>1</td>\n",
              "      <td>0</td>\n",
              "      <td>0</td>\n",
              "      <td>1.0</td>\n",
              "    </tr>\n",
              "    <tr>\n",
              "      <th>149776</th>\n",
              "      <td>1</td>\n",
              "      <td>1.099834</td>\n",
              "      <td>47</td>\n",
              "      <td>4</td>\n",
              "      <td>0.137299</td>\n",
              "      <td>4420.0</td>\n",
              "      <td>5</td>\n",
              "      <td>0</td>\n",
              "      <td>0</td>\n",
              "      <td>0</td>\n",
              "      <td>1.0</td>\n",
              "    </tr>\n",
              "  </tbody>\n",
              "</table>\n",
              "<p>811 rows × 11 columns</p>\n",
              "</div>"
            ],
            "text/plain": [
              "        SeriousDlqin2yrs  ...  NumberOfDependents\n",
              "162                    1  ...                 1.0\n",
              "251                    1  ...                 0.0\n",
              "697                    1  ...                 1.0\n",
              "793                    1  ...                 0.0\n",
              "1285                   1  ...                 0.0\n",
              "...                  ...  ...                 ...\n",
              "148828                 1  ...                 4.0\n",
              "149069                 1  ...                 1.0\n",
              "149223                 1  ...                 2.0\n",
              "149308                 1  ...                 1.0\n",
              "149776                 1  ...                 1.0\n",
              "\n",
              "[811 rows x 11 columns]"
            ]
          },
          "metadata": {
            "tags": []
          },
          "execution_count": 51
        }
      ]
    },
    {
      "cell_type": "code",
      "metadata": {
        "id": "HKrZXVz5Lliv",
        "colab_type": "code",
        "colab": {
          "base_uri": "https://localhost:8080/",
          "height": 241
        },
        "outputId": "20f6c88e-c3f1-4f41-9a37-f04d3b03da0e"
      },
      "source": [
        "train.head()"
      ],
      "execution_count": 52,
      "outputs": [
        {
          "output_type": "execute_result",
          "data": {
            "text/html": [
              "<div>\n",
              "<style scoped>\n",
              "    .dataframe tbody tr th:only-of-type {\n",
              "        vertical-align: middle;\n",
              "    }\n",
              "\n",
              "    .dataframe tbody tr th {\n",
              "        vertical-align: top;\n",
              "    }\n",
              "\n",
              "    .dataframe thead th {\n",
              "        text-align: right;\n",
              "    }\n",
              "</style>\n",
              "<table border=\"1\" class=\"dataframe\">\n",
              "  <thead>\n",
              "    <tr style=\"text-align: right;\">\n",
              "      <th></th>\n",
              "      <th>SeriousDlqin2yrs</th>\n",
              "      <th>RevolvingUtilizationOfUnsecuredLines</th>\n",
              "      <th>age</th>\n",
              "      <th>NumberOfTime30-59DaysPastDueNotWorse</th>\n",
              "      <th>DebtRatio</th>\n",
              "      <th>MonthlyIncome</th>\n",
              "      <th>NumberOfOpenCreditLinesAndLoans</th>\n",
              "      <th>NumberOfTimes90DaysLate</th>\n",
              "      <th>NumberRealEstateLoansOrLines</th>\n",
              "      <th>NumberOfTime60-89DaysPastDueNotWorse</th>\n",
              "      <th>NumberOfDependents</th>\n",
              "    </tr>\n",
              "  </thead>\n",
              "  <tbody>\n",
              "    <tr>\n",
              "      <th>0</th>\n",
              "      <td>1</td>\n",
              "      <td>0.766127</td>\n",
              "      <td>45</td>\n",
              "      <td>2</td>\n",
              "      <td>0.802982</td>\n",
              "      <td>9120.0</td>\n",
              "      <td>13</td>\n",
              "      <td>0</td>\n",
              "      <td>6</td>\n",
              "      <td>0</td>\n",
              "      <td>2.0</td>\n",
              "    </tr>\n",
              "    <tr>\n",
              "      <th>1</th>\n",
              "      <td>0</td>\n",
              "      <td>0.957151</td>\n",
              "      <td>40</td>\n",
              "      <td>0</td>\n",
              "      <td>0.121876</td>\n",
              "      <td>2600.0</td>\n",
              "      <td>4</td>\n",
              "      <td>0</td>\n",
              "      <td>0</td>\n",
              "      <td>0</td>\n",
              "      <td>1.0</td>\n",
              "    </tr>\n",
              "    <tr>\n",
              "      <th>2</th>\n",
              "      <td>0</td>\n",
              "      <td>0.658180</td>\n",
              "      <td>38</td>\n",
              "      <td>1</td>\n",
              "      <td>0.085113</td>\n",
              "      <td>3042.0</td>\n",
              "      <td>2</td>\n",
              "      <td>1</td>\n",
              "      <td>0</td>\n",
              "      <td>0</td>\n",
              "      <td>0.0</td>\n",
              "    </tr>\n",
              "    <tr>\n",
              "      <th>3</th>\n",
              "      <td>0</td>\n",
              "      <td>0.233810</td>\n",
              "      <td>30</td>\n",
              "      <td>0</td>\n",
              "      <td>0.036050</td>\n",
              "      <td>3300.0</td>\n",
              "      <td>5</td>\n",
              "      <td>0</td>\n",
              "      <td>0</td>\n",
              "      <td>0</td>\n",
              "      <td>0.0</td>\n",
              "    </tr>\n",
              "    <tr>\n",
              "      <th>4</th>\n",
              "      <td>0</td>\n",
              "      <td>0.907239</td>\n",
              "      <td>49</td>\n",
              "      <td>1</td>\n",
              "      <td>0.024926</td>\n",
              "      <td>63588.0</td>\n",
              "      <td>7</td>\n",
              "      <td>0</td>\n",
              "      <td>1</td>\n",
              "      <td>0</td>\n",
              "      <td>0.0</td>\n",
              "    </tr>\n",
              "  </tbody>\n",
              "</table>\n",
              "</div>"
            ],
            "text/plain": [
              "   SeriousDlqin2yrs  ...  NumberOfDependents\n",
              "0                 1  ...                 2.0\n",
              "1                 0  ...                 1.0\n",
              "2                 0  ...                 0.0\n",
              "3                 0  ...                 0.0\n",
              "4                 0  ...                 0.0\n",
              "\n",
              "[5 rows x 11 columns]"
            ]
          },
          "metadata": {
            "tags": []
          },
          "execution_count": 52
        }
      ]
    },
    {
      "cell_type": "code",
      "metadata": {
        "id": "mwPI-tcmAutc",
        "colab_type": "code",
        "colab": {}
      },
      "source": [
        "train['TotalNumberOfLoansandCreditLines'] = train['NumberOfOpenCreditLinesAndLoans'] + train['NumberRealEstateLoansOrLines']\n",
        "train.drop(columns = ['NumberOfOpenCreditLinesAndLoans','NumberRealEstateLoansOrLines'], inplace = True)"
      ],
      "execution_count": 53,
      "outputs": []
    },
    {
      "cell_type": "code",
      "metadata": {
        "id": "tZ5_ZVm4g4QJ",
        "colab_type": "code",
        "colab": {}
      },
      "source": [
        "test['TotalNumberOfLoansandCreditLines'] = test['NumberOfOpenCreditLinesAndLoans'] + test['NumberRealEstateLoansOrLines']\n",
        "test.drop(columns = ['NumberOfOpenCreditLinesAndLoans','NumberRealEstateLoansOrLines'], inplace = True)"
      ],
      "execution_count": 54,
      "outputs": []
    },
    {
      "cell_type": "code",
      "metadata": {
        "id": "Y9vXlDFbBEvs",
        "colab_type": "code",
        "colab": {
          "base_uri": "https://localhost:8080/",
          "height": 241
        },
        "outputId": "7db3adda-9d58-4064-c725-c0adeff19c75"
      },
      "source": [
        "train.head()"
      ],
      "execution_count": 55,
      "outputs": [
        {
          "output_type": "execute_result",
          "data": {
            "text/html": [
              "<div>\n",
              "<style scoped>\n",
              "    .dataframe tbody tr th:only-of-type {\n",
              "        vertical-align: middle;\n",
              "    }\n",
              "\n",
              "    .dataframe tbody tr th {\n",
              "        vertical-align: top;\n",
              "    }\n",
              "\n",
              "    .dataframe thead th {\n",
              "        text-align: right;\n",
              "    }\n",
              "</style>\n",
              "<table border=\"1\" class=\"dataframe\">\n",
              "  <thead>\n",
              "    <tr style=\"text-align: right;\">\n",
              "      <th></th>\n",
              "      <th>SeriousDlqin2yrs</th>\n",
              "      <th>RevolvingUtilizationOfUnsecuredLines</th>\n",
              "      <th>age</th>\n",
              "      <th>NumberOfTime30-59DaysPastDueNotWorse</th>\n",
              "      <th>DebtRatio</th>\n",
              "      <th>MonthlyIncome</th>\n",
              "      <th>NumberOfTimes90DaysLate</th>\n",
              "      <th>NumberOfTime60-89DaysPastDueNotWorse</th>\n",
              "      <th>NumberOfDependents</th>\n",
              "      <th>TotalNumberOfLoansandCreditLines</th>\n",
              "    </tr>\n",
              "  </thead>\n",
              "  <tbody>\n",
              "    <tr>\n",
              "      <th>0</th>\n",
              "      <td>1</td>\n",
              "      <td>0.766127</td>\n",
              "      <td>45</td>\n",
              "      <td>2</td>\n",
              "      <td>0.802982</td>\n",
              "      <td>9120.0</td>\n",
              "      <td>0</td>\n",
              "      <td>0</td>\n",
              "      <td>2.0</td>\n",
              "      <td>19</td>\n",
              "    </tr>\n",
              "    <tr>\n",
              "      <th>1</th>\n",
              "      <td>0</td>\n",
              "      <td>0.957151</td>\n",
              "      <td>40</td>\n",
              "      <td>0</td>\n",
              "      <td>0.121876</td>\n",
              "      <td>2600.0</td>\n",
              "      <td>0</td>\n",
              "      <td>0</td>\n",
              "      <td>1.0</td>\n",
              "      <td>4</td>\n",
              "    </tr>\n",
              "    <tr>\n",
              "      <th>2</th>\n",
              "      <td>0</td>\n",
              "      <td>0.658180</td>\n",
              "      <td>38</td>\n",
              "      <td>1</td>\n",
              "      <td>0.085113</td>\n",
              "      <td>3042.0</td>\n",
              "      <td>1</td>\n",
              "      <td>0</td>\n",
              "      <td>0.0</td>\n",
              "      <td>2</td>\n",
              "    </tr>\n",
              "    <tr>\n",
              "      <th>3</th>\n",
              "      <td>0</td>\n",
              "      <td>0.233810</td>\n",
              "      <td>30</td>\n",
              "      <td>0</td>\n",
              "      <td>0.036050</td>\n",
              "      <td>3300.0</td>\n",
              "      <td>0</td>\n",
              "      <td>0</td>\n",
              "      <td>0.0</td>\n",
              "      <td>5</td>\n",
              "    </tr>\n",
              "    <tr>\n",
              "      <th>4</th>\n",
              "      <td>0</td>\n",
              "      <td>0.907239</td>\n",
              "      <td>49</td>\n",
              "      <td>1</td>\n",
              "      <td>0.024926</td>\n",
              "      <td>63588.0</td>\n",
              "      <td>0</td>\n",
              "      <td>0</td>\n",
              "      <td>0.0</td>\n",
              "      <td>8</td>\n",
              "    </tr>\n",
              "  </tbody>\n",
              "</table>\n",
              "</div>"
            ],
            "text/plain": [
              "   SeriousDlqin2yrs  ...  TotalNumberOfLoansandCreditLines\n",
              "0                 1  ...                                19\n",
              "1                 0  ...                                 4\n",
              "2                 0  ...                                 2\n",
              "3                 0  ...                                 5\n",
              "4                 0  ...                                 8\n",
              "\n",
              "[5 rows x 10 columns]"
            ]
          },
          "metadata": {
            "tags": []
          },
          "execution_count": 55
        }
      ]
    },
    {
      "cell_type": "code",
      "metadata": {
        "id": "iwclEKLiC1KT",
        "colab_type": "code",
        "colab": {}
      },
      "source": [
        "train_y = train['SeriousDlqin2yrs']\n",
        "train.drop(columns = ['SeriousDlqin2yrs'], inplace=True)"
      ],
      "execution_count": 56,
      "outputs": []
    },
    {
      "cell_type": "code",
      "metadata": {
        "id": "lvP-TwkKOnyx",
        "colab_type": "code",
        "colab": {}
      },
      "source": [
        "test_y = test['SeriousDlqin2yrs']\n",
        "test.drop(columns = ['SeriousDlqin2yrs'], inplace=True)"
      ],
      "execution_count": 57,
      "outputs": []
    },
    {
      "cell_type": "code",
      "metadata": {
        "id": "MgAJmGBmguhU",
        "colab_type": "code",
        "colab": {}
      },
      "source": [
        "train['Number_of_times_upto_90days_late'] = train['NumberOfTime30-59DaysPastDueNotWorse'] + train['NumberOfTime60-89DaysPastDueNotWorse']\n",
        "train.drop(columns = ['NumberOfTime30-59DaysPastDueNotWorse', 'NumberOfTime60-89DaysPastDueNotWorse'], inplace = True)"
      ],
      "execution_count": 58,
      "outputs": []
    },
    {
      "cell_type": "code",
      "metadata": {
        "id": "Ep_6uWkFhrwe",
        "colab_type": "code",
        "colab": {}
      },
      "source": [
        "test['Number_of_times_upto_90days_late'] = test['NumberOfTime30-59DaysPastDueNotWorse'] + test['NumberOfTime60-89DaysPastDueNotWorse']\n",
        "test.drop(columns = ['NumberOfTime30-59DaysPastDueNotWorse', 'NumberOfTime60-89DaysPastDueNotWorse'], inplace = True)"
      ],
      "execution_count": 59,
      "outputs": []
    },
    {
      "cell_type": "code",
      "metadata": {
        "id": "yCaqaPe7iasj",
        "colab_type": "code",
        "colab": {
          "base_uri": "https://localhost:8080/",
          "height": 224
        },
        "outputId": "8c322d63-f8f8-4518-8dae-ad8057d335f1"
      },
      "source": [
        "train.head()"
      ],
      "execution_count": 60,
      "outputs": [
        {
          "output_type": "execute_result",
          "data": {
            "text/html": [
              "<div>\n",
              "<style scoped>\n",
              "    .dataframe tbody tr th:only-of-type {\n",
              "        vertical-align: middle;\n",
              "    }\n",
              "\n",
              "    .dataframe tbody tr th {\n",
              "        vertical-align: top;\n",
              "    }\n",
              "\n",
              "    .dataframe thead th {\n",
              "        text-align: right;\n",
              "    }\n",
              "</style>\n",
              "<table border=\"1\" class=\"dataframe\">\n",
              "  <thead>\n",
              "    <tr style=\"text-align: right;\">\n",
              "      <th></th>\n",
              "      <th>RevolvingUtilizationOfUnsecuredLines</th>\n",
              "      <th>age</th>\n",
              "      <th>DebtRatio</th>\n",
              "      <th>MonthlyIncome</th>\n",
              "      <th>NumberOfTimes90DaysLate</th>\n",
              "      <th>NumberOfDependents</th>\n",
              "      <th>TotalNumberOfLoansandCreditLines</th>\n",
              "      <th>Number_of_times_upto_90days_late</th>\n",
              "    </tr>\n",
              "  </thead>\n",
              "  <tbody>\n",
              "    <tr>\n",
              "      <th>0</th>\n",
              "      <td>0.766127</td>\n",
              "      <td>45</td>\n",
              "      <td>0.802982</td>\n",
              "      <td>9120.0</td>\n",
              "      <td>0</td>\n",
              "      <td>2.0</td>\n",
              "      <td>19</td>\n",
              "      <td>2</td>\n",
              "    </tr>\n",
              "    <tr>\n",
              "      <th>1</th>\n",
              "      <td>0.957151</td>\n",
              "      <td>40</td>\n",
              "      <td>0.121876</td>\n",
              "      <td>2600.0</td>\n",
              "      <td>0</td>\n",
              "      <td>1.0</td>\n",
              "      <td>4</td>\n",
              "      <td>0</td>\n",
              "    </tr>\n",
              "    <tr>\n",
              "      <th>2</th>\n",
              "      <td>0.658180</td>\n",
              "      <td>38</td>\n",
              "      <td>0.085113</td>\n",
              "      <td>3042.0</td>\n",
              "      <td>1</td>\n",
              "      <td>0.0</td>\n",
              "      <td>2</td>\n",
              "      <td>1</td>\n",
              "    </tr>\n",
              "    <tr>\n",
              "      <th>3</th>\n",
              "      <td>0.233810</td>\n",
              "      <td>30</td>\n",
              "      <td>0.036050</td>\n",
              "      <td>3300.0</td>\n",
              "      <td>0</td>\n",
              "      <td>0.0</td>\n",
              "      <td>5</td>\n",
              "      <td>0</td>\n",
              "    </tr>\n",
              "    <tr>\n",
              "      <th>4</th>\n",
              "      <td>0.907239</td>\n",
              "      <td>49</td>\n",
              "      <td>0.024926</td>\n",
              "      <td>63588.0</td>\n",
              "      <td>0</td>\n",
              "      <td>0.0</td>\n",
              "      <td>8</td>\n",
              "      <td>1</td>\n",
              "    </tr>\n",
              "  </tbody>\n",
              "</table>\n",
              "</div>"
            ],
            "text/plain": [
              "   RevolvingUtilizationOfUnsecuredLines  ...  Number_of_times_upto_90days_late\n",
              "0                              0.766127  ...                                 2\n",
              "1                              0.957151  ...                                 0\n",
              "2                              0.658180  ...                                 1\n",
              "3                              0.233810  ...                                 0\n",
              "4                              0.907239  ...                                 1\n",
              "\n",
              "[5 rows x 8 columns]"
            ]
          },
          "metadata": {
            "tags": []
          },
          "execution_count": 60
        }
      ]
    },
    {
      "cell_type": "markdown",
      "metadata": {
        "id": "se8QVkqJiyLf",
        "colab_type": "text"
      },
      "source": [
        "## Data Normalization and Preprocessing"
      ]
    },
    {
      "cell_type": "code",
      "metadata": {
        "id": "VBFZIN3eiiey",
        "colab_type": "code",
        "colab": {}
      },
      "source": [
        "from sklearn.preprocessing import StandardScaler, LabelEncoder, OneHotEncoder"
      ],
      "execution_count": 61,
      "outputs": []
    },
    {
      "cell_type": "code",
      "metadata": {
        "id": "0K2Rz_TnzDZ5",
        "colab_type": "code",
        "colab": {
          "base_uri": "https://localhost:8080/",
          "height": 224
        },
        "outputId": "f709b1b7-9717-450c-e88f-6cd36c207762"
      },
      "source": [
        "train.head()"
      ],
      "execution_count": 62,
      "outputs": [
        {
          "output_type": "execute_result",
          "data": {
            "text/html": [
              "<div>\n",
              "<style scoped>\n",
              "    .dataframe tbody tr th:only-of-type {\n",
              "        vertical-align: middle;\n",
              "    }\n",
              "\n",
              "    .dataframe tbody tr th {\n",
              "        vertical-align: top;\n",
              "    }\n",
              "\n",
              "    .dataframe thead th {\n",
              "        text-align: right;\n",
              "    }\n",
              "</style>\n",
              "<table border=\"1\" class=\"dataframe\">\n",
              "  <thead>\n",
              "    <tr style=\"text-align: right;\">\n",
              "      <th></th>\n",
              "      <th>RevolvingUtilizationOfUnsecuredLines</th>\n",
              "      <th>age</th>\n",
              "      <th>DebtRatio</th>\n",
              "      <th>MonthlyIncome</th>\n",
              "      <th>NumberOfTimes90DaysLate</th>\n",
              "      <th>NumberOfDependents</th>\n",
              "      <th>TotalNumberOfLoansandCreditLines</th>\n",
              "      <th>Number_of_times_upto_90days_late</th>\n",
              "    </tr>\n",
              "  </thead>\n",
              "  <tbody>\n",
              "    <tr>\n",
              "      <th>0</th>\n",
              "      <td>0.766127</td>\n",
              "      <td>45</td>\n",
              "      <td>0.802982</td>\n",
              "      <td>9120.0</td>\n",
              "      <td>0</td>\n",
              "      <td>2.0</td>\n",
              "      <td>19</td>\n",
              "      <td>2</td>\n",
              "    </tr>\n",
              "    <tr>\n",
              "      <th>1</th>\n",
              "      <td>0.957151</td>\n",
              "      <td>40</td>\n",
              "      <td>0.121876</td>\n",
              "      <td>2600.0</td>\n",
              "      <td>0</td>\n",
              "      <td>1.0</td>\n",
              "      <td>4</td>\n",
              "      <td>0</td>\n",
              "    </tr>\n",
              "    <tr>\n",
              "      <th>2</th>\n",
              "      <td>0.658180</td>\n",
              "      <td>38</td>\n",
              "      <td>0.085113</td>\n",
              "      <td>3042.0</td>\n",
              "      <td>1</td>\n",
              "      <td>0.0</td>\n",
              "      <td>2</td>\n",
              "      <td>1</td>\n",
              "    </tr>\n",
              "    <tr>\n",
              "      <th>3</th>\n",
              "      <td>0.233810</td>\n",
              "      <td>30</td>\n",
              "      <td>0.036050</td>\n",
              "      <td>3300.0</td>\n",
              "      <td>0</td>\n",
              "      <td>0.0</td>\n",
              "      <td>5</td>\n",
              "      <td>0</td>\n",
              "    </tr>\n",
              "    <tr>\n",
              "      <th>4</th>\n",
              "      <td>0.907239</td>\n",
              "      <td>49</td>\n",
              "      <td>0.024926</td>\n",
              "      <td>63588.0</td>\n",
              "      <td>0</td>\n",
              "      <td>0.0</td>\n",
              "      <td>8</td>\n",
              "      <td>1</td>\n",
              "    </tr>\n",
              "  </tbody>\n",
              "</table>\n",
              "</div>"
            ],
            "text/plain": [
              "   RevolvingUtilizationOfUnsecuredLines  ...  Number_of_times_upto_90days_late\n",
              "0                              0.766127  ...                                 2\n",
              "1                              0.957151  ...                                 0\n",
              "2                              0.658180  ...                                 1\n",
              "3                              0.233810  ...                                 0\n",
              "4                              0.907239  ...                                 1\n",
              "\n",
              "[5 rows x 8 columns]"
            ]
          },
          "metadata": {
            "tags": []
          },
          "execution_count": 62
        }
      ]
    },
    {
      "cell_type": "markdown",
      "metadata": {
        "id": "lm1nQoSsmjqK",
        "colab_type": "text"
      },
      "source": [
        "#### Standard Scaling of continuous features"
      ]
    },
    {
      "cell_type": "code",
      "metadata": {
        "id": "zX62-xMKkfGn",
        "colab_type": "code",
        "colab": {}
      },
      "source": [
        "train_cont_cols = train.loc[:,['RevolvingUtilizationOfUnsecuredLines', 'MonthlyIncome','DebtRatio']]\n",
        "test_cont_cols = test.loc[:,['RevolvingUtilizationOfUnsecuredLines', 'MonthlyIncome','DebtRatio']]\n",
        "\n",
        "ss = StandardScaler()\n",
        "ss_cols_train = pd.DataFrame(ss.fit_transform(train_cont_cols))\n",
        "ss_cols_test = pd.DataFrame(ss.fit_transform(test_cont_cols))"
      ],
      "execution_count": 63,
      "outputs": []
    },
    {
      "cell_type": "code",
      "metadata": {
        "id": "HsFdAmO5lSyv",
        "colab_type": "code",
        "colab": {}
      },
      "source": [
        "ss_cols_train.columns = ['Revolving_Utilization_Of_Unsecured_Lines', 'Monthly_Income', 'Debt_Ratio']\n",
        "ss_cols_test.columns = ['Revolving_Utilization_Of_Unsecured_Lines', 'Monthly_Income', 'Debt_Ratio']"
      ],
      "execution_count": 64,
      "outputs": []
    },
    {
      "cell_type": "code",
      "metadata": {
        "id": "OyRi7ltkw9-L",
        "colab_type": "code",
        "colab": {}
      },
      "source": [
        "train.drop(columns = ['RevolvingUtilizationOfUnsecuredLines', 'MonthlyIncome','DebtRatio'], inplace = True)"
      ],
      "execution_count": 65,
      "outputs": []
    },
    {
      "cell_type": "code",
      "metadata": {
        "id": "xSEOQyfd0KIa",
        "colab_type": "code",
        "colab": {}
      },
      "source": [
        "test.drop(columns = ['RevolvingUtilizationOfUnsecuredLines', 'MonthlyIncome','DebtRatio'], inplace = True)"
      ],
      "execution_count": 66,
      "outputs": []
    },
    {
      "cell_type": "markdown",
      "metadata": {
        "id": "l10fbDFCmrt_",
        "colab_type": "text"
      },
      "source": [
        "#### Label Encoding of Categorical columns"
      ]
    },
    {
      "cell_type": "code",
      "metadata": {
        "id": "Eal2nZ_cmBYJ",
        "colab_type": "code",
        "colab": {}
      },
      "source": [
        "le = LabelEncoder()\n",
        "\n",
        "train['NumberOfTimes90DaysLate'] = le.fit_transform(train['NumberOfTimes90DaysLate'])\n",
        "train['NumberOfDependents'] = le.fit_transform(train['NumberOfDependents'])\n",
        "train['TotalNumberOfLoansandCreditLines'] = le.fit_transform(train['TotalNumberOfLoansandCreditLines'])\n",
        "train['Number_of_times_upto_90days_late'] = le.fit_transform(train['Number_of_times_upto_90days_late'])\n",
        "\n",
        "test['NumberOfTimes90DaysLate'] = le.fit_transform(test['NumberOfTimes90DaysLate'])\n",
        "test['NumberOfDependents'] = le.fit_transform(test['NumberOfDependents'])\n",
        "test['TotalNumberOfLoansandCreditLines'] = le.fit_transform(test['TotalNumberOfLoansandCreditLines'])\n",
        "test['Number_of_times_upto_90days_late'] = le.fit_transform(test['Number_of_times_upto_90days_late'])"
      ],
      "execution_count": 67,
      "outputs": []
    },
    {
      "cell_type": "code",
      "metadata": {
        "id": "XchsJKo602Wp",
        "colab_type": "code",
        "colab": {
          "base_uri": "https://localhost:8080/",
          "height": 204
        },
        "outputId": "0326b9bc-f71f-4b27-84e9-cf1c68b20557"
      },
      "source": [
        "ss_cols_train.tail()"
      ],
      "execution_count": 68,
      "outputs": [
        {
          "output_type": "execute_result",
          "data": {
            "text/html": [
              "<div>\n",
              "<style scoped>\n",
              "    .dataframe tbody tr th:only-of-type {\n",
              "        vertical-align: middle;\n",
              "    }\n",
              "\n",
              "    .dataframe tbody tr th {\n",
              "        vertical-align: top;\n",
              "    }\n",
              "\n",
              "    .dataframe thead th {\n",
              "        text-align: right;\n",
              "    }\n",
              "</style>\n",
              "<table border=\"1\" class=\"dataframe\">\n",
              "  <thead>\n",
              "    <tr style=\"text-align: right;\">\n",
              "      <th></th>\n",
              "      <th>Revolving_Utilization_Of_Unsecured_Lines</th>\n",
              "      <th>Monthly_Income</th>\n",
              "      <th>Debt_Ratio</th>\n",
              "    </tr>\n",
              "  </thead>\n",
              "  <tbody>\n",
              "    <tr>\n",
              "      <th>93254</th>\n",
              "      <td>2.071006</td>\n",
              "      <td>-0.410865</td>\n",
              "      <td>-0.023385</td>\n",
              "    </tr>\n",
              "    <tr>\n",
              "      <th>93255</th>\n",
              "      <td>0.234427</td>\n",
              "      <td>-0.235774</td>\n",
              "      <td>0.205506</td>\n",
              "    </tr>\n",
              "    <tr>\n",
              "      <th>93256</th>\n",
              "      <td>-0.022698</td>\n",
              "      <td>-0.087557</td>\n",
              "      <td>1.311501</td>\n",
              "    </tr>\n",
              "    <tr>\n",
              "      <th>93257</th>\n",
              "      <td>-0.918911</td>\n",
              "      <td>-0.078598</td>\n",
              "      <td>-0.023385</td>\n",
              "    </tr>\n",
              "    <tr>\n",
              "      <th>93258</th>\n",
              "      <td>1.623365</td>\n",
              "      <td>0.087128</td>\n",
              "      <td>-0.341293</td>\n",
              "    </tr>\n",
              "  </tbody>\n",
              "</table>\n",
              "</div>"
            ],
            "text/plain": [
              "       Revolving_Utilization_Of_Unsecured_Lines  Monthly_Income  Debt_Ratio\n",
              "93254                                  2.071006       -0.410865   -0.023385\n",
              "93255                                  0.234427       -0.235774    0.205506\n",
              "93256                                 -0.022698       -0.087557    1.311501\n",
              "93257                                 -0.918911       -0.078598   -0.023385\n",
              "93258                                  1.623365        0.087128   -0.341293"
            ]
          },
          "metadata": {
            "tags": []
          },
          "execution_count": 68
        }
      ]
    },
    {
      "cell_type": "code",
      "metadata": {
        "id": "qTBntv_104fW",
        "colab_type": "code",
        "colab": {}
      },
      "source": [
        "train.reset_index(inplace = True)\n",
        "test.reset_index(inplace = True)"
      ],
      "execution_count": 69,
      "outputs": []
    },
    {
      "cell_type": "code",
      "metadata": {
        "id": "sd7ua-YM7W4i",
        "colab_type": "code",
        "colab": {}
      },
      "source": [
        "train.drop(columns = ['index'], inplace = True)\n",
        "test.drop(columns = ['index'], inplace = True)"
      ],
      "execution_count": 70,
      "outputs": []
    },
    {
      "cell_type": "code",
      "metadata": {
        "id": "olygCY8U75zx",
        "colab_type": "code",
        "colab": {}
      },
      "source": [
        "train_final = pd.concat(objs = [train,ss_cols_train], axis = 1)\n",
        "test_final = pd.concat(objs = [test, ss_cols_test], axis = 1)"
      ],
      "execution_count": 71,
      "outputs": []
    },
    {
      "cell_type": "markdown",
      "metadata": {
        "id": "E29jGERR_SVv",
        "colab_type": "text"
      },
      "source": [
        "## Model Building and Evaluation"
      ]
    },
    {
      "cell_type": "code",
      "metadata": {
        "id": "f5lfKTHm8IM-",
        "colab_type": "code",
        "colab": {}
      },
      "source": [
        "from sklearn.linear_model import LogisticRegression\n",
        "from sklearn import svm\n",
        "from sklearn.tree import DecisionTreeClassifier\n",
        "from sklearn.ensemble import RandomForestClassifier\n",
        "from sklearn.metrics import accuracy_score, confusion_matrix, classification_report, roc_auc_score, roc_curve, log_loss"
      ],
      "execution_count": 72,
      "outputs": []
    },
    {
      "cell_type": "code",
      "metadata": {
        "id": "m9fDMJdZzgYV",
        "colab_type": "code",
        "colab": {}
      },
      "source": [
        "random_state = np.random.RandomState(0)"
      ],
      "execution_count": 73,
      "outputs": []
    },
    {
      "cell_type": "markdown",
      "metadata": {
        "id": "E5mu8ufbr3GF",
        "colab_type": "text"
      },
      "source": [
        "### Logistic Regression"
      ]
    },
    {
      "cell_type": "code",
      "metadata": {
        "id": "KqBl-tLK89LB",
        "colab_type": "code",
        "colab": {}
      },
      "source": [
        "lr = LogisticRegression(max_iter = 200, random_state = random_state)\n",
        "model_lr = lr.fit(train_final,train_y)"
      ],
      "execution_count": 74,
      "outputs": []
    },
    {
      "cell_type": "code",
      "metadata": {
        "id": "L9V5-t0o9q3I",
        "colab_type": "code",
        "colab": {}
      },
      "source": [
        "pred_lr = model_lr.predict(test_final)"
      ],
      "execution_count": 75,
      "outputs": []
    },
    {
      "cell_type": "code",
      "metadata": {
        "id": "nx6YOh_m-LK1",
        "colab_type": "code",
        "colab": {
          "base_uri": "https://localhost:8080/",
          "height": 34
        },
        "outputId": "03dd9329-e894-483d-b74f-23013a61db9b"
      },
      "source": [
        "print(\"Accuracy(LR) : {:.2f}\".format(accuracy_score(test_y,pred_lr)))"
      ],
      "execution_count": 76,
      "outputs": [
        {
          "output_type": "stream",
          "text": [
            "Accuracy(LR) : 0.93\n"
          ],
          "name": "stdout"
        }
      ]
    },
    {
      "cell_type": "code",
      "metadata": {
        "id": "k9vyxvCrt5TT",
        "colab_type": "code",
        "colab": {
          "base_uri": "https://localhost:8080/",
          "height": 51
        },
        "outputId": "246620ce-bad3-4a64-e3ec-e9ba914556f7"
      },
      "source": [
        "confusion_matrix(test_y,pred_lr)"
      ],
      "execution_count": 77,
      "outputs": [
        {
          "output_type": "execute_result",
          "data": {
            "text/plain": [
              "array([[21535,   136],\n",
              "       [ 1436,   184]])"
            ]
          },
          "metadata": {
            "tags": []
          },
          "execution_count": 77
        }
      ]
    },
    {
      "cell_type": "code",
      "metadata": {
        "id": "IjHtNardtw_0",
        "colab_type": "code",
        "colab": {
          "base_uri": "https://localhost:8080/",
          "height": 170
        },
        "outputId": "04aba1f4-2b3d-4fe3-907c-f239611046be"
      },
      "source": [
        "print(classification_report(test_y,pred_lr))"
      ],
      "execution_count": 78,
      "outputs": [
        {
          "output_type": "stream",
          "text": [
            "              precision    recall  f1-score   support\n",
            "\n",
            "           0       0.94      0.99      0.96     21671\n",
            "           1       0.57      0.11      0.19      1620\n",
            "\n",
            "    accuracy                           0.93     23291\n",
            "   macro avg       0.76      0.55      0.58     23291\n",
            "weighted avg       0.91      0.93      0.91     23291\n",
            "\n"
          ],
          "name": "stdout"
        }
      ]
    },
    {
      "cell_type": "code",
      "metadata": {
        "id": "Ss0i9-aGu9-2",
        "colab_type": "code",
        "colab": {
          "base_uri": "https://localhost:8080/",
          "height": 34
        },
        "outputId": "609b30d9-f71f-4ca2-cc97-ede8d8fd3784"
      },
      "source": [
        "print(\"ROC AUC Score : {:.2f}\".format(roc_auc_score(test_y,pred_lr)))"
      ],
      "execution_count": 79,
      "outputs": [
        {
          "output_type": "stream",
          "text": [
            "ROC AUC Score : 0.55\n"
          ],
          "name": "stdout"
        }
      ]
    },
    {
      "cell_type": "code",
      "metadata": {
        "id": "xindwmRkx9OK",
        "colab_type": "code",
        "colab": {}
      },
      "source": [
        "prob_lr = model_lr.predict_proba(test_final)"
      ],
      "execution_count": 80,
      "outputs": []
    },
    {
      "cell_type": "code",
      "metadata": {
        "id": "oOqBwBehx-oF",
        "colab_type": "code",
        "colab": {
          "base_uri": "https://localhost:8080/",
          "height": 34
        },
        "outputId": "d6346c3d-9080-4818-a208-d3f4f2b60600"
      },
      "source": [
        "prob_lr = prob_lr[:,1]\n",
        "loss_lr = log_loss(test_y, prob_lr)\n",
        "print(\"Log Loss for Logistic Regression : {:.2f}\".format(loss_lr))"
      ],
      "execution_count": 81,
      "outputs": [
        {
          "output_type": "stream",
          "text": [
            "Log Loss for Logistic Regression : 0.21\n"
          ],
          "name": "stdout"
        }
      ]
    },
    {
      "cell_type": "markdown",
      "metadata": {
        "id": "gxa6bfgJ1mfY",
        "colab_type": "text"
      },
      "source": [
        "### Decision Trees"
      ]
    },
    {
      "cell_type": "code",
      "metadata": {
        "id": "ho-cnDJt1lg-",
        "colab_type": "code",
        "colab": {}
      },
      "source": [
        "dtc = DecisionTreeClassifier(max_depth=5, max_features=5, random_state = random_state)\n",
        "model_dtc = dtc.fit(train_final,train_y)"
      ],
      "execution_count": 82,
      "outputs": []
    },
    {
      "cell_type": "code",
      "metadata": {
        "id": "Cfnk79Wv1le6",
        "colab_type": "code",
        "colab": {}
      },
      "source": [
        "pred_dtc = model_dtc.predict(test_final)"
      ],
      "execution_count": 83,
      "outputs": []
    },
    {
      "cell_type": "code",
      "metadata": {
        "id": "rcmWdF7v2f2Z",
        "colab_type": "code",
        "colab": {
          "base_uri": "https://localhost:8080/",
          "height": 34
        },
        "outputId": "9fb31c14-69f1-4146-a76a-62c75c559332"
      },
      "source": [
        "print(\"Accuracy score(DTC) : {:.2f}\".format(accuracy_score(test_y,pred_dtc)))"
      ],
      "execution_count": 84,
      "outputs": [
        {
          "output_type": "stream",
          "text": [
            "Accuracy score(DTC) : 0.93\n"
          ],
          "name": "stdout"
        }
      ]
    },
    {
      "cell_type": "code",
      "metadata": {
        "id": "fCNGSmBW2iub",
        "colab_type": "code",
        "colab": {
          "base_uri": "https://localhost:8080/",
          "height": 51
        },
        "outputId": "5cf2e7be-9d3f-4ddc-8cf3-374cdbae5896"
      },
      "source": [
        "confusion_matrix(test_y,pred_dtc)"
      ],
      "execution_count": 85,
      "outputs": [
        {
          "output_type": "execute_result",
          "data": {
            "text/plain": [
              "array([[21418,   253],\n",
              "       [ 1357,   263]])"
            ]
          },
          "metadata": {
            "tags": []
          },
          "execution_count": 85
        }
      ]
    },
    {
      "cell_type": "code",
      "metadata": {
        "id": "ELc0RCyu45y5",
        "colab_type": "code",
        "colab": {
          "base_uri": "https://localhost:8080/",
          "height": 170
        },
        "outputId": "1b397842-df57-4174-d654-5bc0ded1eb2e"
      },
      "source": [
        "print(classification_report(test_y,pred_dtc))"
      ],
      "execution_count": 86,
      "outputs": [
        {
          "output_type": "stream",
          "text": [
            "              precision    recall  f1-score   support\n",
            "\n",
            "           0       0.94      0.99      0.96     21671\n",
            "           1       0.51      0.16      0.25      1620\n",
            "\n",
            "    accuracy                           0.93     23291\n",
            "   macro avg       0.73      0.58      0.61     23291\n",
            "weighted avg       0.91      0.93      0.91     23291\n",
            "\n"
          ],
          "name": "stdout"
        }
      ]
    },
    {
      "cell_type": "code",
      "metadata": {
        "id": "-9JyitUE4-7X",
        "colab_type": "code",
        "colab": {
          "base_uri": "https://localhost:8080/",
          "height": 34
        },
        "outputId": "f0b5ed3f-3363-4288-e0ef-f33191ed4938"
      },
      "source": [
        "print(\"ROC AUC score : {:.2f}\".format(roc_auc_score(test_y,pred_dtc)))"
      ],
      "execution_count": 87,
      "outputs": [
        {
          "output_type": "stream",
          "text": [
            "ROC AUC score : 0.58\n"
          ],
          "name": "stdout"
        }
      ]
    },
    {
      "cell_type": "code",
      "metadata": {
        "id": "GKSxu5RN0SKF",
        "colab_type": "code",
        "colab": {}
      },
      "source": [
        "prob_dtc = model_dtc.predict_proba(test_final)"
      ],
      "execution_count": 88,
      "outputs": []
    },
    {
      "cell_type": "code",
      "metadata": {
        "id": "ExxKnaLz0VQ4",
        "colab_type": "code",
        "colab": {
          "base_uri": "https://localhost:8080/",
          "height": 34
        },
        "outputId": "6d532bd2-5851-4296-d971-dd7c3743118e"
      },
      "source": [
        "prob_dtc = prob_dtc[:,1]\n",
        "loss_dtc = log_loss(test_y, prob_dtc)\n",
        "print(\"Log Loss for Decision Trees : {:.2f}\".format(loss_dtc))"
      ],
      "execution_count": 89,
      "outputs": [
        {
          "output_type": "stream",
          "text": [
            "Log Loss for Decision Trees : 0.20\n"
          ],
          "name": "stdout"
        }
      ]
    },
    {
      "cell_type": "markdown",
      "metadata": {
        "id": "LoPEf20b-7Ob",
        "colab_type": "text"
      },
      "source": [
        "### Random Forest Classifier"
      ]
    },
    {
      "cell_type": "code",
      "metadata": {
        "id": "wNc46NMkluoa",
        "colab_type": "code",
        "colab": {
          "base_uri": "https://localhost:8080/",
          "height": 34
        },
        "outputId": "38198341-db5b-4099-a281-fab59e39c488"
      },
      "source": [
        "train_final.shape"
      ],
      "execution_count": 90,
      "outputs": [
        {
          "output_type": "execute_result",
          "data": {
            "text/plain": [
              "(93259, 8)"
            ]
          },
          "metadata": {
            "tags": []
          },
          "execution_count": 90
        }
      ]
    },
    {
      "cell_type": "code",
      "metadata": {
        "id": "a_rKAi0B7Jtj",
        "colab_type": "code",
        "colab": {}
      },
      "source": [
        "rfc = RandomForestClassifier(n_estimators=200, max_features= 8, max_depth = 8, random_state = random_state)\n",
        "model_rfc = rfc.fit(train_final,train_y)"
      ],
      "execution_count": 91,
      "outputs": []
    },
    {
      "cell_type": "code",
      "metadata": {
        "id": "M6T6DJvh_6l3",
        "colab_type": "code",
        "colab": {}
      },
      "source": [
        "pred_rfc = model_rfc.predict(test_final)"
      ],
      "execution_count": 92,
      "outputs": []
    },
    {
      "cell_type": "code",
      "metadata": {
        "id": "iUlS-xogAC0S",
        "colab_type": "code",
        "colab": {
          "base_uri": "https://localhost:8080/",
          "height": 34
        },
        "outputId": "e8864904-e2db-47f9-c328-2ae64e5540dc"
      },
      "source": [
        "print(\"Accuracy(RFC) : {:.2f}\".format(accuracy_score(test_y,pred_rfc)))"
      ],
      "execution_count": 93,
      "outputs": [
        {
          "output_type": "stream",
          "text": [
            "Accuracy(RFC) : 0.93\n"
          ],
          "name": "stdout"
        }
      ]
    },
    {
      "cell_type": "code",
      "metadata": {
        "id": "YunaStJ6AF2Y",
        "colab_type": "code",
        "colab": {
          "base_uri": "https://localhost:8080/",
          "height": 51
        },
        "outputId": "3e16be50-4463-4b53-eaed-abe3f4be9274"
      },
      "source": [
        "confusion_matrix(test_y,pred_rfc)"
      ],
      "execution_count": 94,
      "outputs": [
        {
          "output_type": "execute_result",
          "data": {
            "text/plain": [
              "array([[21477,   194],\n",
              "       [ 1393,   227]])"
            ]
          },
          "metadata": {
            "tags": []
          },
          "execution_count": 94
        }
      ]
    },
    {
      "cell_type": "code",
      "metadata": {
        "id": "J6bM8wefAWGY",
        "colab_type": "code",
        "colab": {
          "base_uri": "https://localhost:8080/",
          "height": 170
        },
        "outputId": "0d6a8641-f340-47f6-fa32-30ea3acb56e4"
      },
      "source": [
        "print(classification_report(test_y,pred_rfc))"
      ],
      "execution_count": 95,
      "outputs": [
        {
          "output_type": "stream",
          "text": [
            "              precision    recall  f1-score   support\n",
            "\n",
            "           0       0.94      0.99      0.96     21671\n",
            "           1       0.54      0.14      0.22      1620\n",
            "\n",
            "    accuracy                           0.93     23291\n",
            "   macro avg       0.74      0.57      0.59     23291\n",
            "weighted avg       0.91      0.93      0.91     23291\n",
            "\n"
          ],
          "name": "stdout"
        }
      ]
    },
    {
      "cell_type": "code",
      "metadata": {
        "id": "Ug12RKz3Aftf",
        "colab_type": "code",
        "colab": {
          "base_uri": "https://localhost:8080/",
          "height": 34
        },
        "outputId": "da15831e-7446-487e-b8d1-97d621d0d742"
      },
      "source": [
        "print(\"ROC AUC score : {:.2f}\".format(roc_auc_score(test_y,pred_rfc)))"
      ],
      "execution_count": 96,
      "outputs": [
        {
          "output_type": "stream",
          "text": [
            "ROC AUC score : 0.57\n"
          ],
          "name": "stdout"
        }
      ]
    },
    {
      "cell_type": "code",
      "metadata": {
        "id": "NG0CqFs_014c",
        "colab_type": "code",
        "colab": {}
      },
      "source": [
        "prob_rfc = model_rfc.predict_proba(test_final)"
      ],
      "execution_count": 97,
      "outputs": []
    },
    {
      "cell_type": "code",
      "metadata": {
        "id": "xW-oDWBj07hb",
        "colab_type": "code",
        "colab": {
          "base_uri": "https://localhost:8080/",
          "height": 34
        },
        "outputId": "71ed0272-c8ab-4184-ab83-2b39375bc7a8"
      },
      "source": [
        "prob_rfc = prob_rfc[:,1]\n",
        "loss_rfc = log_loss(test_y, prob_rfc)\n",
        "print(\"Log Loss for Random Forest : {:.2f}\".format(loss_rfc))"
      ],
      "execution_count": 98,
      "outputs": [
        {
          "output_type": "stream",
          "text": [
            "Log Loss for Random Forest : 0.20\n"
          ],
          "name": "stdout"
        }
      ]
    }
  ]
}